{
 "cells": [
  {
   "cell_type": "markdown",
   "id": "ac7a0d8b",
   "metadata": {
    "papermill": {
     "duration": 0.010465,
     "end_time": "2023-06-30T17:23:33.853513",
     "exception": false,
     "start_time": "2023-06-30T17:23:33.843048",
     "status": "completed"
    },
    "tags": []
   },
   "source": [
    "**This notebook is an exercise in the [Intermediate Machine Learning](https://www.kaggle.com/learn/intermediate-machine-learning) course.  You can reference the tutorial at [this link](https://www.kaggle.com/alexisbcook/categorical-variables).**\n",
    "\n",
    "---\n"
   ]
  },
  {
   "cell_type": "markdown",
   "id": "edd09aff",
   "metadata": {
    "papermill": {
     "duration": 0.007724,
     "end_time": "2023-06-30T17:23:33.869555",
     "exception": false,
     "start_time": "2023-06-30T17:23:33.861831",
     "status": "completed"
    },
    "tags": []
   },
   "source": [
    "By encoding **categorical variables**, you'll obtain your best results thus far!\n",
    "\n",
    "# Setup\n",
    "\n",
    "The questions below will give you feedback on your work. Run the following cell to set up the feedback system."
   ]
  },
  {
   "cell_type": "code",
   "execution_count": 1,
   "id": "949b1ef7",
   "metadata": {
    "execution": {
     "iopub.execute_input": "2023-06-30T17:23:33.888486Z",
     "iopub.status.busy": "2023-06-30T17:23:33.887632Z",
     "iopub.status.idle": "2023-06-30T17:23:33.934156Z",
     "shell.execute_reply": "2023-06-30T17:23:33.933060Z"
    },
    "papermill": {
     "duration": 0.058691,
     "end_time": "2023-06-30T17:23:33.936582",
     "exception": false,
     "start_time": "2023-06-30T17:23:33.877891",
     "status": "completed"
    },
    "tags": []
   },
   "outputs": [
    {
     "name": "stdout",
     "output_type": "stream",
     "text": [
      "Setup Complete\n"
     ]
    }
   ],
   "source": [
    "# Set up code checking\n",
    "import os\n",
    "if not os.path.exists(\"../input/train.csv\"):\n",
    "    os.symlink(\"../input/home-data-for-ml-course/train.csv\", \"../input/train.csv\")  \n",
    "    os.symlink(\"../input/home-data-for-ml-course/test.csv\", \"../input/test.csv\") \n",
    "from learntools.core import binder\n",
    "binder.bind(globals())\n",
    "from learntools.ml_intermediate.ex3 import *\n",
    "print(\"Setup Complete\")"
   ]
  },
  {
   "cell_type": "markdown",
   "id": "b2d575f3",
   "metadata": {
    "papermill": {
     "duration": 0.00797,
     "end_time": "2023-06-30T17:23:33.952821",
     "exception": false,
     "start_time": "2023-06-30T17:23:33.944851",
     "status": "completed"
    },
    "tags": []
   },
   "source": [
    "In this exercise, you will work with data from the [Housing Prices Competition for Kaggle Learn Users](https://www.kaggle.com/c/home-data-for-ml-course). \n",
    "\n",
    "![Ames Housing dataset image](https://storage.googleapis.com/kaggle-media/learn/images/lTJVG4e.png)\n",
    "\n",
    "Run the next code cell without changes to load the training and validation sets in `X_train`, `X_valid`, `y_train`, and `y_valid`.  The test set is loaded in `X_test`."
   ]
  },
  {
   "cell_type": "code",
   "execution_count": 2,
   "id": "db4c709f",
   "metadata": {
    "execution": {
     "iopub.execute_input": "2023-06-30T17:23:33.970386Z",
     "iopub.status.busy": "2023-06-30T17:23:33.970024Z",
     "iopub.status.idle": "2023-06-30T17:23:35.381707Z",
     "shell.execute_reply": "2023-06-30T17:23:35.380633Z"
    },
    "papermill": {
     "duration": 1.423559,
     "end_time": "2023-06-30T17:23:35.384481",
     "exception": false,
     "start_time": "2023-06-30T17:23:33.960922",
     "status": "completed"
    },
    "tags": []
   },
   "outputs": [],
   "source": [
    "import pandas as pd\n",
    "from sklearn.model_selection import train_test_split\n",
    "\n",
    "# Read the data\n",
    "X = pd.read_csv('../input/train.csv', index_col='Id') \n",
    "X_test = pd.read_csv('../input/test.csv', index_col='Id')\n",
    "\n",
    "# Remove rows with missing target, separate target from predictors\n",
    "X.dropna(axis=0, subset=['SalePrice'], inplace=True)\n",
    "y = X.SalePrice\n",
    "X.drop(['SalePrice'], axis=1, inplace=True)\n",
    "\n",
    "# To keep things simple, we'll drop columns with missing values\n",
    "cols_with_missing = [col for col in X.columns if X[col].isnull().any()] \n",
    "X.drop(cols_with_missing, axis=1, inplace=True)\n",
    "X_test.drop(cols_with_missing, axis=1, inplace=True)\n",
    "\n",
    "# Break off validation set from training data\n",
    "X_train, X_valid, y_train, y_valid = train_test_split(X, y,\n",
    "                                                      train_size=0.8, test_size=0.2,\n",
    "                                                      random_state=0)"
   ]
  },
  {
   "cell_type": "markdown",
   "id": "04deb1ab",
   "metadata": {
    "papermill": {
     "duration": 0.007818,
     "end_time": "2023-06-30T17:23:35.400635",
     "exception": false,
     "start_time": "2023-06-30T17:23:35.392817",
     "status": "completed"
    },
    "tags": []
   },
   "source": [
    "Use the next code cell to print the first five rows of the data."
   ]
  },
  {
   "cell_type": "code",
   "execution_count": 3,
   "id": "e26e5054",
   "metadata": {
    "execution": {
     "iopub.execute_input": "2023-06-30T17:23:35.418398Z",
     "iopub.status.busy": "2023-06-30T17:23:35.417986Z",
     "iopub.status.idle": "2023-06-30T17:23:35.450575Z",
     "shell.execute_reply": "2023-06-30T17:23:35.449534Z"
    },
    "papermill": {
     "duration": 0.04411,
     "end_time": "2023-06-30T17:23:35.452808",
     "exception": false,
     "start_time": "2023-06-30T17:23:35.408698",
     "status": "completed"
    },
    "tags": []
   },
   "outputs": [
    {
     "data": {
      "text/html": [
       "<div>\n",
       "<style scoped>\n",
       "    .dataframe tbody tr th:only-of-type {\n",
       "        vertical-align: middle;\n",
       "    }\n",
       "\n",
       "    .dataframe tbody tr th {\n",
       "        vertical-align: top;\n",
       "    }\n",
       "\n",
       "    .dataframe thead th {\n",
       "        text-align: right;\n",
       "    }\n",
       "</style>\n",
       "<table border=\"1\" class=\"dataframe\">\n",
       "  <thead>\n",
       "    <tr style=\"text-align: right;\">\n",
       "      <th></th>\n",
       "      <th>MSSubClass</th>\n",
       "      <th>MSZoning</th>\n",
       "      <th>LotArea</th>\n",
       "      <th>Street</th>\n",
       "      <th>LotShape</th>\n",
       "      <th>LandContour</th>\n",
       "      <th>Utilities</th>\n",
       "      <th>LotConfig</th>\n",
       "      <th>LandSlope</th>\n",
       "      <th>Neighborhood</th>\n",
       "      <th>...</th>\n",
       "      <th>OpenPorchSF</th>\n",
       "      <th>EnclosedPorch</th>\n",
       "      <th>3SsnPorch</th>\n",
       "      <th>ScreenPorch</th>\n",
       "      <th>PoolArea</th>\n",
       "      <th>MiscVal</th>\n",
       "      <th>MoSold</th>\n",
       "      <th>YrSold</th>\n",
       "      <th>SaleType</th>\n",
       "      <th>SaleCondition</th>\n",
       "    </tr>\n",
       "    <tr>\n",
       "      <th>Id</th>\n",
       "      <th></th>\n",
       "      <th></th>\n",
       "      <th></th>\n",
       "      <th></th>\n",
       "      <th></th>\n",
       "      <th></th>\n",
       "      <th></th>\n",
       "      <th></th>\n",
       "      <th></th>\n",
       "      <th></th>\n",
       "      <th></th>\n",
       "      <th></th>\n",
       "      <th></th>\n",
       "      <th></th>\n",
       "      <th></th>\n",
       "      <th></th>\n",
       "      <th></th>\n",
       "      <th></th>\n",
       "      <th></th>\n",
       "      <th></th>\n",
       "      <th></th>\n",
       "    </tr>\n",
       "  </thead>\n",
       "  <tbody>\n",
       "    <tr>\n",
       "      <th>619</th>\n",
       "      <td>20</td>\n",
       "      <td>RL</td>\n",
       "      <td>11694</td>\n",
       "      <td>Pave</td>\n",
       "      <td>Reg</td>\n",
       "      <td>Lvl</td>\n",
       "      <td>AllPub</td>\n",
       "      <td>Inside</td>\n",
       "      <td>Gtl</td>\n",
       "      <td>NridgHt</td>\n",
       "      <td>...</td>\n",
       "      <td>108</td>\n",
       "      <td>0</td>\n",
       "      <td>0</td>\n",
       "      <td>260</td>\n",
       "      <td>0</td>\n",
       "      <td>0</td>\n",
       "      <td>7</td>\n",
       "      <td>2007</td>\n",
       "      <td>New</td>\n",
       "      <td>Partial</td>\n",
       "    </tr>\n",
       "    <tr>\n",
       "      <th>871</th>\n",
       "      <td>20</td>\n",
       "      <td>RL</td>\n",
       "      <td>6600</td>\n",
       "      <td>Pave</td>\n",
       "      <td>Reg</td>\n",
       "      <td>Lvl</td>\n",
       "      <td>AllPub</td>\n",
       "      <td>Inside</td>\n",
       "      <td>Gtl</td>\n",
       "      <td>NAmes</td>\n",
       "      <td>...</td>\n",
       "      <td>0</td>\n",
       "      <td>0</td>\n",
       "      <td>0</td>\n",
       "      <td>0</td>\n",
       "      <td>0</td>\n",
       "      <td>0</td>\n",
       "      <td>8</td>\n",
       "      <td>2009</td>\n",
       "      <td>WD</td>\n",
       "      <td>Normal</td>\n",
       "    </tr>\n",
       "    <tr>\n",
       "      <th>93</th>\n",
       "      <td>30</td>\n",
       "      <td>RL</td>\n",
       "      <td>13360</td>\n",
       "      <td>Pave</td>\n",
       "      <td>IR1</td>\n",
       "      <td>HLS</td>\n",
       "      <td>AllPub</td>\n",
       "      <td>Inside</td>\n",
       "      <td>Gtl</td>\n",
       "      <td>Crawfor</td>\n",
       "      <td>...</td>\n",
       "      <td>0</td>\n",
       "      <td>44</td>\n",
       "      <td>0</td>\n",
       "      <td>0</td>\n",
       "      <td>0</td>\n",
       "      <td>0</td>\n",
       "      <td>8</td>\n",
       "      <td>2009</td>\n",
       "      <td>WD</td>\n",
       "      <td>Normal</td>\n",
       "    </tr>\n",
       "    <tr>\n",
       "      <th>818</th>\n",
       "      <td>20</td>\n",
       "      <td>RL</td>\n",
       "      <td>13265</td>\n",
       "      <td>Pave</td>\n",
       "      <td>IR1</td>\n",
       "      <td>Lvl</td>\n",
       "      <td>AllPub</td>\n",
       "      <td>CulDSac</td>\n",
       "      <td>Gtl</td>\n",
       "      <td>Mitchel</td>\n",
       "      <td>...</td>\n",
       "      <td>59</td>\n",
       "      <td>0</td>\n",
       "      <td>0</td>\n",
       "      <td>0</td>\n",
       "      <td>0</td>\n",
       "      <td>0</td>\n",
       "      <td>7</td>\n",
       "      <td>2008</td>\n",
       "      <td>WD</td>\n",
       "      <td>Normal</td>\n",
       "    </tr>\n",
       "    <tr>\n",
       "      <th>303</th>\n",
       "      <td>20</td>\n",
       "      <td>RL</td>\n",
       "      <td>13704</td>\n",
       "      <td>Pave</td>\n",
       "      <td>IR1</td>\n",
       "      <td>Lvl</td>\n",
       "      <td>AllPub</td>\n",
       "      <td>Corner</td>\n",
       "      <td>Gtl</td>\n",
       "      <td>CollgCr</td>\n",
       "      <td>...</td>\n",
       "      <td>81</td>\n",
       "      <td>0</td>\n",
       "      <td>0</td>\n",
       "      <td>0</td>\n",
       "      <td>0</td>\n",
       "      <td>0</td>\n",
       "      <td>1</td>\n",
       "      <td>2006</td>\n",
       "      <td>WD</td>\n",
       "      <td>Normal</td>\n",
       "    </tr>\n",
       "  </tbody>\n",
       "</table>\n",
       "<p>5 rows × 60 columns</p>\n",
       "</div>"
      ],
      "text/plain": [
       "     MSSubClass MSZoning  LotArea Street LotShape LandContour Utilities  \\\n",
       "Id                                                                        \n",
       "619          20       RL    11694   Pave      Reg         Lvl    AllPub   \n",
       "871          20       RL     6600   Pave      Reg         Lvl    AllPub   \n",
       "93           30       RL    13360   Pave      IR1         HLS    AllPub   \n",
       "818          20       RL    13265   Pave      IR1         Lvl    AllPub   \n",
       "303          20       RL    13704   Pave      IR1         Lvl    AllPub   \n",
       "\n",
       "    LotConfig LandSlope Neighborhood  ... OpenPorchSF EnclosedPorch 3SsnPorch  \\\n",
       "Id                                    ...                                       \n",
       "619    Inside       Gtl      NridgHt  ...         108             0         0   \n",
       "871    Inside       Gtl        NAmes  ...           0             0         0   \n",
       "93     Inside       Gtl      Crawfor  ...           0            44         0   \n",
       "818   CulDSac       Gtl      Mitchel  ...          59             0         0   \n",
       "303    Corner       Gtl      CollgCr  ...          81             0         0   \n",
       "\n",
       "    ScreenPorch  PoolArea  MiscVal  MoSold  YrSold SaleType SaleCondition  \n",
       "Id                                                                         \n",
       "619         260         0        0       7    2007      New       Partial  \n",
       "871           0         0        0       8    2009       WD        Normal  \n",
       "93            0         0        0       8    2009       WD        Normal  \n",
       "818           0         0        0       7    2008       WD        Normal  \n",
       "303           0         0        0       1    2006       WD        Normal  \n",
       "\n",
       "[5 rows x 60 columns]"
      ]
     },
     "execution_count": 3,
     "metadata": {},
     "output_type": "execute_result"
    }
   ],
   "source": [
    "X_train.head()"
   ]
  },
  {
   "cell_type": "markdown",
   "id": "7fb30c0a",
   "metadata": {
    "papermill": {
     "duration": 0.008193,
     "end_time": "2023-06-30T17:23:35.469668",
     "exception": false,
     "start_time": "2023-06-30T17:23:35.461475",
     "status": "completed"
    },
    "tags": []
   },
   "source": [
    "Notice that the dataset contains both numerical and categorical variables.  You'll need to encode the categorical data before training a model.\n",
    "\n",
    "To compare different models, you'll use the same `score_dataset()` function from the tutorial.  This function reports the [mean absolute error](https://en.wikipedia.org/wiki/Mean_absolute_error) (MAE) from a random forest model."
   ]
  },
  {
   "cell_type": "code",
   "execution_count": 4,
   "id": "a5951c93",
   "metadata": {
    "execution": {
     "iopub.execute_input": "2023-06-30T17:23:35.488220Z",
     "iopub.status.busy": "2023-06-30T17:23:35.487818Z",
     "iopub.status.idle": "2023-06-30T17:23:35.827709Z",
     "shell.execute_reply": "2023-06-30T17:23:35.826616Z"
    },
    "papermill": {
     "duration": 0.351836,
     "end_time": "2023-06-30T17:23:35.829989",
     "exception": false,
     "start_time": "2023-06-30T17:23:35.478153",
     "status": "completed"
    },
    "tags": []
   },
   "outputs": [],
   "source": [
    "from sklearn.ensemble import RandomForestRegressor\n",
    "from sklearn.metrics import mean_absolute_error\n",
    "\n",
    "# function for comparing different approaches\n",
    "def score_dataset(X_train, X_valid, y_train, y_valid):\n",
    "    model = RandomForestRegressor(n_estimators=100, random_state=0)\n",
    "    model.fit(X_train, y_train)\n",
    "    preds = model.predict(X_valid)\n",
    "    return mean_absolute_error(y_valid, preds)"
   ]
  },
  {
   "cell_type": "markdown",
   "id": "6a3eeda2",
   "metadata": {
    "papermill": {
     "duration": 0.008503,
     "end_time": "2023-06-30T17:23:35.847417",
     "exception": false,
     "start_time": "2023-06-30T17:23:35.838914",
     "status": "completed"
    },
    "tags": []
   },
   "source": [
    "# Step 1: Drop columns with categorical data\n",
    "\n",
    "You'll get started with the most straightforward approach.  Use the code cell below to preprocess the data in `X_train` and `X_valid` to remove columns with categorical data.  Set the preprocessed DataFrames to `drop_X_train` and `drop_X_valid`, respectively.  "
   ]
  },
  {
   "cell_type": "code",
   "execution_count": 5,
   "id": "49aa1946",
   "metadata": {
    "execution": {
     "iopub.execute_input": "2023-06-30T17:23:35.866567Z",
     "iopub.status.busy": "2023-06-30T17:23:35.866151Z",
     "iopub.status.idle": "2023-06-30T17:23:35.881412Z",
     "shell.execute_reply": "2023-06-30T17:23:35.880222Z"
    },
    "papermill": {
     "duration": 0.027153,
     "end_time": "2023-06-30T17:23:35.883271",
     "exception": false,
     "start_time": "2023-06-30T17:23:35.856118",
     "status": "completed"
    },
    "tags": []
   },
   "outputs": [
    {
     "data": {
      "application/javascript": [
       "parent.postMessage({\"jupyterEvent\": \"custom.exercise_interaction\", \"data\": {\"outcomeType\": 1, \"valueTowardsCompletion\": 0.5, \"interactionType\": 1, \"questionType\": 2, \"questionId\": \"1_Drop\", \"learnToolsVersion\": \"0.3.4\", \"failureMessage\": \"\", \"exceptionClass\": \"\", \"trace\": \"\"}}, \"*\")"
      ],
      "text/plain": [
       "<IPython.core.display.Javascript object>"
      ]
     },
     "metadata": {},
     "output_type": "display_data"
    },
    {
     "data": {
      "text/markdown": [
       "<span style=\"color:#33cc33\">Correct</span>"
      ],
      "text/plain": [
       "Correct"
      ]
     },
     "metadata": {},
     "output_type": "display_data"
    }
   ],
   "source": [
    "# Fill in the lines below: drop columns in training and validation data\n",
    "categ_cols = (X_train.dtypes == 'object')\n",
    "\n",
    "categ_cols = (list(categ_cols[categ_cols].index))\n",
    "drop_X_train = X_train.drop(categ_cols, axis = 1)\n",
    "drop_X_valid = X_valid.drop(categ_cols, axis = 1)\n",
    "\n",
    "\n",
    "# Check your answers\n",
    "step_1.check()"
   ]
  },
  {
   "cell_type": "code",
   "execution_count": 6,
   "id": "e675e5d9",
   "metadata": {
    "execution": {
     "iopub.execute_input": "2023-06-30T17:23:35.902619Z",
     "iopub.status.busy": "2023-06-30T17:23:35.902217Z",
     "iopub.status.idle": "2023-06-30T17:23:35.906619Z",
     "shell.execute_reply": "2023-06-30T17:23:35.905612Z"
    },
    "papermill": {
     "duration": 0.016372,
     "end_time": "2023-06-30T17:23:35.908588",
     "exception": false,
     "start_time": "2023-06-30T17:23:35.892216",
     "status": "completed"
    },
    "tags": []
   },
   "outputs": [],
   "source": [
    "# Lines below will give you a hint or solution code\n",
    "#step_1.hint()\n",
    "#step_1.solution()"
   ]
  },
  {
   "cell_type": "markdown",
   "id": "6be88cd4",
   "metadata": {
    "papermill": {
     "duration": 0.008654,
     "end_time": "2023-06-30T17:23:35.926336",
     "exception": false,
     "start_time": "2023-06-30T17:23:35.917682",
     "status": "completed"
    },
    "tags": []
   },
   "source": [
    "Run the next code cell to get the MAE for this approach."
   ]
  },
  {
   "cell_type": "code",
   "execution_count": 7,
   "id": "8c66450e",
   "metadata": {
    "execution": {
     "iopub.execute_input": "2023-06-30T17:23:35.945922Z",
     "iopub.status.busy": "2023-06-30T17:23:35.945543Z",
     "iopub.status.idle": "2023-06-30T17:23:37.209779Z",
     "shell.execute_reply": "2023-06-30T17:23:37.208704Z"
    },
    "papermill": {
     "duration": 1.276584,
     "end_time": "2023-06-30T17:23:37.211905",
     "exception": false,
     "start_time": "2023-06-30T17:23:35.935321",
     "status": "completed"
    },
    "tags": []
   },
   "outputs": [
    {
     "name": "stdout",
     "output_type": "stream",
     "text": [
      "MAE from Approach 1 (Drop categorical variables):\n",
      "17837.82570776256\n"
     ]
    }
   ],
   "source": [
    "print(\"MAE from Approach 1 (Drop categorical variables):\")\n",
    "print(score_dataset(drop_X_train, drop_X_valid, y_train, y_valid))"
   ]
  },
  {
   "cell_type": "markdown",
   "id": "af7bb27a",
   "metadata": {
    "papermill": {
     "duration": 0.009581,
     "end_time": "2023-06-30T17:23:37.230737",
     "exception": false,
     "start_time": "2023-06-30T17:23:37.221156",
     "status": "completed"
    },
    "tags": []
   },
   "source": [
    "Before jumping into ordinal encoding, we'll investigate the dataset.  Specifically, we'll look at the `'Condition2'` column.  The code cell below prints the unique entries in both the training and validation sets."
   ]
  },
  {
   "cell_type": "code",
   "execution_count": 8,
   "id": "bb7ed832",
   "metadata": {
    "execution": {
     "iopub.execute_input": "2023-06-30T17:23:37.250431Z",
     "iopub.status.busy": "2023-06-30T17:23:37.250018Z",
     "iopub.status.idle": "2023-06-30T17:23:37.257011Z",
     "shell.execute_reply": "2023-06-30T17:23:37.256012Z"
    },
    "papermill": {
     "duration": 0.019069,
     "end_time": "2023-06-30T17:23:37.258792",
     "exception": false,
     "start_time": "2023-06-30T17:23:37.239723",
     "status": "completed"
    },
    "tags": []
   },
   "outputs": [
    {
     "name": "stdout",
     "output_type": "stream",
     "text": [
      "Unique values in 'Condition2' column in training data: ['Norm' 'PosA' 'Feedr' 'PosN' 'Artery' 'RRAe']\n",
      "\n",
      "Unique values in 'Condition2' column in validation data: ['Norm' 'RRAn' 'RRNn' 'Artery' 'Feedr' 'PosN']\n"
     ]
    }
   ],
   "source": [
    "print(\"Unique values in 'Condition2' column in training data:\", X_train['Condition2'].unique())\n",
    "print(\"\\nUnique values in 'Condition2' column in validation data:\", X_valid['Condition2'].unique())"
   ]
  },
  {
   "cell_type": "markdown",
   "id": "1e6729d7",
   "metadata": {
    "papermill": {
     "duration": 0.008755,
     "end_time": "2023-06-30T17:23:37.276574",
     "exception": false,
     "start_time": "2023-06-30T17:23:37.267819",
     "status": "completed"
    },
    "tags": []
   },
   "source": [
    "# Step 2: Ordinal encoding\n",
    "\n",
    "### Part A\n",
    "\n",
    "If you now write code to: \n",
    "- fit an ordinal encoder to the training data, and then \n",
    "- use it to transform both the training and validation data, \n",
    "\n",
    "you'll get an error.  Can you see why this is the case?  (_You'll need  to use the above output to answer this question._)"
   ]
  },
  {
   "cell_type": "code",
   "execution_count": 9,
   "id": "5d262981",
   "metadata": {
    "execution": {
     "iopub.execute_input": "2023-06-30T17:23:37.296606Z",
     "iopub.status.busy": "2023-06-30T17:23:37.295694Z",
     "iopub.status.idle": "2023-06-30T17:23:37.303117Z",
     "shell.execute_reply": "2023-06-30T17:23:37.302387Z"
    },
    "papermill": {
     "duration": 0.019563,
     "end_time": "2023-06-30T17:23:37.305117",
     "exception": false,
     "start_time": "2023-06-30T17:23:37.285554",
     "status": "completed"
    },
    "tags": []
   },
   "outputs": [
    {
     "data": {
      "application/javascript": [
       "parent.postMessage({\"jupyterEvent\": \"custom.exercise_interaction\", \"data\": {\"outcomeType\": 1, \"valueTowardsCompletion\": 0.5, \"interactionType\": 1, \"questionType\": 4, \"questionId\": \"2.1_LabelA\", \"learnToolsVersion\": \"0.3.4\", \"failureMessage\": \"\", \"exceptionClass\": \"\", \"trace\": \"\"}}, \"*\")"
      ],
      "text/plain": [
       "<IPython.core.display.Javascript object>"
      ]
     },
     "metadata": {},
     "output_type": "display_data"
    },
    {
     "data": {
      "text/markdown": [
       "<span style=\"color:#33cc33\">Correct:</span> \n",
       "\n",
       "Fitting an ordinal encoder to a column in the training data creates a corresponding integer-valued label for each unique value **that appears in the training data**. In the case that the validation data contains values that don't also appear in the training data, the encoder will throw an error, because these values won't have an integer assigned to them.  Notice that the `'Condition2'` column in the validation data contains the values `'RRAn'` and `'RRNn'`, but these don't appear in the training data -- thus, if we try to use an ordinal encoder with scikit-learn, the code will throw an error."
      ],
      "text/plain": [
       "Correct: \n",
       "\n",
       "Fitting an ordinal encoder to a column in the training data creates a corresponding integer-valued label for each unique value **that appears in the training data**. In the case that the validation data contains values that don't also appear in the training data, the encoder will throw an error, because these values won't have an integer assigned to them.  Notice that the `'Condition2'` column in the validation data contains the values `'RRAn'` and `'RRNn'`, but these don't appear in the training data -- thus, if we try to use an ordinal encoder with scikit-learn, the code will throw an error."
      ]
     },
     "metadata": {},
     "output_type": "display_data"
    }
   ],
   "source": [
    "# Check your answer (Run this code cell to receive credit!)\n",
    "step_2.a.check()"
   ]
  },
  {
   "cell_type": "code",
   "execution_count": 10,
   "id": "5d7b778f",
   "metadata": {
    "execution": {
     "iopub.execute_input": "2023-06-30T17:23:37.325696Z",
     "iopub.status.busy": "2023-06-30T17:23:37.325344Z",
     "iopub.status.idle": "2023-06-30T17:23:37.329241Z",
     "shell.execute_reply": "2023-06-30T17:23:37.328250Z"
    },
    "papermill": {
     "duration": 0.016708,
     "end_time": "2023-06-30T17:23:37.331366",
     "exception": false,
     "start_time": "2023-06-30T17:23:37.314658",
     "status": "completed"
    },
    "tags": []
   },
   "outputs": [],
   "source": [
    "#step_2.a.hint()"
   ]
  },
  {
   "cell_type": "markdown",
   "id": "2cd49468",
   "metadata": {
    "papermill": {
     "duration": 0.009064,
     "end_time": "2023-06-30T17:23:37.349962",
     "exception": false,
     "start_time": "2023-06-30T17:23:37.340898",
     "status": "completed"
    },
    "tags": []
   },
   "source": [
    "This is a common problem that you'll encounter with real-world data, and there are many approaches to fixing this issue.  For instance, you can write a custom ordinal encoder to deal with new categories.  The simplest approach, however, is to drop the problematic categorical columns.  \n",
    "\n",
    "Run the code cell below to save the problematic columns to a Python list `bad_label_cols`.  Likewise, columns that can be safely ordinal encoded are stored in `good_label_cols`."
   ]
  },
  {
   "cell_type": "code",
   "execution_count": 11,
   "id": "cca78678",
   "metadata": {
    "execution": {
     "iopub.execute_input": "2023-06-30T17:23:37.370760Z",
     "iopub.status.busy": "2023-06-30T17:23:37.370409Z",
     "iopub.status.idle": "2023-06-30T17:23:37.383101Z",
     "shell.execute_reply": "2023-06-30T17:23:37.382098Z"
    },
    "papermill": {
     "duration": 0.026344,
     "end_time": "2023-06-30T17:23:37.385827",
     "exception": false,
     "start_time": "2023-06-30T17:23:37.359483",
     "status": "completed"
    },
    "tags": []
   },
   "outputs": [
    {
     "name": "stdout",
     "output_type": "stream",
     "text": [
      "Categorical columns that will be ordinal encoded: ['MSZoning', 'Street', 'LotShape', 'LandContour', 'Utilities', 'LotConfig', 'LandSlope', 'Neighborhood', 'Condition1', 'BldgType', 'HouseStyle', 'RoofStyle', 'Exterior1st', 'Exterior2nd', 'ExterQual', 'ExterCond', 'Foundation', 'Heating', 'HeatingQC', 'CentralAir', 'KitchenQual', 'PavedDrive', 'SaleType', 'SaleCondition']\n",
      "\n",
      "Categorical columns that will be dropped from the dataset: ['Condition2', 'Functional', 'RoofMatl']\n"
     ]
    }
   ],
   "source": [
    "# Categorical columns in the training data\n",
    "object_cols = [col for col in X_train.columns if X_train[col].dtype == \"object\"]\n",
    "\n",
    "# Columns that can be safely ordinal encoded\n",
    "good_label_cols = [col for col in object_cols if \n",
    "                   set(X_valid[col]).issubset(set(X_train[col]))]\n",
    "        \n",
    "# Problematic columns that will be dropped from the dataset\n",
    "bad_label_cols = list(set(object_cols)-set(good_label_cols))\n",
    "        \n",
    "print('Categorical columns that will be ordinal encoded:', good_label_cols)\n",
    "print('\\nCategorical columns that will be dropped from the dataset:', bad_label_cols)"
   ]
  },
  {
   "cell_type": "markdown",
   "id": "7efedb9e",
   "metadata": {
    "papermill": {
     "duration": 0.009141,
     "end_time": "2023-06-30T17:23:37.404542",
     "exception": false,
     "start_time": "2023-06-30T17:23:37.395401",
     "status": "completed"
    },
    "tags": []
   },
   "source": [
    "### Part B\n",
    "\n",
    "Use the next code cell to ordinal encode the data in `X_train` and `X_valid`.  Set the preprocessed DataFrames to `label_X_train` and `label_X_valid`, respectively.  \n",
    "- We have provided code below to drop the categorical columns in `bad_label_cols` from the dataset. \n",
    "- You should ordinal encode the categorical columns in `good_label_cols`.  "
   ]
  },
  {
   "cell_type": "code",
   "execution_count": 12,
   "id": "eb90d67f",
   "metadata": {
    "execution": {
     "iopub.execute_input": "2023-06-30T17:23:37.424917Z",
     "iopub.status.busy": "2023-06-30T17:23:37.424570Z",
     "iopub.status.idle": "2023-06-30T17:23:37.468401Z",
     "shell.execute_reply": "2023-06-30T17:23:37.467553Z"
    },
    "papermill": {
     "duration": 0.056609,
     "end_time": "2023-06-30T17:23:37.470615",
     "exception": false,
     "start_time": "2023-06-30T17:23:37.414006",
     "status": "completed"
    },
    "tags": []
   },
   "outputs": [
    {
     "data": {
      "application/javascript": [
       "parent.postMessage({\"jupyterEvent\": \"custom.exercise_interaction\", \"data\": {\"outcomeType\": 1, \"valueTowardsCompletion\": 0.5, \"interactionType\": 1, \"questionType\": 2, \"questionId\": \"2.2_LabelB\", \"learnToolsVersion\": \"0.3.4\", \"failureMessage\": \"\", \"exceptionClass\": \"\", \"trace\": \"\"}}, \"*\")"
      ],
      "text/plain": [
       "<IPython.core.display.Javascript object>"
      ]
     },
     "metadata": {},
     "output_type": "display_data"
    },
    {
     "data": {
      "text/markdown": [
       "<span style=\"color:#33cc33\">Correct</span>"
      ],
      "text/plain": [
       "Correct"
      ]
     },
     "metadata": {},
     "output_type": "display_data"
    }
   ],
   "source": [
    "from sklearn.preprocessing import OrdinalEncoder\n",
    "\n",
    "# Drop categorical columns that will not be encoded\n",
    "label_X_train = X_train.drop(bad_label_cols, axis=1)\n",
    "label_X_valid = X_valid.drop(bad_label_cols, axis=1)\n",
    "\n",
    "# Apply ordinal encoder \n",
    "____ # Your code here\n",
    "encoder = OrdinalEncoder()\n",
    "label_X_train[good_label_cols] = encoder.fit_transform(X_train[good_label_cols])\n",
    "label_X_valid[good_label_cols] = encoder.transform(X_valid[good_label_cols])\n",
    "\n",
    "# Check your answer\n",
    "step_2.b.check()"
   ]
  },
  {
   "cell_type": "code",
   "execution_count": 13,
   "id": "fd318e53",
   "metadata": {
    "execution": {
     "iopub.execute_input": "2023-06-30T17:23:37.491663Z",
     "iopub.status.busy": "2023-06-30T17:23:37.491307Z",
     "iopub.status.idle": "2023-06-30T17:23:37.495135Z",
     "shell.execute_reply": "2023-06-30T17:23:37.494143Z"
    },
    "papermill": {
     "duration": 0.016843,
     "end_time": "2023-06-30T17:23:37.497259",
     "exception": false,
     "start_time": "2023-06-30T17:23:37.480416",
     "status": "completed"
    },
    "tags": []
   },
   "outputs": [],
   "source": [
    "# Lines below will give you a hint or solution code\n",
    "#step_2.b.hint()\n",
    "#step_2.b.solution()"
   ]
  },
  {
   "cell_type": "markdown",
   "id": "12240586",
   "metadata": {
    "papermill": {
     "duration": 0.009289,
     "end_time": "2023-06-30T17:23:37.516298",
     "exception": false,
     "start_time": "2023-06-30T17:23:37.507009",
     "status": "completed"
    },
    "tags": []
   },
   "source": [
    "Run the next code cell to get the MAE for this approach."
   ]
  },
  {
   "cell_type": "code",
   "execution_count": 14,
   "id": "d0464bfa",
   "metadata": {
    "execution": {
     "iopub.execute_input": "2023-06-30T17:23:37.537170Z",
     "iopub.status.busy": "2023-06-30T17:23:37.536401Z",
     "iopub.status.idle": "2023-06-30T17:23:39.110692Z",
     "shell.execute_reply": "2023-06-30T17:23:39.109502Z"
    },
    "papermill": {
     "duration": 1.587233,
     "end_time": "2023-06-30T17:23:39.112883",
     "exception": false,
     "start_time": "2023-06-30T17:23:37.525650",
     "status": "completed"
    },
    "tags": []
   },
   "outputs": [
    {
     "name": "stdout",
     "output_type": "stream",
     "text": [
      "MAE from Approach 2 (Ordinal Encoding):\n",
      "17098.01649543379\n"
     ]
    }
   ],
   "source": [
    "print(\"MAE from Approach 2 (Ordinal Encoding):\") \n",
    "print(score_dataset(label_X_train, label_X_valid, y_train, y_valid))"
   ]
  },
  {
   "cell_type": "markdown",
   "id": "bb6b8d6f",
   "metadata": {
    "papermill": {
     "duration": 0.010881,
     "end_time": "2023-06-30T17:23:39.134405",
     "exception": false,
     "start_time": "2023-06-30T17:23:39.123524",
     "status": "completed"
    },
    "tags": []
   },
   "source": [
    "So far, you've tried two different approaches to dealing with categorical variables.  And, you've seen that encoding categorical data yields better results than removing columns from the dataset.\n",
    "\n",
    "Soon, you'll try one-hot encoding.  Before then, there's one additional topic we need to cover.  Begin by running the next code cell without changes.  "
   ]
  },
  {
   "cell_type": "code",
   "execution_count": 15,
   "id": "c41eeab8",
   "metadata": {
    "execution": {
     "iopub.execute_input": "2023-06-30T17:23:39.156300Z",
     "iopub.status.busy": "2023-06-30T17:23:39.155690Z",
     "iopub.status.idle": "2023-06-30T17:23:39.166683Z",
     "shell.execute_reply": "2023-06-30T17:23:39.165931Z"
    },
    "papermill": {
     "duration": 0.024016,
     "end_time": "2023-06-30T17:23:39.168539",
     "exception": false,
     "start_time": "2023-06-30T17:23:39.144523",
     "status": "completed"
    },
    "tags": []
   },
   "outputs": [
    {
     "data": {
      "text/plain": [
       "[('Street', 2),\n",
       " ('Utilities', 2),\n",
       " ('CentralAir', 2),\n",
       " ('LandSlope', 3),\n",
       " ('PavedDrive', 3),\n",
       " ('LotShape', 4),\n",
       " ('LandContour', 4),\n",
       " ('ExterQual', 4),\n",
       " ('KitchenQual', 4),\n",
       " ('MSZoning', 5),\n",
       " ('LotConfig', 5),\n",
       " ('BldgType', 5),\n",
       " ('ExterCond', 5),\n",
       " ('HeatingQC', 5),\n",
       " ('Condition2', 6),\n",
       " ('RoofStyle', 6),\n",
       " ('Foundation', 6),\n",
       " ('Heating', 6),\n",
       " ('Functional', 6),\n",
       " ('SaleCondition', 6),\n",
       " ('RoofMatl', 7),\n",
       " ('HouseStyle', 8),\n",
       " ('Condition1', 9),\n",
       " ('SaleType', 9),\n",
       " ('Exterior1st', 15),\n",
       " ('Exterior2nd', 16),\n",
       " ('Neighborhood', 25)]"
      ]
     },
     "execution_count": 15,
     "metadata": {},
     "output_type": "execute_result"
    }
   ],
   "source": [
    "# Get number of unique entries in each column with categorical data\n",
    "object_nunique = list(map(lambda col: X_train[col].nunique(), object_cols))\n",
    "d = dict(zip(object_cols, object_nunique))\n",
    "\n",
    "# Print number of unique entries by column, in ascending order\n",
    "sorted(d.items(), key=lambda x: x[1])"
   ]
  },
  {
   "cell_type": "markdown",
   "id": "6ec711b9",
   "metadata": {
    "papermill": {
     "duration": 0.009986,
     "end_time": "2023-06-30T17:23:39.188521",
     "exception": false,
     "start_time": "2023-06-30T17:23:39.178535",
     "status": "completed"
    },
    "tags": []
   },
   "source": [
    "# Step 3: Investigating cardinality\n",
    "\n",
    "### Part A\n",
    "\n",
    "The output above shows, for each column with categorical data, the number of unique values in the column.  For instance, the `'Street'` column in the training data has two unique values: `'Grvl'` and `'Pave'`, corresponding to a gravel road and a paved road, respectively.\n",
    "\n",
    "We refer to the number of unique entries of a categorical variable as the **cardinality** of that categorical variable.  For instance, the `'Street'` variable has cardinality 2.\n",
    "\n",
    "Use the output above to answer the questions below."
   ]
  },
  {
   "cell_type": "code",
   "execution_count": 16,
   "id": "d9726653",
   "metadata": {
    "execution": {
     "iopub.execute_input": "2023-06-30T17:23:39.210959Z",
     "iopub.status.busy": "2023-06-30T17:23:39.210345Z",
     "iopub.status.idle": "2023-06-30T17:23:39.218875Z",
     "shell.execute_reply": "2023-06-30T17:23:39.217859Z"
    },
    "papermill": {
     "duration": 0.022067,
     "end_time": "2023-06-30T17:23:39.220917",
     "exception": false,
     "start_time": "2023-06-30T17:23:39.198850",
     "status": "completed"
    },
    "tags": []
   },
   "outputs": [
    {
     "data": {
      "application/javascript": [
       "parent.postMessage({\"jupyterEvent\": \"custom.exercise_interaction\", \"data\": {\"outcomeType\": 1, \"valueTowardsCompletion\": 0.5, \"interactionType\": 1, \"questionType\": 1, \"questionId\": \"3.1_CardinalityA\", \"learnToolsVersion\": \"0.3.4\", \"failureMessage\": \"\", \"exceptionClass\": \"\", \"trace\": \"\"}}, \"*\")"
      ],
      "text/plain": [
       "<IPython.core.display.Javascript object>"
      ]
     },
     "metadata": {},
     "output_type": "display_data"
    },
    {
     "data": {
      "text/markdown": [
       "<span style=\"color:#33cc33\">Correct</span>"
      ],
      "text/plain": [
       "Correct"
      ]
     },
     "metadata": {},
     "output_type": "display_data"
    }
   ],
   "source": [
    "# Fill in the line below: How many categorical variables in the training data\n",
    "# have cardinality greater than 10?\n",
    "count = 0\n",
    "for card in d:\n",
    "    if d[card] > 10:\n",
    "        count += 1\n",
    "high_cardinality_numcols = count\n",
    "\n",
    "# Fill in the line below: How many columns are needed to one-hot encode the \n",
    "# 'Neighborhood' variable in the training data?\n",
    "num_cols_neighborhood = d['Neighborhood']\n",
    "\n",
    "# Check your answers\n",
    "step_3.a.check()"
   ]
  },
  {
   "cell_type": "code",
   "execution_count": 17,
   "id": "756f129d",
   "metadata": {
    "execution": {
     "iopub.execute_input": "2023-06-30T17:23:39.244789Z",
     "iopub.status.busy": "2023-06-30T17:23:39.244420Z",
     "iopub.status.idle": "2023-06-30T17:23:39.248218Z",
     "shell.execute_reply": "2023-06-30T17:23:39.247316Z"
    },
    "papermill": {
     "duration": 0.019004,
     "end_time": "2023-06-30T17:23:39.250162",
     "exception": false,
     "start_time": "2023-06-30T17:23:39.231158",
     "status": "completed"
    },
    "tags": []
   },
   "outputs": [],
   "source": [
    "# Lines below will give you a hint or solution code\n",
    "#step_3.a.hint()\n",
    "#step_3.a.solution()"
   ]
  },
  {
   "cell_type": "markdown",
   "id": "a3ac970d",
   "metadata": {
    "papermill": {
     "duration": 0.01026,
     "end_time": "2023-06-30T17:23:39.271057",
     "exception": false,
     "start_time": "2023-06-30T17:23:39.260797",
     "status": "completed"
    },
    "tags": []
   },
   "source": [
    "### Part B\n",
    "\n",
    "For large datasets with many rows, one-hot encoding can greatly expand the size of the dataset.  For this reason, we typically will only one-hot encode columns with relatively low cardinality.  Then, high cardinality columns can either be dropped from the dataset, or we can use ordinal encoding.\n",
    "\n",
    "As an example, consider a dataset with 10,000 rows, and containing one categorical column with 100 unique entries.  \n",
    "- If this column is replaced with the corresponding one-hot encoding, how many entries are added to the dataset?  \n",
    "- If we instead replace the column with the ordinal encoding, how many entries are added?  \n",
    "\n",
    "Use your answers to fill in the lines below."
   ]
  },
  {
   "cell_type": "code",
   "execution_count": 18,
   "id": "bb5bede5",
   "metadata": {
    "execution": {
     "iopub.execute_input": "2023-06-30T17:23:39.293896Z",
     "iopub.status.busy": "2023-06-30T17:23:39.293265Z",
     "iopub.status.idle": "2023-06-30T17:23:39.300655Z",
     "shell.execute_reply": "2023-06-30T17:23:39.299976Z"
    },
    "papermill": {
     "duration": 0.021057,
     "end_time": "2023-06-30T17:23:39.302423",
     "exception": false,
     "start_time": "2023-06-30T17:23:39.281366",
     "status": "completed"
    },
    "tags": []
   },
   "outputs": [
    {
     "data": {
      "application/javascript": [
       "parent.postMessage({\"jupyterEvent\": \"custom.exercise_interaction\", \"data\": {\"outcomeType\": 1, \"valueTowardsCompletion\": 0.5, \"interactionType\": 1, \"questionType\": 1, \"questionId\": \"3.2_CardinalityB\", \"learnToolsVersion\": \"0.3.4\", \"failureMessage\": \"\", \"exceptionClass\": \"\", \"trace\": \"\"}}, \"*\")"
      ],
      "text/plain": [
       "<IPython.core.display.Javascript object>"
      ]
     },
     "metadata": {},
     "output_type": "display_data"
    },
    {
     "data": {
      "text/markdown": [
       "<span style=\"color:#33cc33\">Correct</span>"
      ],
      "text/plain": [
       "Correct"
      ]
     },
     "metadata": {},
     "output_type": "display_data"
    }
   ],
   "source": [
    "# Fill in the line below: How many entries are added to the dataset by \n",
    "# replacing the column with a one-hot encoding?\n",
    "OH_entries_added = 100*10000- 10000\n",
    "\n",
    "# Fill in the line below: How many entries are added to the dataset by\n",
    "# replacing the column with an ordinal encoding?\n",
    "label_entries_added = 0\n",
    "\n",
    "# Check your answers\n",
    "step_3.b.check()"
   ]
  },
  {
   "cell_type": "code",
   "execution_count": 19,
   "id": "db08c7f2",
   "metadata": {
    "execution": {
     "iopub.execute_input": "2023-06-30T17:23:39.325156Z",
     "iopub.status.busy": "2023-06-30T17:23:39.324543Z",
     "iopub.status.idle": "2023-06-30T17:23:39.327927Z",
     "shell.execute_reply": "2023-06-30T17:23:39.327290Z"
    },
    "papermill": {
     "duration": 0.016826,
     "end_time": "2023-06-30T17:23:39.329686",
     "exception": false,
     "start_time": "2023-06-30T17:23:39.312860",
     "status": "completed"
    },
    "tags": []
   },
   "outputs": [],
   "source": [
    "# Lines below will give you a hint or solution code\n",
    "#step_3.b.hint()\n",
    "#step_3.b.solution()"
   ]
  },
  {
   "cell_type": "markdown",
   "id": "16e2d6f0",
   "metadata": {
    "papermill": {
     "duration": 0.010104,
     "end_time": "2023-06-30T17:23:39.350310",
     "exception": false,
     "start_time": "2023-06-30T17:23:39.340206",
     "status": "completed"
    },
    "tags": []
   },
   "source": [
    "Next, you'll experiment with one-hot encoding.  But, instead of encoding all of the categorical variables in the dataset, you'll only create a one-hot encoding for columns with cardinality less than 10.\n",
    "\n",
    "Run the code cell below without changes to set `low_cardinality_cols` to a Python list containing the columns that will be one-hot encoded.  Likewise, `high_cardinality_cols` contains a list of categorical columns that will be dropped from the dataset."
   ]
  },
  {
   "cell_type": "code",
   "execution_count": 20,
   "id": "213030f4",
   "metadata": {
    "execution": {
     "iopub.execute_input": "2023-06-30T17:23:39.373167Z",
     "iopub.status.busy": "2023-06-30T17:23:39.372534Z",
     "iopub.status.idle": "2023-06-30T17:23:39.381480Z",
     "shell.execute_reply": "2023-06-30T17:23:39.380660Z"
    },
    "papermill": {
     "duration": 0.022812,
     "end_time": "2023-06-30T17:23:39.383466",
     "exception": false,
     "start_time": "2023-06-30T17:23:39.360654",
     "status": "completed"
    },
    "tags": []
   },
   "outputs": [
    {
     "name": "stdout",
     "output_type": "stream",
     "text": [
      "Categorical columns that will be one-hot encoded: ['MSZoning', 'Street', 'LotShape', 'LandContour', 'Utilities', 'LotConfig', 'LandSlope', 'Condition1', 'Condition2', 'BldgType', 'HouseStyle', 'RoofStyle', 'RoofMatl', 'ExterQual', 'ExterCond', 'Foundation', 'Heating', 'HeatingQC', 'CentralAir', 'KitchenQual', 'Functional', 'PavedDrive', 'SaleType', 'SaleCondition']\n",
      "\n",
      "Categorical columns that will be dropped from the dataset: ['Neighborhood', 'Exterior2nd', 'Exterior1st']\n"
     ]
    }
   ],
   "source": [
    "# Columns that will be one-hot encoded\n",
    "low_cardinality_cols = [col for col in object_cols if X_train[col].nunique() < 10]\n",
    "\n",
    "# Columns that will be dropped from the dataset\n",
    "high_cardinality_cols = list(set(object_cols)-set(low_cardinality_cols))\n",
    "\n",
    "print('Categorical columns that will be one-hot encoded:', low_cardinality_cols)\n",
    "print('\\nCategorical columns that will be dropped from the dataset:', high_cardinality_cols)"
   ]
  },
  {
   "cell_type": "markdown",
   "id": "f26d9dd0",
   "metadata": {
    "papermill": {
     "duration": 0.010357,
     "end_time": "2023-06-30T17:23:39.404532",
     "exception": false,
     "start_time": "2023-06-30T17:23:39.394175",
     "status": "completed"
    },
    "tags": []
   },
   "source": [
    "# Step 4: One-hot encoding\n",
    "\n",
    "Use the next code cell to one-hot encode the data in `X_train` and `X_valid`.  Set the preprocessed DataFrames to `OH_X_train` and `OH_X_valid`, respectively.  \n",
    "- The full list of categorical columns in the dataset can be found in the Python list `object_cols`.\n",
    "- You should only one-hot encode the categorical columns in `low_cardinality_cols`.  All other categorical columns should be dropped from the dataset. "
   ]
  },
  {
   "cell_type": "code",
   "execution_count": 21,
   "id": "fe124215",
   "metadata": {
    "execution": {
     "iopub.execute_input": "2023-06-30T17:23:39.427494Z",
     "iopub.status.busy": "2023-06-30T17:23:39.427062Z",
     "iopub.status.idle": "2023-06-30T17:23:39.475712Z",
     "shell.execute_reply": "2023-06-30T17:23:39.474992Z"
    },
    "papermill": {
     "duration": 0.062439,
     "end_time": "2023-06-30T17:23:39.477687",
     "exception": false,
     "start_time": "2023-06-30T17:23:39.415248",
     "status": "completed"
    },
    "tags": []
   },
   "outputs": [
    {
     "name": "stderr",
     "output_type": "stream",
     "text": [
      "/opt/conda/lib/python3.10/site-packages/sklearn/preprocessing/_encoders.py:868: FutureWarning: `sparse` was renamed to `sparse_output` in version 1.2 and will be removed in 1.4. `sparse_output` is ignored unless you leave `sparse` to its default value.\n",
      "  warnings.warn(\n"
     ]
    },
    {
     "data": {
      "application/javascript": [
       "parent.postMessage({\"jupyterEvent\": \"custom.exercise_interaction\", \"data\": {\"outcomeType\": 1, \"valueTowardsCompletion\": 0.5, \"interactionType\": 1, \"questionType\": 2, \"questionId\": \"4_OneHot\", \"learnToolsVersion\": \"0.3.4\", \"failureMessage\": \"\", \"exceptionClass\": \"\", \"trace\": \"\"}}, \"*\")"
      ],
      "text/plain": [
       "<IPython.core.display.Javascript object>"
      ]
     },
     "metadata": {},
     "output_type": "display_data"
    },
    {
     "data": {
      "text/markdown": [
       "<span style=\"color:#33cc33\">Correct</span>"
      ],
      "text/plain": [
       "Correct"
      ]
     },
     "metadata": {},
     "output_type": "display_data"
    }
   ],
   "source": [
    "from sklearn.preprocessing import OneHotEncoder\n",
    "\n",
    "# Use as many lines of code as you need!\n",
    "OH_encoder = OneHotEncoder(handle_unknown = 'ignore', sparse = False)\n",
    "OH_X_train = pd.DataFrame(OH_encoder.fit_transform(X_train[low_cardinality_cols])) # Your code here\n",
    "OH_X_valid = pd.DataFrame(OH_encoder.transform(X_valid[low_cardinality_cols])) # Your code here\n",
    "\n",
    "OH_X_train.index = X_train.index\n",
    "OH_X_valid.index = X_valid.index\n",
    "\n",
    "num_X_train = X_train.drop(object_cols, axis = 1)\n",
    "num_X_valid = X_valid.drop(object_cols, axis = 1)\n",
    "\n",
    "num_cols = list(set(X_train.columns) - set(low_cardinality_cols))\n",
    "OH_X_train = pd.concat([num_X_train,OH_X_train], axis = 1)\n",
    "OH_X_valid = pd.concat([num_X_valid,OH_X_valid], axis = 1)\n",
    "\n",
    "OH_X_train.columns = OH_X_train.columns.astype(str)\n",
    "OH_X_valid.columns = OH_X_valid.columns.astype(str)\n",
    "# Check your answer\n",
    "step_4.check()"
   ]
  },
  {
   "cell_type": "code",
   "execution_count": 22,
   "id": "945f2fac",
   "metadata": {
    "execution": {
     "iopub.execute_input": "2023-06-30T17:23:39.502030Z",
     "iopub.status.busy": "2023-06-30T17:23:39.501362Z",
     "iopub.status.idle": "2023-06-30T17:23:39.505337Z",
     "shell.execute_reply": "2023-06-30T17:23:39.504403Z"
    },
    "papermill": {
     "duration": 0.018637,
     "end_time": "2023-06-30T17:23:39.507330",
     "exception": false,
     "start_time": "2023-06-30T17:23:39.488693",
     "status": "completed"
    },
    "tags": []
   },
   "outputs": [],
   "source": [
    "# Lines below will give you a hint or solution code\n",
    "#step_4.hint()\n",
    "#step_4.solution()"
   ]
  },
  {
   "cell_type": "markdown",
   "id": "21d227f2",
   "metadata": {
    "papermill": {
     "duration": 0.010549,
     "end_time": "2023-06-30T17:23:39.529028",
     "exception": false,
     "start_time": "2023-06-30T17:23:39.518479",
     "status": "completed"
    },
    "tags": []
   },
   "source": [
    "Run the next code cell to get the MAE for this approach."
   ]
  },
  {
   "cell_type": "code",
   "execution_count": 23,
   "id": "d4d2c4a3",
   "metadata": {
    "execution": {
     "iopub.execute_input": "2023-06-30T17:23:39.552606Z",
     "iopub.status.busy": "2023-06-30T17:23:39.551943Z",
     "iopub.status.idle": "2023-06-30T17:23:41.560036Z",
     "shell.execute_reply": "2023-06-30T17:23:41.558470Z"
    },
    "papermill": {
     "duration": 2.022559,
     "end_time": "2023-06-30T17:23:41.562343",
     "exception": false,
     "start_time": "2023-06-30T17:23:39.539784",
     "status": "completed"
    },
    "tags": []
   },
   "outputs": [
    {
     "name": "stdout",
     "output_type": "stream",
     "text": [
      "MAE from Approach 3 (One-Hot Encoding):\n",
      "17525.345719178084\n"
     ]
    }
   ],
   "source": [
    "print(\"MAE from Approach 3 (One-Hot Encoding):\") \n",
    "print(score_dataset(OH_X_train, OH_X_valid, y_train, y_valid))"
   ]
  },
  {
   "cell_type": "markdown",
   "id": "158a0c25",
   "metadata": {
    "papermill": {
     "duration": 0.010956,
     "end_time": "2023-06-30T17:23:41.584397",
     "exception": false,
     "start_time": "2023-06-30T17:23:41.573441",
     "status": "completed"
    },
    "tags": []
   },
   "source": [
    "# Generate test predictions and submit your results\n",
    "\n",
    "After you complete Step 4, if you'd like to use what you've learned to submit your results to the leaderboard, you'll need to preprocess the test data before generating predictions.\n",
    "\n",
    "**This step is completely optional, and you do not need to submit results to the leaderboard to successfully complete the exercise.**\n",
    "\n",
    "Check out the previous exercise if you need help with remembering how to [join the competition](https://www.kaggle.com/c/home-data-for-ml-course) or save your results to CSV.  Once you have generated a file with your results, follow the instructions below:\n",
    "1. Begin by clicking on the **Save Version** button in the top right corner of the window.  This will generate a pop-up window.  \n",
    "2. Ensure that the **Save and Run All** option is selected, and then click on the **Save** button.\n",
    "3. This generates a window in the bottom left corner of the notebook.  After it has finished running, click on the number to the right of the **Save Version** button.  This pulls up a list of versions on the right of the screen.  Click on the ellipsis **(...)** to the right of the most recent version, and select **Open in Viewer**.  This brings you into view mode of the same page. You will need to scroll down to get back to these instructions.\n",
    "4. Click on the **Data** tab near the top of the screen.  Then, click on the file you would like to submit, and click on the **Submit** button to submit your results to the leaderboard.\n",
    "\n",
    "You have now successfully submitted to the competition!\n",
    "\n",
    "If you want to keep working to improve your performance, select the **Edit** button in the top right of the screen. Then you can change your code and repeat the process. There's a lot of room to improve, and you will climb up the leaderboard as you work.\n"
   ]
  },
  {
   "cell_type": "code",
   "execution_count": 24,
   "id": "3e32ebd8",
   "metadata": {
    "execution": {
     "iopub.execute_input": "2023-06-30T17:23:41.607693Z",
     "iopub.status.busy": "2023-06-30T17:23:41.607310Z",
     "iopub.status.idle": "2023-06-30T17:23:41.611379Z",
     "shell.execute_reply": "2023-06-30T17:23:41.610509Z"
    },
    "papermill": {
     "duration": 0.018163,
     "end_time": "2023-06-30T17:23:41.613377",
     "exception": false,
     "start_time": "2023-06-30T17:23:41.595214",
     "status": "completed"
    },
    "tags": []
   },
   "outputs": [],
   "source": [
    "# (Optional) Your code here"
   ]
  },
  {
   "cell_type": "markdown",
   "id": "6f9b55fa",
   "metadata": {
    "papermill": {
     "duration": 0.011168,
     "end_time": "2023-06-30T17:23:41.635684",
     "exception": false,
     "start_time": "2023-06-30T17:23:41.624516",
     "status": "completed"
    },
    "tags": []
   },
   "source": [
    "# Keep going\n",
    "\n",
    "With missing value handling and categorical encoding, your modeling process is getting complex. This complexity gets worse when you want to save your model to use in the future. The key to managing this complexity is something called **pipelines**. \n",
    "\n",
    "**[Learn to use pipelines](https://www.kaggle.com/alexisbcook/pipelines)** to preprocess datasets with categorical variables, missing values and any other messiness your data throws at you."
   ]
  },
  {
   "cell_type": "markdown",
   "id": "a60f95ec",
   "metadata": {
    "papermill": {
     "duration": 0.010501,
     "end_time": "2023-06-30T17:23:41.657061",
     "exception": false,
     "start_time": "2023-06-30T17:23:41.646560",
     "status": "completed"
    },
    "tags": []
   },
   "source": [
    "---\n",
    "\n",
    "\n",
    "\n",
    "\n",
    "*Have questions or comments? Visit the [course discussion forum](https://www.kaggle.com/learn/intermediate-machine-learning/discussion) to chat with other learners.*"
   ]
  }
 ],
 "metadata": {
  "kernelspec": {
   "display_name": "Python 3",
   "language": "python",
   "name": "python3"
  },
  "language_info": {
   "codemirror_mode": {
    "name": "ipython",
    "version": 3
   },
   "file_extension": ".py",
   "mimetype": "text/x-python",
   "name": "python",
   "nbconvert_exporter": "python",
   "pygments_lexer": "ipython3",
   "version": "3.10.10"
  },
  "papermill": {
   "default_parameters": {},
   "duration": 18.406237,
   "end_time": "2023-06-30T17:23:42.488560",
   "environment_variables": {},
   "exception": null,
   "input_path": "__notebook__.ipynb",
   "output_path": "__notebook__.ipynb",
   "parameters": {},
   "start_time": "2023-06-30T17:23:24.082323",
   "version": "2.4.0"
  }
 },
 "nbformat": 4,
 "nbformat_minor": 5
}
