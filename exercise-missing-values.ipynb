{
 "cells": [
  {
   "cell_type": "markdown",
   "id": "2ee857c6",
   "metadata": {
    "papermill": {
     "duration": 0.009813,
     "end_time": "2023-06-30T17:17:36.789794",
     "exception": false,
     "start_time": "2023-06-30T17:17:36.779981",
     "status": "completed"
    },
    "tags": []
   },
   "source": [
    "**This notebook is an exercise in the [Intermediate Machine Learning](https://www.kaggle.com/learn/intermediate-machine-learning) course.  You can reference the tutorial at [this link](https://www.kaggle.com/alexisbcook/missing-values).**\n",
    "\n",
    "---\n"
   ]
  },
  {
   "cell_type": "markdown",
   "id": "4946efc2",
   "metadata": {
    "papermill": {
     "duration": 0.007524,
     "end_time": "2023-06-30T17:17:36.805346",
     "exception": false,
     "start_time": "2023-06-30T17:17:36.797822",
     "status": "completed"
    },
    "tags": []
   },
   "source": [
    "Now it's your turn to test your new knowledge of **missing values** handling. You'll probably find it makes a big difference.\n",
    "\n",
    "# Setup\n",
    "\n",
    "The questions will give you feedback on your work. Run the following cell to set up the feedback system."
   ]
  },
  {
   "cell_type": "code",
   "execution_count": 1,
   "id": "b6fb6729",
   "metadata": {
    "execution": {
     "iopub.execute_input": "2023-06-30T17:17:36.822937Z",
     "iopub.status.busy": "2023-06-30T17:17:36.821821Z",
     "iopub.status.idle": "2023-06-30T17:17:36.866365Z",
     "shell.execute_reply": "2023-06-30T17:17:36.865360Z"
    },
    "papermill": {
     "duration": 0.056022,
     "end_time": "2023-06-30T17:17:36.868922",
     "exception": false,
     "start_time": "2023-06-30T17:17:36.812900",
     "status": "completed"
    },
    "tags": []
   },
   "outputs": [
    {
     "name": "stdout",
     "output_type": "stream",
     "text": [
      "Setup Complete\n"
     ]
    }
   ],
   "source": [
    "# Set up code checking\n",
    "import os\n",
    "if not os.path.exists(\"../input/train.csv\"):\n",
    "    os.symlink(\"../input/home-data-for-ml-course/train.csv\", \"../input/train.csv\")  \n",
    "    os.symlink(\"../input/home-data-for-ml-course/test.csv\", \"../input/test.csv\") \n",
    "from learntools.core import binder\n",
    "binder.bind(globals())\n",
    "from learntools.ml_intermediate.ex2 import *\n",
    "print(\"Setup Complete\")"
   ]
  },
  {
   "cell_type": "markdown",
   "id": "bbee0a1b",
   "metadata": {
    "papermill": {
     "duration": 0.007257,
     "end_time": "2023-06-30T17:17:36.884030",
     "exception": false,
     "start_time": "2023-06-30T17:17:36.876773",
     "status": "completed"
    },
    "tags": []
   },
   "source": [
    "In this exercise, you will work with data from the [Housing Prices Competition for Kaggle Learn Users](https://www.kaggle.com/c/home-data-for-ml-course). \n",
    "\n",
    "![Ames Housing dataset image](https://storage.googleapis.com/kaggle-media/learn/images/lTJVG4e.png)\n",
    "\n",
    "Run the next code cell without changes to load the training and validation sets in `X_train`, `X_valid`, `y_train`, and `y_valid`.  The test set is loaded in `X_test`."
   ]
  },
  {
   "cell_type": "code",
   "execution_count": 2,
   "id": "43a1c251",
   "metadata": {
    "execution": {
     "iopub.execute_input": "2023-06-30T17:17:36.900517Z",
     "iopub.status.busy": "2023-06-30T17:17:36.900136Z",
     "iopub.status.idle": "2023-06-30T17:17:38.225227Z",
     "shell.execute_reply": "2023-06-30T17:17:38.223860Z"
    },
    "papermill": {
     "duration": 1.337073,
     "end_time": "2023-06-30T17:17:38.228526",
     "exception": false,
     "start_time": "2023-06-30T17:17:36.891453",
     "status": "completed"
    },
    "tags": []
   },
   "outputs": [],
   "source": [
    "import pandas as pd\n",
    "from sklearn.model_selection import train_test_split\n",
    "\n",
    "# Read the data\n",
    "X_full = pd.read_csv('../input/train.csv', index_col='Id')\n",
    "X_test_full = pd.read_csv('../input/test.csv', index_col='Id')\n",
    "\n",
    "# Remove rows with missing target, separate target from predictors\n",
    "X_full.dropna(axis=0, subset=['SalePrice'], inplace=True)\n",
    "y = X_full.SalePrice\n",
    "X_full.drop(['SalePrice'], axis=1, inplace=True)\n",
    "\n",
    "# To keep things simple, we'll use only numerical predictors\n",
    "X = X_full.select_dtypes(exclude=['object'])\n",
    "X_test = X_test_full.select_dtypes(exclude=['object'])\n",
    "\n",
    "# Break off validation set from training data\n",
    "X_train, X_valid, y_train, y_valid = train_test_split(X, y, train_size=0.8, test_size=0.2,\n",
    "                                                      random_state=0)"
   ]
  },
  {
   "cell_type": "markdown",
   "id": "f821cdb8",
   "metadata": {
    "papermill": {
     "duration": 0.007548,
     "end_time": "2023-06-30T17:17:38.244623",
     "exception": false,
     "start_time": "2023-06-30T17:17:38.237075",
     "status": "completed"
    },
    "tags": []
   },
   "source": [
    "Use the next code cell to print the first five rows of the data."
   ]
  },
  {
   "cell_type": "code",
   "execution_count": 3,
   "id": "d444813c",
   "metadata": {
    "execution": {
     "iopub.execute_input": "2023-06-30T17:17:38.261628Z",
     "iopub.status.busy": "2023-06-30T17:17:38.261225Z",
     "iopub.status.idle": "2023-06-30T17:17:38.292098Z",
     "shell.execute_reply": "2023-06-30T17:17:38.291094Z"
    },
    "papermill": {
     "duration": 0.041835,
     "end_time": "2023-06-30T17:17:38.294183",
     "exception": false,
     "start_time": "2023-06-30T17:17:38.252348",
     "status": "completed"
    },
    "tags": []
   },
   "outputs": [
    {
     "data": {
      "text/html": [
       "<div>\n",
       "<style scoped>\n",
       "    .dataframe tbody tr th:only-of-type {\n",
       "        vertical-align: middle;\n",
       "    }\n",
       "\n",
       "    .dataframe tbody tr th {\n",
       "        vertical-align: top;\n",
       "    }\n",
       "\n",
       "    .dataframe thead th {\n",
       "        text-align: right;\n",
       "    }\n",
       "</style>\n",
       "<table border=\"1\" class=\"dataframe\">\n",
       "  <thead>\n",
       "    <tr style=\"text-align: right;\">\n",
       "      <th></th>\n",
       "      <th>MSSubClass</th>\n",
       "      <th>LotFrontage</th>\n",
       "      <th>LotArea</th>\n",
       "      <th>OverallQual</th>\n",
       "      <th>OverallCond</th>\n",
       "      <th>YearBuilt</th>\n",
       "      <th>YearRemodAdd</th>\n",
       "      <th>MasVnrArea</th>\n",
       "      <th>BsmtFinSF1</th>\n",
       "      <th>BsmtFinSF2</th>\n",
       "      <th>...</th>\n",
       "      <th>GarageArea</th>\n",
       "      <th>WoodDeckSF</th>\n",
       "      <th>OpenPorchSF</th>\n",
       "      <th>EnclosedPorch</th>\n",
       "      <th>3SsnPorch</th>\n",
       "      <th>ScreenPorch</th>\n",
       "      <th>PoolArea</th>\n",
       "      <th>MiscVal</th>\n",
       "      <th>MoSold</th>\n",
       "      <th>YrSold</th>\n",
       "    </tr>\n",
       "    <tr>\n",
       "      <th>Id</th>\n",
       "      <th></th>\n",
       "      <th></th>\n",
       "      <th></th>\n",
       "      <th></th>\n",
       "      <th></th>\n",
       "      <th></th>\n",
       "      <th></th>\n",
       "      <th></th>\n",
       "      <th></th>\n",
       "      <th></th>\n",
       "      <th></th>\n",
       "      <th></th>\n",
       "      <th></th>\n",
       "      <th></th>\n",
       "      <th></th>\n",
       "      <th></th>\n",
       "      <th></th>\n",
       "      <th></th>\n",
       "      <th></th>\n",
       "      <th></th>\n",
       "      <th></th>\n",
       "    </tr>\n",
       "  </thead>\n",
       "  <tbody>\n",
       "    <tr>\n",
       "      <th>619</th>\n",
       "      <td>20</td>\n",
       "      <td>90.0</td>\n",
       "      <td>11694</td>\n",
       "      <td>9</td>\n",
       "      <td>5</td>\n",
       "      <td>2007</td>\n",
       "      <td>2007</td>\n",
       "      <td>452.0</td>\n",
       "      <td>48</td>\n",
       "      <td>0</td>\n",
       "      <td>...</td>\n",
       "      <td>774</td>\n",
       "      <td>0</td>\n",
       "      <td>108</td>\n",
       "      <td>0</td>\n",
       "      <td>0</td>\n",
       "      <td>260</td>\n",
       "      <td>0</td>\n",
       "      <td>0</td>\n",
       "      <td>7</td>\n",
       "      <td>2007</td>\n",
       "    </tr>\n",
       "    <tr>\n",
       "      <th>871</th>\n",
       "      <td>20</td>\n",
       "      <td>60.0</td>\n",
       "      <td>6600</td>\n",
       "      <td>5</td>\n",
       "      <td>5</td>\n",
       "      <td>1962</td>\n",
       "      <td>1962</td>\n",
       "      <td>0.0</td>\n",
       "      <td>0</td>\n",
       "      <td>0</td>\n",
       "      <td>...</td>\n",
       "      <td>308</td>\n",
       "      <td>0</td>\n",
       "      <td>0</td>\n",
       "      <td>0</td>\n",
       "      <td>0</td>\n",
       "      <td>0</td>\n",
       "      <td>0</td>\n",
       "      <td>0</td>\n",
       "      <td>8</td>\n",
       "      <td>2009</td>\n",
       "    </tr>\n",
       "    <tr>\n",
       "      <th>93</th>\n",
       "      <td>30</td>\n",
       "      <td>80.0</td>\n",
       "      <td>13360</td>\n",
       "      <td>5</td>\n",
       "      <td>7</td>\n",
       "      <td>1921</td>\n",
       "      <td>2006</td>\n",
       "      <td>0.0</td>\n",
       "      <td>713</td>\n",
       "      <td>0</td>\n",
       "      <td>...</td>\n",
       "      <td>432</td>\n",
       "      <td>0</td>\n",
       "      <td>0</td>\n",
       "      <td>44</td>\n",
       "      <td>0</td>\n",
       "      <td>0</td>\n",
       "      <td>0</td>\n",
       "      <td>0</td>\n",
       "      <td>8</td>\n",
       "      <td>2009</td>\n",
       "    </tr>\n",
       "    <tr>\n",
       "      <th>818</th>\n",
       "      <td>20</td>\n",
       "      <td>NaN</td>\n",
       "      <td>13265</td>\n",
       "      <td>8</td>\n",
       "      <td>5</td>\n",
       "      <td>2002</td>\n",
       "      <td>2002</td>\n",
       "      <td>148.0</td>\n",
       "      <td>1218</td>\n",
       "      <td>0</td>\n",
       "      <td>...</td>\n",
       "      <td>857</td>\n",
       "      <td>150</td>\n",
       "      <td>59</td>\n",
       "      <td>0</td>\n",
       "      <td>0</td>\n",
       "      <td>0</td>\n",
       "      <td>0</td>\n",
       "      <td>0</td>\n",
       "      <td>7</td>\n",
       "      <td>2008</td>\n",
       "    </tr>\n",
       "    <tr>\n",
       "      <th>303</th>\n",
       "      <td>20</td>\n",
       "      <td>118.0</td>\n",
       "      <td>13704</td>\n",
       "      <td>7</td>\n",
       "      <td>5</td>\n",
       "      <td>2001</td>\n",
       "      <td>2002</td>\n",
       "      <td>150.0</td>\n",
       "      <td>0</td>\n",
       "      <td>0</td>\n",
       "      <td>...</td>\n",
       "      <td>843</td>\n",
       "      <td>468</td>\n",
       "      <td>81</td>\n",
       "      <td>0</td>\n",
       "      <td>0</td>\n",
       "      <td>0</td>\n",
       "      <td>0</td>\n",
       "      <td>0</td>\n",
       "      <td>1</td>\n",
       "      <td>2006</td>\n",
       "    </tr>\n",
       "  </tbody>\n",
       "</table>\n",
       "<p>5 rows × 36 columns</p>\n",
       "</div>"
      ],
      "text/plain": [
       "     MSSubClass  LotFrontage  LotArea  OverallQual  OverallCond  YearBuilt  \\\n",
       "Id                                                                           \n",
       "619          20         90.0    11694            9            5       2007   \n",
       "871          20         60.0     6600            5            5       1962   \n",
       "93           30         80.0    13360            5            7       1921   \n",
       "818          20          NaN    13265            8            5       2002   \n",
       "303          20        118.0    13704            7            5       2001   \n",
       "\n",
       "     YearRemodAdd  MasVnrArea  BsmtFinSF1  BsmtFinSF2  ...  GarageArea  \\\n",
       "Id                                                     ...               \n",
       "619          2007       452.0          48           0  ...         774   \n",
       "871          1962         0.0           0           0  ...         308   \n",
       "93           2006         0.0         713           0  ...         432   \n",
       "818          2002       148.0        1218           0  ...         857   \n",
       "303          2002       150.0           0           0  ...         843   \n",
       "\n",
       "     WoodDeckSF  OpenPorchSF  EnclosedPorch  3SsnPorch  ScreenPorch  PoolArea  \\\n",
       "Id                                                                              \n",
       "619           0          108              0          0          260         0   \n",
       "871           0            0              0          0            0         0   \n",
       "93            0            0             44          0            0         0   \n",
       "818         150           59              0          0            0         0   \n",
       "303         468           81              0          0            0         0   \n",
       "\n",
       "     MiscVal  MoSold  YrSold  \n",
       "Id                            \n",
       "619        0       7    2007  \n",
       "871        0       8    2009  \n",
       "93         0       8    2009  \n",
       "818        0       7    2008  \n",
       "303        0       1    2006  \n",
       "\n",
       "[5 rows x 36 columns]"
      ]
     },
     "execution_count": 3,
     "metadata": {},
     "output_type": "execute_result"
    }
   ],
   "source": [
    "X_train.head()"
   ]
  },
  {
   "cell_type": "markdown",
   "id": "68adaa08",
   "metadata": {
    "papermill": {
     "duration": 0.007904,
     "end_time": "2023-06-30T17:17:38.310321",
     "exception": false,
     "start_time": "2023-06-30T17:17:38.302417",
     "status": "completed"
    },
    "tags": []
   },
   "source": [
    "You can already see a few missing values in the first several rows.  In the next step, you'll obtain a more comprehensive understanding of the missing values in the dataset.\n",
    "\n",
    "# Step 1: Preliminary investigation\n",
    "\n",
    "Run the code cell below without changes."
   ]
  },
  {
   "cell_type": "code",
   "execution_count": 4,
   "id": "1d3cb0df",
   "metadata": {
    "execution": {
     "iopub.execute_input": "2023-06-30T17:17:38.327964Z",
     "iopub.status.busy": "2023-06-30T17:17:38.327288Z",
     "iopub.status.idle": "2023-06-30T17:17:38.335541Z",
     "shell.execute_reply": "2023-06-30T17:17:38.334413Z"
    },
    "papermill": {
     "duration": 0.019169,
     "end_time": "2023-06-30T17:17:38.337504",
     "exception": false,
     "start_time": "2023-06-30T17:17:38.318335",
     "status": "completed"
    },
    "tags": []
   },
   "outputs": [
    {
     "name": "stdout",
     "output_type": "stream",
     "text": [
      "(1168, 36)\n",
      "LotFrontage    212\n",
      "MasVnrArea       6\n",
      "GarageYrBlt     58\n",
      "dtype: int64\n"
     ]
    }
   ],
   "source": [
    "# Shape of training data (num_rows, num_columns)\n",
    "print(X_train.shape)\n",
    "\n",
    "# Number of missing values in each column of training data\n",
    "missing_val_count_by_column = (X_train.isnull().sum())\n",
    "print(missing_val_count_by_column[missing_val_count_by_column > 0])"
   ]
  },
  {
   "cell_type": "markdown",
   "id": "30240240",
   "metadata": {
    "papermill": {
     "duration": 0.007792,
     "end_time": "2023-06-30T17:17:38.353380",
     "exception": false,
     "start_time": "2023-06-30T17:17:38.345588",
     "status": "completed"
    },
    "tags": []
   },
   "source": [
    "### Part A\n",
    "\n",
    "Use the above output to answer the questions below."
   ]
  },
  {
   "cell_type": "code",
   "execution_count": 5,
   "id": "c824d4b1",
   "metadata": {
    "execution": {
     "iopub.execute_input": "2023-06-30T17:17:38.370908Z",
     "iopub.status.busy": "2023-06-30T17:17:38.370535Z",
     "iopub.status.idle": "2023-06-30T17:17:38.379301Z",
     "shell.execute_reply": "2023-06-30T17:17:38.378373Z"
    },
    "papermill": {
     "duration": 0.019898,
     "end_time": "2023-06-30T17:17:38.381240",
     "exception": false,
     "start_time": "2023-06-30T17:17:38.361342",
     "status": "completed"
    },
    "tags": []
   },
   "outputs": [
    {
     "data": {
      "application/javascript": [
       "parent.postMessage({\"jupyterEvent\": \"custom.exercise_interaction\", \"data\": {\"outcomeType\": 1, \"valueTowardsCompletion\": 1.0, \"interactionType\": 1, \"questionType\": 1, \"questionId\": \"1.1_InvestigateEquality\", \"learnToolsVersion\": \"0.3.4\", \"failureMessage\": \"\", \"exceptionClass\": \"\", \"trace\": \"\"}}, \"*\")"
      ],
      "text/plain": [
       "<IPython.core.display.Javascript object>"
      ]
     },
     "metadata": {},
     "output_type": "display_data"
    },
    {
     "data": {
      "text/markdown": [
       "<span style=\"color:#33cc33\">Correct</span>"
      ],
      "text/plain": [
       "Correct"
      ]
     },
     "metadata": {},
     "output_type": "display_data"
    }
   ],
   "source": [
    "# Fill in the line below: How many rows are in the training data?\n",
    "num_rows = X_train.shape[0]\n",
    "# Fill in the line below: How many columns in the training data\n",
    "# have missing values?\n",
    "num_cols_with_missing = missing_val_count_by_column[missing_val_count_by_column > 0].count()\n",
    "\n",
    "# Fill in the line below: How many missing entries are contained in \n",
    "# all of the training data?\n",
    "tot_missing = missing_val_count_by_column.sum()\n",
    "\n",
    "# Check your answers\n",
    "step_1.a.check()"
   ]
  },
  {
   "cell_type": "code",
   "execution_count": 6,
   "id": "fc9eaeaf",
   "metadata": {
    "execution": {
     "iopub.execute_input": "2023-06-30T17:17:38.400698Z",
     "iopub.status.busy": "2023-06-30T17:17:38.400126Z",
     "iopub.status.idle": "2023-06-30T17:17:38.403725Z",
     "shell.execute_reply": "2023-06-30T17:17:38.402999Z"
    },
    "papermill": {
     "duration": 0.015675,
     "end_time": "2023-06-30T17:17:38.405698",
     "exception": false,
     "start_time": "2023-06-30T17:17:38.390023",
     "status": "completed"
    },
    "tags": []
   },
   "outputs": [],
   "source": [
    "# Lines below will give you a hint or solution code\n",
    "#step_1.a.hint()\n",
    "#step_1.a.solution()"
   ]
  },
  {
   "cell_type": "markdown",
   "id": "66c3333d",
   "metadata": {
    "papermill": {
     "duration": 0.007849,
     "end_time": "2023-06-30T17:17:38.421778",
     "exception": false,
     "start_time": "2023-06-30T17:17:38.413929",
     "status": "completed"
    },
    "tags": []
   },
   "source": [
    "### Part B\n",
    "Considering your answers above, what do you think is likely the best approach to dealing with the missing values?"
   ]
  },
  {
   "cell_type": "code",
   "execution_count": 7,
   "id": "8447b33c",
   "metadata": {
    "execution": {
     "iopub.execute_input": "2023-06-30T17:17:38.439362Z",
     "iopub.status.busy": "2023-06-30T17:17:38.439044Z",
     "iopub.status.idle": "2023-06-30T17:17:38.446492Z",
     "shell.execute_reply": "2023-06-30T17:17:38.445546Z"
    },
    "papermill": {
     "duration": 0.018662,
     "end_time": "2023-06-30T17:17:38.448494",
     "exception": false,
     "start_time": "2023-06-30T17:17:38.429832",
     "status": "completed"
    },
    "tags": []
   },
   "outputs": [
    {
     "data": {
      "application/javascript": [
       "parent.postMessage({\"jupyterEvent\": \"custom.exercise_interaction\", \"data\": {\"outcomeType\": 1, \"valueTowardsCompletion\": 1.0, \"interactionType\": 1, \"questionType\": 4, \"questionId\": \"1.2_InvestigateThought\", \"learnToolsVersion\": \"0.3.4\", \"failureMessage\": \"\", \"exceptionClass\": \"\", \"trace\": \"\"}}, \"*\")"
      ],
      "text/plain": [
       "<IPython.core.display.Javascript object>"
      ]
     },
     "metadata": {},
     "output_type": "display_data"
    },
    {
     "data": {
      "text/markdown": [
       "<span style=\"color:#33cc33\">Correct:</span> \n",
       "\n",
       "Since there are relatively few missing entries in the data (the column with the greatest percentage of missing values is missing less than 20% of its entries), we can expect that dropping columns is unlikely to yield good results.  This is because we'd be throwing away a lot of valuable data, and so imputation will likely perform better."
      ],
      "text/plain": [
       "Correct: \n",
       "\n",
       "Since there are relatively few missing entries in the data (the column with the greatest percentage of missing values is missing less than 20% of its entries), we can expect that dropping columns is unlikely to yield good results.  This is because we'd be throwing away a lot of valuable data, and so imputation will likely perform better."
      ]
     },
     "metadata": {},
     "output_type": "display_data"
    }
   ],
   "source": [
    "# Check your answer (Run this code cell to receive credit!)\n",
    "step_1.b.check()"
   ]
  },
  {
   "cell_type": "code",
   "execution_count": 8,
   "id": "c6a06c4a",
   "metadata": {
    "execution": {
     "iopub.execute_input": "2023-06-30T17:17:38.467105Z",
     "iopub.status.busy": "2023-06-30T17:17:38.466796Z",
     "iopub.status.idle": "2023-06-30T17:17:38.470613Z",
     "shell.execute_reply": "2023-06-30T17:17:38.469643Z"
    },
    "papermill": {
     "duration": 0.015525,
     "end_time": "2023-06-30T17:17:38.472560",
     "exception": false,
     "start_time": "2023-06-30T17:17:38.457035",
     "status": "completed"
    },
    "tags": []
   },
   "outputs": [],
   "source": [
    "#step_1.b.hint()"
   ]
  },
  {
   "cell_type": "markdown",
   "id": "d1f41453",
   "metadata": {
    "papermill": {
     "duration": 0.008097,
     "end_time": "2023-06-30T17:17:38.489197",
     "exception": false,
     "start_time": "2023-06-30T17:17:38.481100",
     "status": "completed"
    },
    "tags": []
   },
   "source": [
    "To compare different approaches to dealing with missing values, you'll use the same `score_dataset()` function from the tutorial.  This function reports the [mean absolute error](https://en.wikipedia.org/wiki/Mean_absolute_error) (MAE) from a random forest model."
   ]
  },
  {
   "cell_type": "code",
   "execution_count": 9,
   "id": "4f80e97d",
   "metadata": {
    "execution": {
     "iopub.execute_input": "2023-06-30T17:17:38.508218Z",
     "iopub.status.busy": "2023-06-30T17:17:38.507888Z",
     "iopub.status.idle": "2023-06-30T17:17:38.843626Z",
     "shell.execute_reply": "2023-06-30T17:17:38.842545Z"
    },
    "papermill": {
     "duration": 0.347792,
     "end_time": "2023-06-30T17:17:38.846097",
     "exception": false,
     "start_time": "2023-06-30T17:17:38.498305",
     "status": "completed"
    },
    "tags": []
   },
   "outputs": [],
   "source": [
    "from sklearn.ensemble import RandomForestRegressor\n",
    "from sklearn.metrics import mean_absolute_error\n",
    "\n",
    "# Function for comparing different approaches\n",
    "def score_dataset(X_train, X_valid, y_train, y_valid):\n",
    "    model = RandomForestRegressor(n_estimators=100, random_state=0)\n",
    "    model.fit(X_train, y_train)\n",
    "    preds = model.predict(X_valid)\n",
    "    return mean_absolute_error(y_valid, preds)"
   ]
  },
  {
   "cell_type": "markdown",
   "id": "56a258d5",
   "metadata": {
    "papermill": {
     "duration": 0.008238,
     "end_time": "2023-06-30T17:17:38.863183",
     "exception": false,
     "start_time": "2023-06-30T17:17:38.854945",
     "status": "completed"
    },
    "tags": []
   },
   "source": [
    "# Step 2: Drop columns with missing values\n",
    "\n",
    "In this step, you'll preprocess the data in `X_train` and `X_valid` to remove columns with missing values.  Set the preprocessed DataFrames to `reduced_X_train` and `reduced_X_valid`, respectively.  "
   ]
  },
  {
   "cell_type": "code",
   "execution_count": 10,
   "id": "18396b40",
   "metadata": {
    "execution": {
     "iopub.execute_input": "2023-06-30T17:17:38.881870Z",
     "iopub.status.busy": "2023-06-30T17:17:38.881465Z",
     "iopub.status.idle": "2023-06-30T17:17:38.905922Z",
     "shell.execute_reply": "2023-06-30T17:17:38.904775Z"
    },
    "papermill": {
     "duration": 0.036274,
     "end_time": "2023-06-30T17:17:38.907988",
     "exception": false,
     "start_time": "2023-06-30T17:17:38.871714",
     "status": "completed"
    },
    "tags": []
   },
   "outputs": [
    {
     "data": {
      "application/javascript": [
       "parent.postMessage({\"jupyterEvent\": \"custom.exercise_interaction\", \"data\": {\"outcomeType\": 1, \"valueTowardsCompletion\": 1.0, \"interactionType\": 1, \"questionType\": 2, \"questionId\": \"2_DropMissing\", \"learnToolsVersion\": \"0.3.4\", \"failureMessage\": \"\", \"exceptionClass\": \"\", \"trace\": \"\"}}, \"*\")"
      ],
      "text/plain": [
       "<IPython.core.display.Javascript object>"
      ]
     },
     "metadata": {},
     "output_type": "display_data"
    },
    {
     "data": {
      "text/markdown": [
       "<span style=\"color:#33cc33\">Correct</span>"
      ],
      "text/plain": [
       "Correct"
      ]
     },
     "metadata": {},
     "output_type": "display_data"
    }
   ],
   "source": [
    "# Fill in the line below: get names of columns with missing values\n",
    "missing_cols = missing_val_count_by_column[missing_val_count_by_column > 0].index.tolist() # Your code here\n",
    "\n",
    "# Fill in the lines below: drop columns in training and validation data\n",
    "reduced_X_train = X_train.drop(missing_cols,axis = 1)\n",
    "reduced_X_valid = X_valid.drop(missing_cols,axis = 1)\n",
    "# Check your answers\n",
    "step_2.check()"
   ]
  },
  {
   "cell_type": "code",
   "execution_count": 11,
   "id": "cb9e431c",
   "metadata": {
    "execution": {
     "iopub.execute_input": "2023-06-30T17:17:38.927068Z",
     "iopub.status.busy": "2023-06-30T17:17:38.926711Z",
     "iopub.status.idle": "2023-06-30T17:17:38.930387Z",
     "shell.execute_reply": "2023-06-30T17:17:38.929730Z"
    },
    "papermill": {
     "duration": 0.015536,
     "end_time": "2023-06-30T17:17:38.932419",
     "exception": false,
     "start_time": "2023-06-30T17:17:38.916883",
     "status": "completed"
    },
    "tags": []
   },
   "outputs": [],
   "source": [
    "# Lines below will give you a hint or solution code\n",
    "#step_2.hint()\n",
    "#step_2.solution()"
   ]
  },
  {
   "cell_type": "markdown",
   "id": "aa5065ef",
   "metadata": {
    "papermill": {
     "duration": 0.008706,
     "end_time": "2023-06-30T17:17:38.950385",
     "exception": false,
     "start_time": "2023-06-30T17:17:38.941679",
     "status": "completed"
    },
    "tags": []
   },
   "source": [
    "Run the next code cell without changes to obtain the MAE for this approach."
   ]
  },
  {
   "cell_type": "code",
   "execution_count": 12,
   "id": "4e178914",
   "metadata": {
    "execution": {
     "iopub.execute_input": "2023-06-30T17:17:38.970123Z",
     "iopub.status.busy": "2023-06-30T17:17:38.969486Z",
     "iopub.status.idle": "2023-06-30T17:17:40.198584Z",
     "shell.execute_reply": "2023-06-30T17:17:40.197312Z"
    },
    "papermill": {
     "duration": 1.241366,
     "end_time": "2023-06-30T17:17:40.200695",
     "exception": false,
     "start_time": "2023-06-30T17:17:38.959329",
     "status": "completed"
    },
    "tags": []
   },
   "outputs": [
    {
     "name": "stdout",
     "output_type": "stream",
     "text": [
      "MAE (Drop columns with missing values):\n",
      "17837.82570776256\n"
     ]
    }
   ],
   "source": [
    "print(\"MAE (Drop columns with missing values):\")\n",
    "print(score_dataset(reduced_X_train, reduced_X_valid, y_train, y_valid))"
   ]
  },
  {
   "cell_type": "markdown",
   "id": "1deb4329",
   "metadata": {
    "papermill": {
     "duration": 0.008874,
     "end_time": "2023-06-30T17:17:40.218830",
     "exception": false,
     "start_time": "2023-06-30T17:17:40.209956",
     "status": "completed"
    },
    "tags": []
   },
   "source": [
    "# Step 3: Imputation\n",
    "\n",
    "### Part A\n",
    "\n",
    "Use the next code cell to impute missing values with the mean value along each column.  Set the preprocessed DataFrames to `imputed_X_train` and `imputed_X_valid`.  Make sure that the column names match those in `X_train` and `X_valid`."
   ]
  },
  {
   "cell_type": "code",
   "execution_count": 13,
   "id": "b63b785c",
   "metadata": {
    "execution": {
     "iopub.execute_input": "2023-06-30T17:17:40.239227Z",
     "iopub.status.busy": "2023-06-30T17:17:40.238882Z",
     "iopub.status.idle": "2023-06-30T17:17:40.277663Z",
     "shell.execute_reply": "2023-06-30T17:17:40.276645Z"
    },
    "papermill": {
     "duration": 0.05172,
     "end_time": "2023-06-30T17:17:40.279839",
     "exception": false,
     "start_time": "2023-06-30T17:17:40.228119",
     "status": "completed"
    },
    "tags": []
   },
   "outputs": [
    {
     "data": {
      "application/javascript": [
       "parent.postMessage({\"jupyterEvent\": \"custom.exercise_interaction\", \"data\": {\"outcomeType\": 1, \"valueTowardsCompletion\": 1.0, \"interactionType\": 1, \"questionType\": 2, \"questionId\": \"3.1_ImputeCode\", \"learnToolsVersion\": \"0.3.4\", \"failureMessage\": \"\", \"exceptionClass\": \"\", \"trace\": \"\"}}, \"*\")"
      ],
      "text/plain": [
       "<IPython.core.display.Javascript object>"
      ]
     },
     "metadata": {},
     "output_type": "display_data"
    },
    {
     "data": {
      "text/markdown": [
       "<span style=\"color:#33cc33\">Correct</span>"
      ],
      "text/plain": [
       "Correct"
      ]
     },
     "metadata": {},
     "output_type": "display_data"
    }
   ],
   "source": [
    "from sklearn.impute import SimpleImputer\n",
    "\n",
    "# Fill in the lines below: imputation\n",
    "imputer = SimpleImputer() # Your code here\n",
    "imputed_X_train = pd.DataFrame(imputer.fit_transform(X_train))\n",
    "imputed_X_valid = pd.DataFrame(imputer.transform(X_valid))\n",
    "# Fill in the lines below: imputation removed column names; put them back\n",
    "imputed_X_train.columns = X_train.columns\n",
    "imputed_X_valid.columns = X_valid.columns\n",
    "# Check your answers\n",
    "step_3.a.check()"
   ]
  },
  {
   "cell_type": "code",
   "execution_count": 14,
   "id": "03b30113",
   "metadata": {
    "execution": {
     "iopub.execute_input": "2023-06-30T17:17:40.299843Z",
     "iopub.status.busy": "2023-06-30T17:17:40.299433Z",
     "iopub.status.idle": "2023-06-30T17:17:40.303221Z",
     "shell.execute_reply": "2023-06-30T17:17:40.302321Z"
    },
    "papermill": {
     "duration": 0.015773,
     "end_time": "2023-06-30T17:17:40.305047",
     "exception": false,
     "start_time": "2023-06-30T17:17:40.289274",
     "status": "completed"
    },
    "tags": []
   },
   "outputs": [],
   "source": [
    "# Lines below will give you a hint or solution code\n",
    "#step_3.a.hint()\n",
    "#step_3.a.solution()"
   ]
  },
  {
   "cell_type": "markdown",
   "id": "97d5673d",
   "metadata": {
    "papermill": {
     "duration": 0.008856,
     "end_time": "2023-06-30T17:17:40.323120",
     "exception": false,
     "start_time": "2023-06-30T17:17:40.314264",
     "status": "completed"
    },
    "tags": []
   },
   "source": [
    "Run the next code cell without changes to obtain the MAE for this approach."
   ]
  },
  {
   "cell_type": "code",
   "execution_count": 15,
   "id": "ceb33630",
   "metadata": {
    "execution": {
     "iopub.execute_input": "2023-06-30T17:17:40.342959Z",
     "iopub.status.busy": "2023-06-30T17:17:40.342602Z",
     "iopub.status.idle": "2023-06-30T17:17:41.702666Z",
     "shell.execute_reply": "2023-06-30T17:17:41.701636Z"
    },
    "papermill": {
     "duration": 1.372399,
     "end_time": "2023-06-30T17:17:41.704664",
     "exception": false,
     "start_time": "2023-06-30T17:17:40.332265",
     "status": "completed"
    },
    "tags": []
   },
   "outputs": [
    {
     "name": "stdout",
     "output_type": "stream",
     "text": [
      "MAE (Imputation):\n",
      "18062.894611872147\n"
     ]
    }
   ],
   "source": [
    "print(\"MAE (Imputation):\")\n",
    "print(score_dataset(imputed_X_train, imputed_X_valid, y_train, y_valid))"
   ]
  },
  {
   "cell_type": "markdown",
   "id": "d16b6e5e",
   "metadata": {
    "papermill": {
     "duration": 0.009409,
     "end_time": "2023-06-30T17:17:41.724646",
     "exception": false,
     "start_time": "2023-06-30T17:17:41.715237",
     "status": "completed"
    },
    "tags": []
   },
   "source": [
    "### Part B\n",
    "\n",
    "Compare the MAE from each approach.  Does anything surprise you about the results?  Why do you think one approach performed better than the other?"
   ]
  },
  {
   "cell_type": "code",
   "execution_count": 16,
   "id": "09e23029",
   "metadata": {
    "execution": {
     "iopub.execute_input": "2023-06-30T17:17:41.745788Z",
     "iopub.status.busy": "2023-06-30T17:17:41.744929Z",
     "iopub.status.idle": "2023-06-30T17:17:41.753242Z",
     "shell.execute_reply": "2023-06-30T17:17:41.752474Z"
    },
    "papermill": {
     "duration": 0.021164,
     "end_time": "2023-06-30T17:17:41.755167",
     "exception": false,
     "start_time": "2023-06-30T17:17:41.734003",
     "status": "completed"
    },
    "tags": []
   },
   "outputs": [
    {
     "data": {
      "application/javascript": [
       "parent.postMessage({\"jupyterEvent\": \"custom.exercise_interaction\", \"data\": {\"outcomeType\": 1, \"valueTowardsCompletion\": 1.0, \"interactionType\": 1, \"questionType\": 4, \"questionId\": \"3.2_ImputeThought\", \"learnToolsVersion\": \"0.3.4\", \"failureMessage\": \"\", \"exceptionClass\": \"\", \"trace\": \"\"}}, \"*\")"
      ],
      "text/plain": [
       "<IPython.core.display.Javascript object>"
      ]
     },
     "metadata": {},
     "output_type": "display_data"
    },
    {
     "data": {
      "text/markdown": [
       "<span style=\"color:#33cc33\">Correct:</span> \n",
       "\n",
       "Given that thre are so few missing values in the dataset, we'd expect imputation to perform better than dropping columns entirely.  However, we see that dropping columns performs slightly better!  While this can probably partially be attributed to noise in the dataset, another potential explanation is that the imputation method is not a great match to this dataset.  That is, maybe instead of filling in the mean value, it makes more sense to set every missing value to a value of 0, to fill in the most frequently encountered value, or to use some other method.  For instance, consider the `GarageYrBlt` column (which indicates the year that the garage was built).  It's likely that in some cases, a missing value could indicate a house that does not have a garage.  Does it make more sense to fill in the median value along each column in this case?  Or could we get better results by filling in the minimum value along each column?  It's not quite clear what's best in this case, but perhaps we can rule out some options immediately - for instance, setting missing values in this column to 0 is likely to yield horrible results!"
      ],
      "text/plain": [
       "Correct: \n",
       "\n",
       "Given that thre are so few missing values in the dataset, we'd expect imputation to perform better than dropping columns entirely.  However, we see that dropping columns performs slightly better!  While this can probably partially be attributed to noise in the dataset, another potential explanation is that the imputation method is not a great match to this dataset.  That is, maybe instead of filling in the mean value, it makes more sense to set every missing value to a value of 0, to fill in the most frequently encountered value, or to use some other method.  For instance, consider the `GarageYrBlt` column (which indicates the year that the garage was built).  It's likely that in some cases, a missing value could indicate a house that does not have a garage.  Does it make more sense to fill in the median value along each column in this case?  Or could we get better results by filling in the minimum value along each column?  It's not quite clear what's best in this case, but perhaps we can rule out some options immediately - for instance, setting missing values in this column to 0 is likely to yield horrible results!"
      ]
     },
     "metadata": {},
     "output_type": "display_data"
    }
   ],
   "source": [
    "# Check your answer (Run this code cell to receive credit!)\n",
    "step_3.b.check()"
   ]
  },
  {
   "cell_type": "code",
   "execution_count": 17,
   "id": "f9b65c65",
   "metadata": {
    "execution": {
     "iopub.execute_input": "2023-06-30T17:17:41.775837Z",
     "iopub.status.busy": "2023-06-30T17:17:41.775283Z",
     "iopub.status.idle": "2023-06-30T17:17:41.779238Z",
     "shell.execute_reply": "2023-06-30T17:17:41.778594Z"
    },
    "papermill": {
     "duration": 0.016352,
     "end_time": "2023-06-30T17:17:41.781167",
     "exception": false,
     "start_time": "2023-06-30T17:17:41.764815",
     "status": "completed"
    },
    "tags": []
   },
   "outputs": [],
   "source": [
    "#step_3.b.hint()"
   ]
  },
  {
   "cell_type": "markdown",
   "id": "be479132",
   "metadata": {
    "papermill": {
     "duration": 0.0094,
     "end_time": "2023-06-30T17:17:41.800180",
     "exception": false,
     "start_time": "2023-06-30T17:17:41.790780",
     "status": "completed"
    },
    "tags": []
   },
   "source": [
    "# Step 4: Generate test predictions\n",
    "\n",
    "In this final step, you'll use any approach of your choosing to deal with missing values.  Once you've preprocessed the training and validation features, you'll train and evaluate a random forest model.  Then, you'll preprocess the test data before generating predictions that can be submitted to the competition!\n",
    "\n",
    "### Part A\n",
    "\n",
    "Use the next code cell to preprocess the training and validation data.  Set the preprocessed DataFrames to `final_X_train` and `final_X_valid`.  **You can use any approach of your choosing here!**  in order for this step to be marked as correct, you need only ensure:\n",
    "- the preprocessed DataFrames have the same number of columns,\n",
    "- the preprocessed DataFrames have no missing values, \n",
    "- `final_X_train` and `y_train` have the same number of rows, and\n",
    "- `final_X_valid` and `y_valid` have the same number of rows."
   ]
  },
  {
   "cell_type": "code",
   "execution_count": 18,
   "id": "58398d63",
   "metadata": {
    "execution": {
     "iopub.execute_input": "2023-06-30T17:17:41.821818Z",
     "iopub.status.busy": "2023-06-30T17:17:41.820729Z",
     "iopub.status.idle": "2023-06-30T17:17:43.207096Z",
     "shell.execute_reply": "2023-06-30T17:17:43.206088Z"
    },
    "papermill": {
     "duration": 1.399529,
     "end_time": "2023-06-30T17:17:43.209448",
     "exception": false,
     "start_time": "2023-06-30T17:17:41.809919",
     "status": "completed"
    },
    "tags": []
   },
   "outputs": [
    {
     "name": "stdout",
     "output_type": "stream",
     "text": [
      "18062.894611872147\n"
     ]
    },
    {
     "data": {
      "application/javascript": [
       "parent.postMessage({\"jupyterEvent\": \"custom.exercise_interaction\", \"data\": {\"outcomeType\": 1, \"valueTowardsCompletion\": 1.0, \"interactionType\": 1, \"questionType\": 2, \"questionId\": \"4.1_PredsCodeA\", \"learnToolsVersion\": \"0.3.4\", \"failureMessage\": \"\", \"exceptionClass\": \"\", \"trace\": \"\"}}, \"*\")"
      ],
      "text/plain": [
       "<IPython.core.display.Javascript object>"
      ]
     },
     "metadata": {},
     "output_type": "display_data"
    },
    {
     "data": {
      "text/markdown": [
       "<span style=\"color:#33cc33\">Correct</span>"
      ],
      "text/plain": [
       "Correct"
      ]
     },
     "metadata": {},
     "output_type": "display_data"
    }
   ],
   "source": [
    "# Preprocessed training and validation features\n",
    "final_imputer = SimpleImputer(strategy='most_frequent')\n",
    "final_X_train = pd.DataFrame(final_imputer.fit_transform(X_train))\n",
    "final_X_valid = pd.DataFrame(final_imputer.transform(X_valid))\n",
    "\n",
    "score = score_dataset(imputed_X_train,imputed_X_valid,y_train,y_valid)\n",
    "print(score)\n",
    "\n",
    "# Check your answers\n",
    "step_4.a.check()"
   ]
  },
  {
   "cell_type": "code",
   "execution_count": 19,
   "id": "c2dc1f47",
   "metadata": {
    "execution": {
     "iopub.execute_input": "2023-06-30T17:17:43.231070Z",
     "iopub.status.busy": "2023-06-30T17:17:43.230711Z",
     "iopub.status.idle": "2023-06-30T17:17:43.234975Z",
     "shell.execute_reply": "2023-06-30T17:17:43.234008Z"
    },
    "papermill": {
     "duration": 0.017358,
     "end_time": "2023-06-30T17:17:43.236920",
     "exception": false,
     "start_time": "2023-06-30T17:17:43.219562",
     "status": "completed"
    },
    "tags": []
   },
   "outputs": [],
   "source": [
    "# Lines below will give you a hint or solution code\n",
    "#step_4.a.hint()\n",
    "#step_4.a.solution()"
   ]
  },
  {
   "cell_type": "markdown",
   "id": "bb149376",
   "metadata": {
    "papermill": {
     "duration": 0.009756,
     "end_time": "2023-06-30T17:17:43.256922",
     "exception": false,
     "start_time": "2023-06-30T17:17:43.247166",
     "status": "completed"
    },
    "tags": []
   },
   "source": [
    "Run the next code cell to train and evaluate a random forest model.  (*Note that we don't use the `score_dataset()` function above, because we will soon use the trained model to generate test predictions!*)"
   ]
  },
  {
   "cell_type": "code",
   "execution_count": 20,
   "id": "96dd8183",
   "metadata": {
    "execution": {
     "iopub.execute_input": "2023-06-30T17:17:43.278904Z",
     "iopub.status.busy": "2023-06-30T17:17:43.278017Z",
     "iopub.status.idle": "2023-06-30T17:17:44.644515Z",
     "shell.execute_reply": "2023-06-30T17:17:44.643403Z"
    },
    "papermill": {
     "duration": 1.379928,
     "end_time": "2023-06-30T17:17:44.646836",
     "exception": false,
     "start_time": "2023-06-30T17:17:43.266908",
     "status": "completed"
    },
    "tags": []
   },
   "outputs": [
    {
     "name": "stdout",
     "output_type": "stream",
     "text": [
      "MAE (Your approach):\n",
      "17956.065479452056\n"
     ]
    }
   ],
   "source": [
    "# Define and fit model\n",
    "model = RandomForestRegressor(n_estimators=100, random_state=0)\n",
    "model.fit(final_X_train, y_train)\n",
    "\n",
    "# Get validation predictions and MAE\n",
    "preds_valid = model.predict(final_X_valid)\n",
    "print(\"MAE (Your approach):\")\n",
    "print(mean_absolute_error(y_valid, preds_valid))"
   ]
  },
  {
   "cell_type": "markdown",
   "id": "11abaa01",
   "metadata": {
    "papermill": {
     "duration": 0.00986,
     "end_time": "2023-06-30T17:17:44.667137",
     "exception": false,
     "start_time": "2023-06-30T17:17:44.657277",
     "status": "completed"
    },
    "tags": []
   },
   "source": [
    "### Part B\n",
    "\n",
    "Use the next code cell to preprocess your test data.  Make sure that you use a method that agrees with how you preprocessed the training and validation data, and set the preprocessed test features to `final_X_test`.\n",
    "\n",
    "Then, use the preprocessed test features and the trained model to generate test predictions in `preds_test`.\n",
    "\n",
    "In order for this step to be marked correct, you need only ensure:\n",
    "- the preprocessed test DataFrame has no missing values, and\n",
    "- `final_X_test` has the same number of rows as `X_test`."
   ]
  },
  {
   "cell_type": "code",
   "execution_count": 21,
   "id": "1dc2ea3a",
   "metadata": {
    "execution": {
     "iopub.execute_input": "2023-06-30T17:17:44.689469Z",
     "iopub.status.busy": "2023-06-30T17:17:44.688769Z",
     "iopub.status.idle": "2023-06-30T17:17:44.740885Z",
     "shell.execute_reply": "2023-06-30T17:17:44.739946Z"
    },
    "papermill": {
     "duration": 0.06572,
     "end_time": "2023-06-30T17:17:44.742956",
     "exception": false,
     "start_time": "2023-06-30T17:17:44.677236",
     "status": "completed"
    },
    "tags": []
   },
   "outputs": [
    {
     "name": "stderr",
     "output_type": "stream",
     "text": [
      "/opt/conda/lib/python3.10/site-packages/sklearn/base.py:432: UserWarning: X has feature names, but RandomForestRegressor was fitted without feature names\n",
      "  warnings.warn(\n"
     ]
    },
    {
     "data": {
      "application/javascript": [
       "parent.postMessage({\"jupyterEvent\": \"custom.exercise_interaction\", \"data\": {\"outcomeType\": 1, \"valueTowardsCompletion\": 1.0, \"interactionType\": 1, \"questionType\": 2, \"questionId\": \"4.2_PredsCodeB\", \"learnToolsVersion\": \"0.3.4\", \"failureMessage\": \"\", \"exceptionClass\": \"\", \"trace\": \"\"}}, \"*\")"
      ],
      "text/plain": [
       "<IPython.core.display.Javascript object>"
      ]
     },
     "metadata": {},
     "output_type": "display_data"
    },
    {
     "data": {
      "text/markdown": [
       "<span style=\"color:#33cc33\">Correct</span>"
      ],
      "text/plain": [
       "Correct"
      ]
     },
     "metadata": {},
     "output_type": "display_data"
    }
   ],
   "source": [
    "# Fill in the line below: preprocess test data\n",
    "final_X_test = pd.DataFrame(final_imputer.transform(X_test))\n",
    "\n",
    "final_X_test.columns = X_test.columns\n",
    "# Fill in the line below: get test predictions\n",
    "preds_test = model.predict(final_X_test)\n",
    "\n",
    "# Check your answers\n",
    "step_4.b.check()"
   ]
  },
  {
   "cell_type": "code",
   "execution_count": 22,
   "id": "49aea1b8",
   "metadata": {
    "execution": {
     "iopub.execute_input": "2023-06-30T17:17:44.766113Z",
     "iopub.status.busy": "2023-06-30T17:17:44.765273Z",
     "iopub.status.idle": "2023-06-30T17:17:44.769648Z",
     "shell.execute_reply": "2023-06-30T17:17:44.768777Z"
    },
    "papermill": {
     "duration": 0.018112,
     "end_time": "2023-06-30T17:17:44.771634",
     "exception": false,
     "start_time": "2023-06-30T17:17:44.753522",
     "status": "completed"
    },
    "tags": []
   },
   "outputs": [],
   "source": [
    "# Lines below will give you a hint or solution code\n",
    "#step_4.b.hint()\n",
    "#step_4.b.solution()"
   ]
  },
  {
   "cell_type": "markdown",
   "id": "bd4b5d07",
   "metadata": {
    "papermill": {
     "duration": 0.010453,
     "end_time": "2023-06-30T17:17:44.792471",
     "exception": false,
     "start_time": "2023-06-30T17:17:44.782018",
     "status": "completed"
    },
    "tags": []
   },
   "source": [
    "Run the next code cell without changes to save your results to a CSV file that can be submitted directly to the competition."
   ]
  },
  {
   "cell_type": "code",
   "execution_count": 23,
   "id": "31c9f989",
   "metadata": {
    "execution": {
     "iopub.execute_input": "2023-06-30T17:17:44.814696Z",
     "iopub.status.busy": "2023-06-30T17:17:44.814210Z",
     "iopub.status.idle": "2023-06-30T17:17:44.828004Z",
     "shell.execute_reply": "2023-06-30T17:17:44.827082Z"
    },
    "papermill": {
     "duration": 0.027311,
     "end_time": "2023-06-30T17:17:44.830107",
     "exception": false,
     "start_time": "2023-06-30T17:17:44.802796",
     "status": "completed"
    },
    "tags": []
   },
   "outputs": [],
   "source": [
    "# Save test predictions to file\n",
    "output = pd.DataFrame({'Id': X_test.index,\n",
    "                       'SalePrice': preds_test})\n",
    "output.to_csv('submission.csv', index=False)"
   ]
  },
  {
   "cell_type": "markdown",
   "id": "64432a1b",
   "metadata": {
    "papermill": {
     "duration": 0.010089,
     "end_time": "2023-06-30T17:17:44.850856",
     "exception": false,
     "start_time": "2023-06-30T17:17:44.840767",
     "status": "completed"
    },
    "tags": []
   },
   "source": [
    "# Submit your results\n",
    "\n",
    "Once you have successfully completed Step 4, you're ready to submit your results to the leaderboard!  (_You also learned how to do this in the previous exercise.  If you need a reminder of how to do this, please use the instructions below._)  \n",
    "\n",
    "First, you'll need to join the competition if you haven't already.  So open a new window by clicking on [this link](https://www.kaggle.com/c/home-data-for-ml-course).  Then click on the **Join Competition** button.\n",
    "\n",
    "![join competition image](https://storage.googleapis.com/kaggle-media/learn/images/wLmFtH3.png)\n",
    "\n",
    "Next, follow the instructions below:\n",
    "1. Begin by clicking on the **Save Version** button in the top right corner of the window.  This will generate a pop-up window.  \n",
    "2. Ensure that the **Save and Run All** option is selected, and then click on the **Save** button.\n",
    "3. This generates a window in the bottom left corner of the notebook.  After it has finished running, click on the number to the right of the **Save Version** button.  This pulls up a list of versions on the right of the screen.  Click on the ellipsis **(...)** to the right of the most recent version, and select **Open in Viewer**.  This brings you into view mode of the same page. You will need to scroll down to get back to these instructions.\n",
    "4. Click on the **Data** tab near the top of the screen.  Then, click on the file you would like to submit, and click on the **Submit** button to submit your results to the leaderboard.\n",
    "\n",
    "You have now successfully submitted to the competition!\n",
    "\n",
    "If you want to keep working to improve your performance, select the **Edit** button in the top right of the screen. Then you can change your code and repeat the process. There's a lot of room to improve, and you will climb up the leaderboard as you work.\n",
    "\n",
    "\n",
    "# Keep going\n",
    "\n",
    "Move on to learn what **[categorical variables](https://www.kaggle.com/alexisbcook/categorical-variables)** are, along with how to incorporate them into your machine learning models.  Categorical variables are very common in real-world data, but you'll get an error if you try to plug them into your models without processing them first!"
   ]
  },
  {
   "cell_type": "markdown",
   "id": "3ebe48e1",
   "metadata": {
    "papermill": {
     "duration": 0.010834,
     "end_time": "2023-06-30T17:17:44.872148",
     "exception": false,
     "start_time": "2023-06-30T17:17:44.861314",
     "status": "completed"
    },
    "tags": []
   },
   "source": [
    "---\n",
    "\n",
    "\n",
    "\n",
    "\n",
    "*Have questions or comments? Visit the [course discussion forum](https://www.kaggle.com/learn/intermediate-machine-learning/discussion) to chat with other learners.*"
   ]
  }
 ],
 "metadata": {
  "kernelspec": {
   "display_name": "Python 3",
   "language": "python",
   "name": "python3"
  },
  "language_info": {
   "codemirror_mode": {
    "name": "ipython",
    "version": 3
   },
   "file_extension": ".py",
   "mimetype": "text/x-python",
   "name": "python",
   "nbconvert_exporter": "python",
   "pygments_lexer": "ipython3",
   "version": "3.10.10"
  },
  "papermill": {
   "default_parameters": {},
   "duration": 18.429305,
   "end_time": "2023-06-30T17:17:45.703667",
   "environment_variables": {},
   "exception": null,
   "input_path": "__notebook__.ipynb",
   "output_path": "__notebook__.ipynb",
   "parameters": {},
   "start_time": "2023-06-30T17:17:27.274362",
   "version": "2.4.0"
  }
 },
 "nbformat": 4,
 "nbformat_minor": 5
}
