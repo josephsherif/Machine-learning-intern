{
 "cells": [
  {
   "cell_type": "markdown",
   "id": "3de13781",
   "metadata": {
    "papermill": {
     "duration": 0.007824,
     "end_time": "2023-06-30T13:22:15.057900",
     "exception": false,
     "start_time": "2023-06-30T13:22:15.050076",
     "status": "completed"
    },
    "tags": []
   },
   "source": [
    "**This notebook is an exercise in the [Pandas](https://www.kaggle.com/learn/pandas) course.  You can reference the tutorial at [this link](https://www.kaggle.com/residentmario/grouping-and-sorting).**\n",
    "\n",
    "---\n"
   ]
  },
  {
   "cell_type": "markdown",
   "id": "fb58d882",
   "metadata": {
    "papermill": {
     "duration": 0.00797,
     "end_time": "2023-06-30T13:22:15.073513",
     "exception": false,
     "start_time": "2023-06-30T13:22:15.065543",
     "status": "completed"
    },
    "tags": []
   },
   "source": [
    "# Introduction\n",
    "\n",
    "In these exercises we'll apply groupwise analysis to our dataset.\n",
    "\n",
    "Run the code cell below to load the data before running the exercises."
   ]
  },
  {
   "cell_type": "code",
   "execution_count": 1,
   "id": "5537065b",
   "metadata": {
    "execution": {
     "iopub.execute_input": "2023-06-30T13:22:15.091210Z",
     "iopub.status.busy": "2023-06-30T13:22:15.090793Z",
     "iopub.status.idle": "2023-06-30T13:22:18.646579Z",
     "shell.execute_reply": "2023-06-30T13:22:18.645346Z"
    },
    "papermill": {
     "duration": 3.567445,
     "end_time": "2023-06-30T13:22:18.649353",
     "exception": false,
     "start_time": "2023-06-30T13:22:15.081908",
     "status": "completed"
    },
    "tags": []
   },
   "outputs": [
    {
     "name": "stdout",
     "output_type": "stream",
     "text": [
      "Setup complete.\n"
     ]
    }
   ],
   "source": [
    "import pandas as pd\n",
    "\n",
    "reviews = pd.read_csv(\"../input/wine-reviews/winemag-data-130k-v2.csv\", index_col=0)\n",
    "#pd.set_option(\"display.max_rows\", 5)\n",
    "\n",
    "from learntools.core import binder; binder.bind(globals())\n",
    "from learntools.pandas.grouping_and_sorting import *\n",
    "print(\"Setup complete.\")"
   ]
  },
  {
   "cell_type": "markdown",
   "id": "5dc02b2a",
   "metadata": {
    "papermill": {
     "duration": 0.007399,
     "end_time": "2023-06-30T13:22:18.664779",
     "exception": false,
     "start_time": "2023-06-30T13:22:18.657380",
     "status": "completed"
    },
    "tags": []
   },
   "source": [
    "# Exercises"
   ]
  },
  {
   "cell_type": "markdown",
   "id": "75c0a257",
   "metadata": {
    "papermill": {
     "duration": 0.008621,
     "end_time": "2023-06-30T13:22:18.680876",
     "exception": false,
     "start_time": "2023-06-30T13:22:18.672255",
     "status": "completed"
    },
    "tags": []
   },
   "source": [
    "## 1.\n",
    "Who are the most common wine reviewers in the dataset? Create a `Series` whose index is the `taster_twitter_handle` category from the dataset, and whose values count how many reviews each person wrote."
   ]
  },
  {
   "cell_type": "code",
   "execution_count": 2,
   "id": "bb43ec4e",
   "metadata": {
    "execution": {
     "iopub.execute_input": "2023-06-30T13:22:18.698174Z",
     "iopub.status.busy": "2023-06-30T13:22:18.696963Z",
     "iopub.status.idle": "2023-06-30T13:22:18.747079Z",
     "shell.execute_reply": "2023-06-30T13:22:18.745920Z"
    },
    "papermill": {
     "duration": 0.061603,
     "end_time": "2023-06-30T13:22:18.749818",
     "exception": false,
     "start_time": "2023-06-30T13:22:18.688215",
     "status": "completed"
    },
    "tags": []
   },
   "outputs": [
    {
     "data": {
      "application/javascript": [
       "parent.postMessage({\"jupyterEvent\": \"custom.exercise_interaction\", \"data\": {\"outcomeType\": 1, \"valueTowardsCompletion\": 0.16666666666666666, \"interactionType\": 1, \"questionType\": 1, \"questionId\": \"1_ReviewsWritten\", \"learnToolsVersion\": \"0.3.4\", \"failureMessage\": \"\", \"exceptionClass\": \"\", \"trace\": \"\"}}, \"*\")"
      ],
      "text/plain": [
       "<IPython.core.display.Javascript object>"
      ]
     },
     "metadata": {},
     "output_type": "display_data"
    },
    {
     "data": {
      "text/markdown": [
       "<span style=\"color:#33cc33\">Correct:</span> \n",
       "\n",
       "\n",
       "```python\n",
       "reviews_written = reviews.groupby('taster_twitter_handle').size()\n",
       "```\n",
       "or\n",
       "```python\n",
       "reviews_written = reviews.groupby('taster_twitter_handle').taster_twitter_handle.count()\n",
       "```\n"
      ],
      "text/plain": [
       "Correct: \n",
       "\n",
       "\n",
       "```python\n",
       "reviews_written = reviews.groupby('taster_twitter_handle').size()\n",
       "```\n",
       "or\n",
       "```python\n",
       "reviews_written = reviews.groupby('taster_twitter_handle').taster_twitter_handle.count()\n",
       "```"
      ]
     },
     "metadata": {},
     "output_type": "display_data"
    }
   ],
   "source": [
    "# Your code here\n",
    "reviews_written = reviews.groupby('taster_twitter_handle').taster_twitter_handle.count()\n",
    "\n",
    "# Check your answer\n",
    "q1.check()"
   ]
  },
  {
   "cell_type": "code",
   "execution_count": 3,
   "id": "678af2dc",
   "metadata": {
    "execution": {
     "iopub.execute_input": "2023-06-30T13:22:18.767488Z",
     "iopub.status.busy": "2023-06-30T13:22:18.767085Z",
     "iopub.status.idle": "2023-06-30T13:22:18.771462Z",
     "shell.execute_reply": "2023-06-30T13:22:18.770330Z"
    },
    "papermill": {
     "duration": 0.016293,
     "end_time": "2023-06-30T13:22:18.774059",
     "exception": false,
     "start_time": "2023-06-30T13:22:18.757766",
     "status": "completed"
    },
    "tags": []
   },
   "outputs": [],
   "source": [
    "#q1.hint()\n",
    "#q1.solution()"
   ]
  },
  {
   "cell_type": "markdown",
   "id": "7a02e26b",
   "metadata": {
    "papermill": {
     "duration": 0.007527,
     "end_time": "2023-06-30T13:22:18.789514",
     "exception": false,
     "start_time": "2023-06-30T13:22:18.781987",
     "status": "completed"
    },
    "tags": []
   },
   "source": [
    "## 2.\n",
    "What is the best wine I can buy for a given amount of money? Create a `Series` whose index is wine prices and whose values is the maximum number of points a wine costing that much was given in a review. Sort the values by price, ascending (so that `4.0` dollars is at the top and `3300.0` dollars is at the bottom)."
   ]
  },
  {
   "cell_type": "code",
   "execution_count": 4,
   "id": "9969a0b4",
   "metadata": {
    "execution": {
     "iopub.execute_input": "2023-06-30T13:22:18.807592Z",
     "iopub.status.busy": "2023-06-30T13:22:18.807147Z",
     "iopub.status.idle": "2023-06-30T13:22:18.821959Z",
     "shell.execute_reply": "2023-06-30T13:22:18.820642Z"
    },
    "papermill": {
     "duration": 0.026742,
     "end_time": "2023-06-30T13:22:18.824386",
     "exception": false,
     "start_time": "2023-06-30T13:22:18.797644",
     "status": "completed"
    },
    "tags": []
   },
   "outputs": [
    {
     "data": {
      "application/javascript": [
       "parent.postMessage({\"jupyterEvent\": \"custom.exercise_interaction\", \"data\": {\"outcomeType\": 1, \"valueTowardsCompletion\": 0.16666666666666666, \"interactionType\": 1, \"questionType\": 1, \"questionId\": \"2_BestRatingPerPrice\", \"learnToolsVersion\": \"0.3.4\", \"failureMessage\": \"\", \"exceptionClass\": \"\", \"trace\": \"\"}}, \"*\")"
      ],
      "text/plain": [
       "<IPython.core.display.Javascript object>"
      ]
     },
     "metadata": {},
     "output_type": "display_data"
    },
    {
     "data": {
      "text/markdown": [
       "<span style=\"color:#33cc33\">Correct</span>"
      ],
      "text/plain": [
       "Correct"
      ]
     },
     "metadata": {},
     "output_type": "display_data"
    }
   ],
   "source": [
    "best_rating_per_price = reviews.groupby('price').points.max().sort_index()\n",
    "\n",
    "\n",
    "# Check your answer\n",
    "q2.check()"
   ]
  },
  {
   "cell_type": "code",
   "execution_count": 5,
   "id": "d2bf5483",
   "metadata": {
    "execution": {
     "iopub.execute_input": "2023-06-30T13:22:18.843869Z",
     "iopub.status.busy": "2023-06-30T13:22:18.843491Z",
     "iopub.status.idle": "2023-06-30T13:22:18.848022Z",
     "shell.execute_reply": "2023-06-30T13:22:18.846721Z"
    },
    "papermill": {
     "duration": 0.017225,
     "end_time": "2023-06-30T13:22:18.850550",
     "exception": false,
     "start_time": "2023-06-30T13:22:18.833325",
     "status": "completed"
    },
    "tags": []
   },
   "outputs": [],
   "source": [
    "#q2.hint()\n",
    "#q2.solution()"
   ]
  },
  {
   "cell_type": "markdown",
   "id": "4ec81360",
   "metadata": {
    "papermill": {
     "duration": 0.007831,
     "end_time": "2023-06-30T13:22:18.866686",
     "exception": false,
     "start_time": "2023-06-30T13:22:18.858855",
     "status": "completed"
    },
    "tags": []
   },
   "source": [
    "## 3.\n",
    "What are the minimum and maximum prices for each `variety` of wine? Create a `DataFrame` whose index is the `variety` category from the dataset and whose values are the `min` and `max` values thereof."
   ]
  },
  {
   "cell_type": "code",
   "execution_count": 6,
   "id": "2106d0e6",
   "metadata": {
    "execution": {
     "iopub.execute_input": "2023-06-30T13:22:18.884440Z",
     "iopub.status.busy": "2023-06-30T13:22:18.884008Z",
     "iopub.status.idle": "2023-06-30T13:22:18.943811Z",
     "shell.execute_reply": "2023-06-30T13:22:18.942529Z"
    },
    "papermill": {
     "duration": 0.071577,
     "end_time": "2023-06-30T13:22:18.946323",
     "exception": false,
     "start_time": "2023-06-30T13:22:18.874746",
     "status": "completed"
    },
    "tags": []
   },
   "outputs": [
    {
     "name": "stdout",
     "output_type": "stream",
     "text": [
      "              min    max\n",
      "variety                 \n",
      "Abouriou     15.0   75.0\n",
      "Agiorgitiko  10.0   66.0\n",
      "Aglianico     6.0  180.0\n",
      "Aidani       27.0   27.0\n",
      "Airen         8.0   10.0\n",
      "...           ...    ...\n",
      "Zinfandel     5.0  100.0\n",
      "Zlahtina     13.0   16.0\n",
      "Zweigelt      9.0   70.0\n",
      "Çalkarası    19.0   19.0\n",
      "Žilavka      15.0   15.0\n",
      "\n",
      "[707 rows x 2 columns]\n"
     ]
    },
    {
     "data": {
      "application/javascript": [
       "parent.postMessage({\"jupyterEvent\": \"custom.exercise_interaction\", \"data\": {\"outcomeType\": 1, \"valueTowardsCompletion\": 0.16666666666666666, \"interactionType\": 1, \"questionType\": 1, \"questionId\": \"3_PriceExtremes\", \"learnToolsVersion\": \"0.3.4\", \"failureMessage\": \"\", \"exceptionClass\": \"\", \"trace\": \"\"}}, \"*\")"
      ],
      "text/plain": [
       "<IPython.core.display.Javascript object>"
      ]
     },
     "metadata": {},
     "output_type": "display_data"
    },
    {
     "data": {
      "text/markdown": [
       "<span style=\"color:#33cc33\">Correct</span>"
      ],
      "text/plain": [
       "Correct"
      ]
     },
     "metadata": {},
     "output_type": "display_data"
    }
   ],
   "source": [
    "price_extremes = reviews.groupby('variety').price.agg([min,max])\n",
    "print(price_extremes)\n",
    "\n",
    "# Check your answer\n",
    "q3.check()"
   ]
  },
  {
   "cell_type": "code",
   "execution_count": 7,
   "id": "48c0849d",
   "metadata": {
    "execution": {
     "iopub.execute_input": "2023-06-30T13:22:18.965729Z",
     "iopub.status.busy": "2023-06-30T13:22:18.965280Z",
     "iopub.status.idle": "2023-06-30T13:22:18.970012Z",
     "shell.execute_reply": "2023-06-30T13:22:18.969040Z"
    },
    "papermill": {
     "duration": 0.01731,
     "end_time": "2023-06-30T13:22:18.972403",
     "exception": false,
     "start_time": "2023-06-30T13:22:18.955093",
     "status": "completed"
    },
    "tags": []
   },
   "outputs": [],
   "source": [
    "#q3.hint()\n",
    "#q3.solution()"
   ]
  },
  {
   "cell_type": "markdown",
   "id": "3f298f0a",
   "metadata": {
    "papermill": {
     "duration": 0.008936,
     "end_time": "2023-06-30T13:22:18.990187",
     "exception": false,
     "start_time": "2023-06-30T13:22:18.981251",
     "status": "completed"
    },
    "tags": []
   },
   "source": [
    "## 4.\n",
    "What are the most expensive wine varieties? Create a variable `sorted_varieties` containing a copy of the dataframe from the previous question where varieties are sorted in descending order based on minimum price, then on maximum price (to break ties)."
   ]
  },
  {
   "cell_type": "code",
   "execution_count": 8,
   "id": "fe33e577",
   "metadata": {
    "execution": {
     "iopub.execute_input": "2023-06-30T13:22:19.010242Z",
     "iopub.status.busy": "2023-06-30T13:22:19.009808Z",
     "iopub.status.idle": "2023-06-30T13:22:19.023524Z",
     "shell.execute_reply": "2023-06-30T13:22:19.022392Z"
    },
    "papermill": {
     "duration": 0.026561,
     "end_time": "2023-06-30T13:22:19.025924",
     "exception": false,
     "start_time": "2023-06-30T13:22:18.999363",
     "status": "completed"
    },
    "tags": []
   },
   "outputs": [
    {
     "data": {
      "application/javascript": [
       "parent.postMessage({\"jupyterEvent\": \"custom.exercise_interaction\", \"data\": {\"outcomeType\": 1, \"valueTowardsCompletion\": 0.16666666666666666, \"interactionType\": 1, \"questionType\": 1, \"questionId\": \"4_SortedVarieties\", \"learnToolsVersion\": \"0.3.4\", \"failureMessage\": \"\", \"exceptionClass\": \"\", \"trace\": \"\"}}, \"*\")"
      ],
      "text/plain": [
       "<IPython.core.display.Javascript object>"
      ]
     },
     "metadata": {},
     "output_type": "display_data"
    },
    {
     "data": {
      "text/markdown": [
       "<span style=\"color:#33cc33\">Correct</span>"
      ],
      "text/plain": [
       "Correct"
      ]
     },
     "metadata": {},
     "output_type": "display_data"
    }
   ],
   "source": [
    "sorted_varieties = price_extremes.sort_values(by = ['min','max'],ascending = False)\n",
    "\n",
    "\n",
    "# Check your answer\n",
    "q4.check()"
   ]
  },
  {
   "cell_type": "code",
   "execution_count": 9,
   "id": "08d4f264",
   "metadata": {
    "execution": {
     "iopub.execute_input": "2023-06-30T13:22:19.046070Z",
     "iopub.status.busy": "2023-06-30T13:22:19.045696Z",
     "iopub.status.idle": "2023-06-30T13:22:19.049785Z",
     "shell.execute_reply": "2023-06-30T13:22:19.048633Z"
    },
    "papermill": {
     "duration": 0.016949,
     "end_time": "2023-06-30T13:22:19.052060",
     "exception": false,
     "start_time": "2023-06-30T13:22:19.035111",
     "status": "completed"
    },
    "tags": []
   },
   "outputs": [],
   "source": [
    "#q4.hint()\n",
    "#q4.solution()"
   ]
  },
  {
   "cell_type": "markdown",
   "id": "ab2653ba",
   "metadata": {
    "papermill": {
     "duration": 0.008864,
     "end_time": "2023-06-30T13:22:19.070076",
     "exception": false,
     "start_time": "2023-06-30T13:22:19.061212",
     "status": "completed"
    },
    "tags": []
   },
   "source": [
    "## 5.\n",
    "Create a `Series` whose index is reviewers and whose values is the average review score given out by that reviewer. Hint: you will need the `taster_name` and `points` columns."
   ]
  },
  {
   "cell_type": "code",
   "execution_count": 10,
   "id": "a215d621",
   "metadata": {
    "execution": {
     "iopub.execute_input": "2023-06-30T13:22:19.090409Z",
     "iopub.status.busy": "2023-06-30T13:22:19.090023Z",
     "iopub.status.idle": "2023-06-30T13:22:19.128530Z",
     "shell.execute_reply": "2023-06-30T13:22:19.127402Z"
    },
    "papermill": {
     "duration": 0.051523,
     "end_time": "2023-06-30T13:22:19.130744",
     "exception": false,
     "start_time": "2023-06-30T13:22:19.079221",
     "status": "completed"
    },
    "tags": []
   },
   "outputs": [
    {
     "name": "stdout",
     "output_type": "stream",
     "text": [
      "taster_name\n",
      "Alexander Peartree    85.855422\n",
      "Anna Lee C. Iijima    88.415629\n",
      "Anne Krebiehl MW      90.562551\n",
      "Carrie Dykes          86.395683\n",
      "Christina Pickard     87.833333\n",
      "Fiona Adams           86.888889\n",
      "Jeff Jenssen          88.319756\n",
      "Jim Gordon            88.626287\n",
      "Joe Czerwinski        88.536235\n",
      "Kerin O’Keefe         88.867947\n",
      "Lauren Buzzeo         87.739510\n",
      "Matt Kettmann         90.008686\n",
      "Michael Schachner     86.907493\n",
      "Mike DeSimone         89.101167\n",
      "Paul Gregutt          89.082564\n",
      "Roger Voss            88.708003\n",
      "Sean P. Sullivan      88.755739\n",
      "Susan Kostrzewa       86.609217\n",
      "Virginie Boone        89.213379\n",
      "Name: points, dtype: float64\n"
     ]
    },
    {
     "data": {
      "application/javascript": [
       "parent.postMessage({\"jupyterEvent\": \"custom.exercise_interaction\", \"data\": {\"outcomeType\": 1, \"valueTowardsCompletion\": 0.16666666666666666, \"interactionType\": 1, \"questionType\": 1, \"questionId\": \"5_ReviewerMeanRatings\", \"learnToolsVersion\": \"0.3.4\", \"failureMessage\": \"\", \"exceptionClass\": \"\", \"trace\": \"\"}}, \"*\")"
      ],
      "text/plain": [
       "<IPython.core.display.Javascript object>"
      ]
     },
     "metadata": {},
     "output_type": "display_data"
    },
    {
     "data": {
      "text/markdown": [
       "<span style=\"color:#33cc33\">Correct</span>"
      ],
      "text/plain": [
       "Correct"
      ]
     },
     "metadata": {},
     "output_type": "display_data"
    }
   ],
   "source": [
    "reviewer_mean_ratings = reviews.groupby('taster_name').points.mean()\n",
    "print(reviewer_mean_ratings)\n",
    "\n",
    "# Check your answer\n",
    "q5.check()"
   ]
  },
  {
   "cell_type": "code",
   "execution_count": 11,
   "id": "116791e6",
   "metadata": {
    "execution": {
     "iopub.execute_input": "2023-06-30T13:22:19.152104Z",
     "iopub.status.busy": "2023-06-30T13:22:19.151715Z",
     "iopub.status.idle": "2023-06-30T13:22:19.156742Z",
     "shell.execute_reply": "2023-06-30T13:22:19.155569Z"
    },
    "papermill": {
     "duration": 0.018857,
     "end_time": "2023-06-30T13:22:19.159214",
     "exception": false,
     "start_time": "2023-06-30T13:22:19.140357",
     "status": "completed"
    },
    "tags": []
   },
   "outputs": [],
   "source": [
    "#q5.hint()\n",
    "#q5.solution()"
   ]
  },
  {
   "cell_type": "markdown",
   "id": "4019a151",
   "metadata": {
    "papermill": {
     "duration": 0.009315,
     "end_time": "2023-06-30T13:22:19.178177",
     "exception": false,
     "start_time": "2023-06-30T13:22:19.168862",
     "status": "completed"
    },
    "tags": []
   },
   "source": [
    "Are there significant differences in the average scores assigned by the various reviewers? Run the cell below to use the `describe()` method to see a summary of the range of values."
   ]
  },
  {
   "cell_type": "code",
   "execution_count": 12,
   "id": "f9742d87",
   "metadata": {
    "execution": {
     "iopub.execute_input": "2023-06-30T13:22:19.199035Z",
     "iopub.status.busy": "2023-06-30T13:22:19.198618Z",
     "iopub.status.idle": "2023-06-30T13:22:19.212668Z",
     "shell.execute_reply": "2023-06-30T13:22:19.211340Z"
    },
    "papermill": {
     "duration": 0.027398,
     "end_time": "2023-06-30T13:22:19.215091",
     "exception": false,
     "start_time": "2023-06-30T13:22:19.187693",
     "status": "completed"
    },
    "tags": []
   },
   "outputs": [
    {
     "data": {
      "text/plain": [
       "count    19.000000\n",
       "mean     88.233026\n",
       "std       1.243610\n",
       "min      85.855422\n",
       "25%      87.323501\n",
       "50%      88.536235\n",
       "75%      88.975256\n",
       "max      90.562551\n",
       "Name: points, dtype: float64"
      ]
     },
     "execution_count": 12,
     "metadata": {},
     "output_type": "execute_result"
    }
   ],
   "source": [
    "reviewer_mean_ratings.describe()"
   ]
  },
  {
   "cell_type": "markdown",
   "id": "3d7d0931",
   "metadata": {
    "papermill": {
     "duration": 0.009234,
     "end_time": "2023-06-30T13:22:19.234068",
     "exception": false,
     "start_time": "2023-06-30T13:22:19.224834",
     "status": "completed"
    },
    "tags": []
   },
   "source": [
    "## 6.\n",
    "What combination of countries and varieties are most common? Create a `Series` whose index is a `MultiIndex`of `{country, variety}` pairs. For example, a pinot noir produced in the US should map to `{\"US\", \"Pinot Noir\"}`. Sort the values in the `Series` in descending order based on wine count."
   ]
  },
  {
   "cell_type": "code",
   "execution_count": 13,
   "id": "8c190dc8",
   "metadata": {
    "execution": {
     "iopub.execute_input": "2023-06-30T13:22:19.255270Z",
     "iopub.status.busy": "2023-06-30T13:22:19.254866Z",
     "iopub.status.idle": "2023-06-30T13:22:19.325861Z",
     "shell.execute_reply": "2023-06-30T13:22:19.324721Z"
    },
    "papermill": {
     "duration": 0.084562,
     "end_time": "2023-06-30T13:22:19.328285",
     "exception": false,
     "start_time": "2023-06-30T13:22:19.243723",
     "status": "completed"
    },
    "tags": []
   },
   "outputs": [
    {
     "name": "stdout",
     "output_type": "stream",
     "text": [
      "country  variety                 \n",
      "US       Pinot Noir                  9885\n",
      "         Cabernet Sauvignon          7315\n",
      "         Chardonnay                  6801\n",
      "France   Bordeaux-style Red Blend    4725\n",
      "Italy    Red Blend                   3624\n",
      "                                     ... \n",
      "Mexico   Cinsault                       1\n",
      "         Grenache                       1\n",
      "         Merlot                         1\n",
      "         Rosado                         1\n",
      "Uruguay  White Blend                    1\n",
      "Length: 1612, dtype: int64\n"
     ]
    },
    {
     "data": {
      "application/javascript": [
       "parent.postMessage({\"jupyterEvent\": \"custom.exercise_interaction\", \"data\": {\"outcomeType\": 1, \"valueTowardsCompletion\": 0.16666666666666666, \"interactionType\": 1, \"questionType\": 1, \"questionId\": \"6_GroupbyCountryVariety\", \"learnToolsVersion\": \"0.3.4\", \"failureMessage\": \"\", \"exceptionClass\": \"\", \"trace\": \"\"}}, \"*\")"
      ],
      "text/plain": [
       "<IPython.core.display.Javascript object>"
      ]
     },
     "metadata": {},
     "output_type": "display_data"
    },
    {
     "data": {
      "text/markdown": [
       "<span style=\"color:#33cc33\">Correct</span>"
      ],
      "text/plain": [
       "Correct"
      ]
     },
     "metadata": {},
     "output_type": "display_data"
    }
   ],
   "source": [
    "country_variety_counts = reviews.groupby(['country','variety']).size().sort_values(ascending = False)\n",
    "print(country_variety_counts)\n",
    "\n",
    "\n",
    "# Check your answer\n",
    "q6.check()"
   ]
  },
  {
   "cell_type": "code",
   "execution_count": 14,
   "id": "261db638",
   "metadata": {
    "execution": {
     "iopub.execute_input": "2023-06-30T13:22:19.350172Z",
     "iopub.status.busy": "2023-06-30T13:22:19.349781Z",
     "iopub.status.idle": "2023-06-30T13:22:19.355017Z",
     "shell.execute_reply": "2023-06-30T13:22:19.353855Z"
    },
    "papermill": {
     "duration": 0.018908,
     "end_time": "2023-06-30T13:22:19.357318",
     "exception": false,
     "start_time": "2023-06-30T13:22:19.338410",
     "status": "completed"
    },
    "tags": []
   },
   "outputs": [],
   "source": [
    "#q6.hint()\n",
    "#q6.solution()"
   ]
  },
  {
   "cell_type": "markdown",
   "id": "f0339a7e",
   "metadata": {
    "papermill": {
     "duration": 0.009812,
     "end_time": "2023-06-30T13:22:19.377550",
     "exception": false,
     "start_time": "2023-06-30T13:22:19.367738",
     "status": "completed"
    },
    "tags": []
   },
   "source": [
    "# Keep going\n",
    "\n",
    "Move on to the [**data types and missing data**](https://www.kaggle.com/residentmario/data-types-and-missing-values)."
   ]
  },
  {
   "cell_type": "markdown",
   "id": "c31ee3a5",
   "metadata": {
    "papermill": {
     "duration": 0.009971,
     "end_time": "2023-06-30T13:22:19.397673",
     "exception": false,
     "start_time": "2023-06-30T13:22:19.387702",
     "status": "completed"
    },
    "tags": []
   },
   "source": [
    "---\n",
    "\n",
    "\n",
    "\n",
    "\n",
    "*Have questions or comments? Visit the [course discussion forum](https://www.kaggle.com/learn/pandas/discussion) to chat with other learners.*"
   ]
  }
 ],
 "metadata": {
  "kernelspec": {
   "display_name": "Python 3",
   "language": "python",
   "name": "python3"
  },
  "language_info": {
   "codemirror_mode": {
    "name": "ipython",
    "version": 3
   },
   "file_extension": ".py",
   "mimetype": "text/x-python",
   "name": "python",
   "nbconvert_exporter": "python",
   "pygments_lexer": "ipython3",
   "version": "3.10.10"
  },
  "papermill": {
   "default_parameters": {},
   "duration": 18.325243,
   "end_time": "2023-06-30T13:22:20.329939",
   "environment_variables": {},
   "exception": null,
   "input_path": "__notebook__.ipynb",
   "output_path": "__notebook__.ipynb",
   "parameters": {},
   "start_time": "2023-06-30T13:22:02.004696",
   "version": "2.4.0"
  }
 },
 "nbformat": 4,
 "nbformat_minor": 5
}
