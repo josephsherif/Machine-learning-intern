{
 "cells": [
  {
   "cell_type": "markdown",
   "id": "35a038ff",
   "metadata": {
    "papermill": {
     "duration": 0.009878,
     "end_time": "2023-06-29T22:40:08.465022",
     "exception": false,
     "start_time": "2023-06-29T22:40:08.455144",
     "status": "completed"
    },
    "tags": []
   },
   "source": [
    "**This notebook is an exercise in the [Data Cleaning](https://www.kaggle.com/learn/data-cleaning) course.  You can reference the tutorial at [this link](https://www.kaggle.com/alexisbcook/parsing-dates).**\n",
    "\n",
    "---\n"
   ]
  },
  {
   "cell_type": "markdown",
   "id": "466eb33c",
   "metadata": {
    "papermill": {
     "duration": 0.006492,
     "end_time": "2023-06-29T22:40:08.478227",
     "exception": false,
     "start_time": "2023-06-29T22:40:08.471735",
     "status": "completed"
    },
    "tags": []
   },
   "source": [
    "In this exercise, you'll apply what you learned in the **Parsing dates** tutorial.\n",
    "\n",
    "# Setup\n",
    "\n",
    "The questions below will give you feedback on your work. Run the following cell to set up the feedback system."
   ]
  },
  {
   "cell_type": "code",
   "execution_count": 1,
   "id": "4e9e07e5",
   "metadata": {
    "execution": {
     "iopub.execute_input": "2023-06-29T22:40:08.493615Z",
     "iopub.status.busy": "2023-06-29T22:40:08.493166Z",
     "iopub.status.idle": "2023-06-29T22:40:10.190904Z",
     "shell.execute_reply": "2023-06-29T22:40:10.189906Z"
    },
    "papermill": {
     "duration": 1.708521,
     "end_time": "2023-06-29T22:40:10.193217",
     "exception": false,
     "start_time": "2023-06-29T22:40:08.484696",
     "status": "completed"
    },
    "tags": []
   },
   "outputs": [
    {
     "name": "stdout",
     "output_type": "stream",
     "text": [
      "Setup Complete\n"
     ]
    }
   ],
   "source": [
    "from learntools.core import binder\n",
    "binder.bind(globals())\n",
    "from learntools.data_cleaning.ex3 import *\n",
    "print(\"Setup Complete\")"
   ]
  },
  {
   "cell_type": "markdown",
   "id": "5f861ff1",
   "metadata": {
    "papermill": {
     "duration": 0.005522,
     "end_time": "2023-06-29T22:40:10.204676",
     "exception": false,
     "start_time": "2023-06-29T22:40:10.199154",
     "status": "completed"
    },
    "tags": []
   },
   "source": [
    "# Get our environment set up\n",
    "\n",
    "The first thing we'll need to do is load in the libraries and dataset we'll be using. We'll be working with a dataset containing information on earthquakes that occured between 1965 and 2016."
   ]
  },
  {
   "cell_type": "code",
   "execution_count": 2,
   "id": "a1423ef0",
   "metadata": {
    "execution": {
     "iopub.execute_input": "2023-06-29T22:40:10.217755Z",
     "iopub.status.busy": "2023-06-29T22:40:10.217372Z",
     "iopub.status.idle": "2023-06-29T22:40:10.276448Z",
     "shell.execute_reply": "2023-06-29T22:40:10.275628Z"
    },
    "papermill": {
     "duration": 0.069164,
     "end_time": "2023-06-29T22:40:10.279414",
     "exception": false,
     "start_time": "2023-06-29T22:40:10.210250",
     "status": "completed"
    },
    "tags": []
   },
   "outputs": [],
   "source": [
    "# modules we'll use\n",
    "import pandas as pd\n",
    "import numpy as np\n",
    "import seaborn as sns\n",
    "import datetime\n",
    "\n",
    "# read in our data\n",
    "earthquakes = pd.read_csv(\"../input/earthquake-database/database.csv\")\n",
    "\n",
    "# set seed for reproducibility\n",
    "np.random.seed(0)"
   ]
  },
  {
   "cell_type": "markdown",
   "id": "58d93f2a",
   "metadata": {
    "papermill": {
     "duration": 0.00544,
     "end_time": "2023-06-29T22:40:10.290681",
     "exception": false,
     "start_time": "2023-06-29T22:40:10.285241",
     "status": "completed"
    },
    "tags": []
   },
   "source": [
    "# 1) Check the data type of our date column\n",
    "\n",
    "You'll be working with the \"Date\" column from the `earthquakes` dataframe.  Investigate this column now: does it look like it contains dates?  What is the dtype of the column?"
   ]
  },
  {
   "cell_type": "code",
   "execution_count": 3,
   "id": "f95e5f61",
   "metadata": {
    "execution": {
     "iopub.execute_input": "2023-06-29T22:40:10.303607Z",
     "iopub.status.busy": "2023-06-29T22:40:10.303258Z",
     "iopub.status.idle": "2023-06-29T22:40:10.311152Z",
     "shell.execute_reply": "2023-06-29T22:40:10.309719Z"
    },
    "papermill": {
     "duration": 0.017423,
     "end_time": "2023-06-29T22:40:10.313641",
     "exception": false,
     "start_time": "2023-06-29T22:40:10.296218",
     "status": "completed"
    },
    "tags": []
   },
   "outputs": [
    {
     "data": {
      "text/plain": [
       "dtype('O')"
      ]
     },
     "execution_count": 3,
     "metadata": {},
     "output_type": "execute_result"
    }
   ],
   "source": [
    "# TODO: Your code here!\n",
    "earthquakes['Date'].head().dtype"
   ]
  },
  {
   "cell_type": "markdown",
   "id": "99bf9b11",
   "metadata": {
    "papermill": {
     "duration": 0.005364,
     "end_time": "2023-06-29T22:40:10.324829",
     "exception": false,
     "start_time": "2023-06-29T22:40:10.319465",
     "status": "completed"
    },
    "tags": []
   },
   "source": [
    "Once you have answered the question above, run the code cell below to get credit for your work."
   ]
  },
  {
   "cell_type": "code",
   "execution_count": 4,
   "id": "5762772c",
   "metadata": {
    "execution": {
     "iopub.execute_input": "2023-06-29T22:40:10.338662Z",
     "iopub.status.busy": "2023-06-29T22:40:10.338271Z",
     "iopub.status.idle": "2023-06-29T22:40:10.345170Z",
     "shell.execute_reply": "2023-06-29T22:40:10.344227Z"
    },
    "papermill": {
     "duration": 0.017042,
     "end_time": "2023-06-29T22:40:10.347409",
     "exception": false,
     "start_time": "2023-06-29T22:40:10.330367",
     "status": "completed"
    },
    "tags": []
   },
   "outputs": [
    {
     "data": {
      "application/javascript": [
       "parent.postMessage({\"jupyterEvent\": \"custom.exercise_interaction\", \"data\": {\"outcomeType\": 1, \"valueTowardsCompletion\": 0.25, \"interactionType\": 1, \"questionType\": 4, \"questionId\": \"1_CheckDtype\", \"learnToolsVersion\": \"0.3.4\", \"failureMessage\": \"\", \"exceptionClass\": \"\", \"trace\": \"\"}}, \"*\")"
      ],
      "text/plain": [
       "<IPython.core.display.Javascript object>"
      ]
     },
     "metadata": {},
     "output_type": "display_data"
    },
    {
     "data": {
      "text/markdown": [
       "<span style=\"color:#33cc33\">Correct:</span> \n",
       "\n",
       "The \"Date\" column in the `earthquakes` DataFrame does have dates.  The dtype is \"object\"."
      ],
      "text/plain": [
       "Correct: \n",
       "\n",
       "The \"Date\" column in the `earthquakes` DataFrame does have dates.  The dtype is \"object\"."
      ]
     },
     "metadata": {},
     "output_type": "display_data"
    }
   ],
   "source": [
    "# Check your answer (Run this code cell to receive credit!)\n",
    "q1.check()"
   ]
  },
  {
   "cell_type": "code",
   "execution_count": 5,
   "id": "3c52c330",
   "metadata": {
    "execution": {
     "iopub.execute_input": "2023-06-29T22:40:10.361485Z",
     "iopub.status.busy": "2023-06-29T22:40:10.361143Z",
     "iopub.status.idle": "2023-06-29T22:40:10.365164Z",
     "shell.execute_reply": "2023-06-29T22:40:10.364005Z"
    },
    "papermill": {
     "duration": 0.013109,
     "end_time": "2023-06-29T22:40:10.366983",
     "exception": false,
     "start_time": "2023-06-29T22:40:10.353874",
     "status": "completed"
    },
    "tags": []
   },
   "outputs": [],
   "source": [
    "# Line below will give you a hint\n",
    "#q1.hint()"
   ]
  },
  {
   "cell_type": "markdown",
   "id": "a4c01257",
   "metadata": {
    "papermill": {
     "duration": 0.005873,
     "end_time": "2023-06-29T22:40:10.379300",
     "exception": false,
     "start_time": "2023-06-29T22:40:10.373427",
     "status": "completed"
    },
    "tags": []
   },
   "source": [
    "# 2) Convert our date columns to datetime\n",
    "\n",
    "Most of the entries in the \"Date\" column follow the same format: \"month/day/four-digit year\".  However, the entry at index 3378 follows a completely different pattern.  Run the code cell below to see this."
   ]
  },
  {
   "cell_type": "code",
   "execution_count": 6,
   "id": "a050c0a3",
   "metadata": {
    "execution": {
     "iopub.execute_input": "2023-06-29T22:40:10.393949Z",
     "iopub.status.busy": "2023-06-29T22:40:10.393600Z",
     "iopub.status.idle": "2023-06-29T22:40:10.428600Z",
     "shell.execute_reply": "2023-06-29T22:40:10.427218Z"
    },
    "papermill": {
     "duration": 0.045282,
     "end_time": "2023-06-29T22:40:10.430878",
     "exception": false,
     "start_time": "2023-06-29T22:40:10.385596",
     "status": "completed"
    },
    "tags": []
   },
   "outputs": [
    {
     "data": {
      "text/html": [
       "<div>\n",
       "<style scoped>\n",
       "    .dataframe tbody tr th:only-of-type {\n",
       "        vertical-align: middle;\n",
       "    }\n",
       "\n",
       "    .dataframe tbody tr th {\n",
       "        vertical-align: top;\n",
       "    }\n",
       "\n",
       "    .dataframe thead th {\n",
       "        text-align: right;\n",
       "    }\n",
       "</style>\n",
       "<table border=\"1\" class=\"dataframe\">\n",
       "  <thead>\n",
       "    <tr style=\"text-align: right;\">\n",
       "      <th></th>\n",
       "      <th>Date</th>\n",
       "      <th>Time</th>\n",
       "      <th>Latitude</th>\n",
       "      <th>Longitude</th>\n",
       "      <th>Type</th>\n",
       "      <th>Depth</th>\n",
       "      <th>Depth Error</th>\n",
       "      <th>Depth Seismic Stations</th>\n",
       "      <th>Magnitude</th>\n",
       "      <th>Magnitude Type</th>\n",
       "      <th>...</th>\n",
       "      <th>Magnitude Seismic Stations</th>\n",
       "      <th>Azimuthal Gap</th>\n",
       "      <th>Horizontal Distance</th>\n",
       "      <th>Horizontal Error</th>\n",
       "      <th>Root Mean Square</th>\n",
       "      <th>ID</th>\n",
       "      <th>Source</th>\n",
       "      <th>Location Source</th>\n",
       "      <th>Magnitude Source</th>\n",
       "      <th>Status</th>\n",
       "    </tr>\n",
       "  </thead>\n",
       "  <tbody>\n",
       "    <tr>\n",
       "      <th>3378</th>\n",
       "      <td>1975-02-23T02:58:41.000Z</td>\n",
       "      <td>1975-02-23T02:58:41.000Z</td>\n",
       "      <td>8.017</td>\n",
       "      <td>124.075</td>\n",
       "      <td>Earthquake</td>\n",
       "      <td>623.0</td>\n",
       "      <td>NaN</td>\n",
       "      <td>NaN</td>\n",
       "      <td>5.6</td>\n",
       "      <td>MB</td>\n",
       "      <td>...</td>\n",
       "      <td>NaN</td>\n",
       "      <td>NaN</td>\n",
       "      <td>NaN</td>\n",
       "      <td>NaN</td>\n",
       "      <td>NaN</td>\n",
       "      <td>USP0000A09</td>\n",
       "      <td>US</td>\n",
       "      <td>US</td>\n",
       "      <td>US</td>\n",
       "      <td>Reviewed</td>\n",
       "    </tr>\n",
       "    <tr>\n",
       "      <th>3379</th>\n",
       "      <td>02/23/1975</td>\n",
       "      <td>03:53:36</td>\n",
       "      <td>-21.727</td>\n",
       "      <td>-71.356</td>\n",
       "      <td>Earthquake</td>\n",
       "      <td>33.0</td>\n",
       "      <td>NaN</td>\n",
       "      <td>NaN</td>\n",
       "      <td>5.6</td>\n",
       "      <td>MB</td>\n",
       "      <td>...</td>\n",
       "      <td>NaN</td>\n",
       "      <td>NaN</td>\n",
       "      <td>NaN</td>\n",
       "      <td>NaN</td>\n",
       "      <td>NaN</td>\n",
       "      <td>USP0000A0A</td>\n",
       "      <td>US</td>\n",
       "      <td>US</td>\n",
       "      <td>US</td>\n",
       "      <td>Reviewed</td>\n",
       "    </tr>\n",
       "    <tr>\n",
       "      <th>3380</th>\n",
       "      <td>02/23/1975</td>\n",
       "      <td>07:34:11</td>\n",
       "      <td>-10.879</td>\n",
       "      <td>166.667</td>\n",
       "      <td>Earthquake</td>\n",
       "      <td>33.0</td>\n",
       "      <td>NaN</td>\n",
       "      <td>NaN</td>\n",
       "      <td>5.5</td>\n",
       "      <td>MS</td>\n",
       "      <td>...</td>\n",
       "      <td>NaN</td>\n",
       "      <td>NaN</td>\n",
       "      <td>NaN</td>\n",
       "      <td>NaN</td>\n",
       "      <td>NaN</td>\n",
       "      <td>USP0000A0C</td>\n",
       "      <td>US</td>\n",
       "      <td>US</td>\n",
       "      <td>US</td>\n",
       "      <td>Reviewed</td>\n",
       "    </tr>\n",
       "    <tr>\n",
       "      <th>3381</th>\n",
       "      <td>02/25/1975</td>\n",
       "      <td>05:20:05</td>\n",
       "      <td>-7.388</td>\n",
       "      <td>149.798</td>\n",
       "      <td>Earthquake</td>\n",
       "      <td>33.0</td>\n",
       "      <td>NaN</td>\n",
       "      <td>NaN</td>\n",
       "      <td>5.5</td>\n",
       "      <td>MB</td>\n",
       "      <td>...</td>\n",
       "      <td>NaN</td>\n",
       "      <td>NaN</td>\n",
       "      <td>NaN</td>\n",
       "      <td>NaN</td>\n",
       "      <td>NaN</td>\n",
       "      <td>USP0000A12</td>\n",
       "      <td>US</td>\n",
       "      <td>US</td>\n",
       "      <td>US</td>\n",
       "      <td>Reviewed</td>\n",
       "    </tr>\n",
       "    <tr>\n",
       "      <th>3382</th>\n",
       "      <td>02/26/1975</td>\n",
       "      <td>04:48:55</td>\n",
       "      <td>85.047</td>\n",
       "      <td>97.969</td>\n",
       "      <td>Earthquake</td>\n",
       "      <td>33.0</td>\n",
       "      <td>NaN</td>\n",
       "      <td>NaN</td>\n",
       "      <td>5.6</td>\n",
       "      <td>MS</td>\n",
       "      <td>...</td>\n",
       "      <td>NaN</td>\n",
       "      <td>NaN</td>\n",
       "      <td>NaN</td>\n",
       "      <td>NaN</td>\n",
       "      <td>NaN</td>\n",
       "      <td>USP0000A1H</td>\n",
       "      <td>US</td>\n",
       "      <td>US</td>\n",
       "      <td>US</td>\n",
       "      <td>Reviewed</td>\n",
       "    </tr>\n",
       "  </tbody>\n",
       "</table>\n",
       "<p>5 rows × 21 columns</p>\n",
       "</div>"
      ],
      "text/plain": [
       "                          Date                      Time  Latitude  Longitude  \\\n",
       "3378  1975-02-23T02:58:41.000Z  1975-02-23T02:58:41.000Z     8.017    124.075   \n",
       "3379                02/23/1975                  03:53:36   -21.727    -71.356   \n",
       "3380                02/23/1975                  07:34:11   -10.879    166.667   \n",
       "3381                02/25/1975                  05:20:05    -7.388    149.798   \n",
       "3382                02/26/1975                  04:48:55    85.047     97.969   \n",
       "\n",
       "            Type  Depth  Depth Error  Depth Seismic Stations  Magnitude  \\\n",
       "3378  Earthquake  623.0          NaN                     NaN        5.6   \n",
       "3379  Earthquake   33.0          NaN                     NaN        5.6   \n",
       "3380  Earthquake   33.0          NaN                     NaN        5.5   \n",
       "3381  Earthquake   33.0          NaN                     NaN        5.5   \n",
       "3382  Earthquake   33.0          NaN                     NaN        5.6   \n",
       "\n",
       "     Magnitude Type  ...  Magnitude Seismic Stations  Azimuthal Gap  \\\n",
       "3378             MB  ...                         NaN            NaN   \n",
       "3379             MB  ...                         NaN            NaN   \n",
       "3380             MS  ...                         NaN            NaN   \n",
       "3381             MB  ...                         NaN            NaN   \n",
       "3382             MS  ...                         NaN            NaN   \n",
       "\n",
       "      Horizontal Distance  Horizontal Error  Root Mean Square          ID  \\\n",
       "3378                  NaN               NaN               NaN  USP0000A09   \n",
       "3379                  NaN               NaN               NaN  USP0000A0A   \n",
       "3380                  NaN               NaN               NaN  USP0000A0C   \n",
       "3381                  NaN               NaN               NaN  USP0000A12   \n",
       "3382                  NaN               NaN               NaN  USP0000A1H   \n",
       "\n",
       "     Source Location Source Magnitude Source    Status  \n",
       "3378     US              US               US  Reviewed  \n",
       "3379     US              US               US  Reviewed  \n",
       "3380     US              US               US  Reviewed  \n",
       "3381     US              US               US  Reviewed  \n",
       "3382     US              US               US  Reviewed  \n",
       "\n",
       "[5 rows x 21 columns]"
      ]
     },
     "execution_count": 6,
     "metadata": {},
     "output_type": "execute_result"
    }
   ],
   "source": [
    "earthquakes[3378:3383]"
   ]
  },
  {
   "cell_type": "markdown",
   "id": "40f52f06",
   "metadata": {
    "papermill": {
     "duration": 0.006425,
     "end_time": "2023-06-29T22:40:10.443978",
     "exception": false,
     "start_time": "2023-06-29T22:40:10.437553",
     "status": "completed"
    },
    "tags": []
   },
   "source": [
    "This does appear to be an issue with data entry: ideally, all entries in the column have the same format.  We can get an idea of how widespread this issue is by checking the length of each entry in the \"Date\" column."
   ]
  },
  {
   "cell_type": "code",
   "execution_count": 7,
   "id": "1e74cf9a",
   "metadata": {
    "execution": {
     "iopub.execute_input": "2023-06-29T22:40:10.460253Z",
     "iopub.status.busy": "2023-06-29T22:40:10.458920Z",
     "iopub.status.idle": "2023-06-29T22:40:10.478430Z",
     "shell.execute_reply": "2023-06-29T22:40:10.476969Z"
    },
    "papermill": {
     "duration": 0.030493,
     "end_time": "2023-06-29T22:40:10.481274",
     "exception": false,
     "start_time": "2023-06-29T22:40:10.450781",
     "status": "completed"
    },
    "tags": []
   },
   "outputs": [
    {
     "data": {
      "text/plain": [
       "10    23409\n",
       "24        3\n",
       "Name: Date, dtype: int64"
      ]
     },
     "execution_count": 7,
     "metadata": {},
     "output_type": "execute_result"
    }
   ],
   "source": [
    "date_lengths = earthquakes.Date.str.len()\n",
    "date_lengths.value_counts()"
   ]
  },
  {
   "cell_type": "markdown",
   "id": "73bf5f34",
   "metadata": {
    "papermill": {
     "duration": 0.00693,
     "end_time": "2023-06-29T22:40:10.495439",
     "exception": false,
     "start_time": "2023-06-29T22:40:10.488509",
     "status": "completed"
    },
    "tags": []
   },
   "source": [
    "Looks like there are two more rows that has a date in a different format.  Run the code cell below to obtain the indices corresponding to those rows and print the data."
   ]
  },
  {
   "cell_type": "code",
   "execution_count": 8,
   "id": "8b72d391",
   "metadata": {
    "execution": {
     "iopub.execute_input": "2023-06-29T22:40:10.510712Z",
     "iopub.status.busy": "2023-06-29T22:40:10.510311Z",
     "iopub.status.idle": "2023-06-29T22:40:10.533506Z",
     "shell.execute_reply": "2023-06-29T22:40:10.532350Z"
    },
    "papermill": {
     "duration": 0.033441,
     "end_time": "2023-06-29T22:40:10.535633",
     "exception": false,
     "start_time": "2023-06-29T22:40:10.502192",
     "status": "completed"
    },
    "tags": []
   },
   "outputs": [
    {
     "name": "stdout",
     "output_type": "stream",
     "text": [
      "Indices with corrupted data: [ 3378  7512 20650]\n"
     ]
    },
    {
     "data": {
      "text/html": [
       "<div>\n",
       "<style scoped>\n",
       "    .dataframe tbody tr th:only-of-type {\n",
       "        vertical-align: middle;\n",
       "    }\n",
       "\n",
       "    .dataframe tbody tr th {\n",
       "        vertical-align: top;\n",
       "    }\n",
       "\n",
       "    .dataframe thead th {\n",
       "        text-align: right;\n",
       "    }\n",
       "</style>\n",
       "<table border=\"1\" class=\"dataframe\">\n",
       "  <thead>\n",
       "    <tr style=\"text-align: right;\">\n",
       "      <th></th>\n",
       "      <th>Date</th>\n",
       "      <th>Time</th>\n",
       "      <th>Latitude</th>\n",
       "      <th>Longitude</th>\n",
       "      <th>Type</th>\n",
       "      <th>Depth</th>\n",
       "      <th>Depth Error</th>\n",
       "      <th>Depth Seismic Stations</th>\n",
       "      <th>Magnitude</th>\n",
       "      <th>Magnitude Type</th>\n",
       "      <th>...</th>\n",
       "      <th>Magnitude Seismic Stations</th>\n",
       "      <th>Azimuthal Gap</th>\n",
       "      <th>Horizontal Distance</th>\n",
       "      <th>Horizontal Error</th>\n",
       "      <th>Root Mean Square</th>\n",
       "      <th>ID</th>\n",
       "      <th>Source</th>\n",
       "      <th>Location Source</th>\n",
       "      <th>Magnitude Source</th>\n",
       "      <th>Status</th>\n",
       "    </tr>\n",
       "  </thead>\n",
       "  <tbody>\n",
       "    <tr>\n",
       "      <th>3378</th>\n",
       "      <td>1975-02-23T02:58:41.000Z</td>\n",
       "      <td>1975-02-23T02:58:41.000Z</td>\n",
       "      <td>8.017</td>\n",
       "      <td>124.075</td>\n",
       "      <td>Earthquake</td>\n",
       "      <td>623.0</td>\n",
       "      <td>NaN</td>\n",
       "      <td>NaN</td>\n",
       "      <td>5.6</td>\n",
       "      <td>MB</td>\n",
       "      <td>...</td>\n",
       "      <td>NaN</td>\n",
       "      <td>NaN</td>\n",
       "      <td>NaN</td>\n",
       "      <td>NaN</td>\n",
       "      <td>NaN</td>\n",
       "      <td>USP0000A09</td>\n",
       "      <td>US</td>\n",
       "      <td>US</td>\n",
       "      <td>US</td>\n",
       "      <td>Reviewed</td>\n",
       "    </tr>\n",
       "    <tr>\n",
       "      <th>7512</th>\n",
       "      <td>1985-04-28T02:53:41.530Z</td>\n",
       "      <td>1985-04-28T02:53:41.530Z</td>\n",
       "      <td>-32.998</td>\n",
       "      <td>-71.766</td>\n",
       "      <td>Earthquake</td>\n",
       "      <td>33.0</td>\n",
       "      <td>NaN</td>\n",
       "      <td>NaN</td>\n",
       "      <td>5.6</td>\n",
       "      <td>MW</td>\n",
       "      <td>...</td>\n",
       "      <td>NaN</td>\n",
       "      <td>NaN</td>\n",
       "      <td>NaN</td>\n",
       "      <td>NaN</td>\n",
       "      <td>1.30</td>\n",
       "      <td>USP0002E81</td>\n",
       "      <td>US</td>\n",
       "      <td>US</td>\n",
       "      <td>HRV</td>\n",
       "      <td>Reviewed</td>\n",
       "    </tr>\n",
       "    <tr>\n",
       "      <th>20650</th>\n",
       "      <td>2011-03-13T02:23:34.520Z</td>\n",
       "      <td>2011-03-13T02:23:34.520Z</td>\n",
       "      <td>36.344</td>\n",
       "      <td>142.344</td>\n",
       "      <td>Earthquake</td>\n",
       "      <td>10.1</td>\n",
       "      <td>13.9</td>\n",
       "      <td>289.0</td>\n",
       "      <td>5.8</td>\n",
       "      <td>MWC</td>\n",
       "      <td>...</td>\n",
       "      <td>NaN</td>\n",
       "      <td>32.3</td>\n",
       "      <td>NaN</td>\n",
       "      <td>NaN</td>\n",
       "      <td>1.06</td>\n",
       "      <td>USP000HWQP</td>\n",
       "      <td>US</td>\n",
       "      <td>US</td>\n",
       "      <td>GCMT</td>\n",
       "      <td>Reviewed</td>\n",
       "    </tr>\n",
       "  </tbody>\n",
       "</table>\n",
       "<p>3 rows × 21 columns</p>\n",
       "</div>"
      ],
      "text/plain": [
       "                           Date                      Time  Latitude  \\\n",
       "3378   1975-02-23T02:58:41.000Z  1975-02-23T02:58:41.000Z     8.017   \n",
       "7512   1985-04-28T02:53:41.530Z  1985-04-28T02:53:41.530Z   -32.998   \n",
       "20650  2011-03-13T02:23:34.520Z  2011-03-13T02:23:34.520Z    36.344   \n",
       "\n",
       "       Longitude        Type  Depth  Depth Error  Depth Seismic Stations  \\\n",
       "3378     124.075  Earthquake  623.0          NaN                     NaN   \n",
       "7512     -71.766  Earthquake   33.0          NaN                     NaN   \n",
       "20650    142.344  Earthquake   10.1         13.9                   289.0   \n",
       "\n",
       "       Magnitude Magnitude Type  ...  Magnitude Seismic Stations  \\\n",
       "3378         5.6             MB  ...                         NaN   \n",
       "7512         5.6             MW  ...                         NaN   \n",
       "20650        5.8            MWC  ...                         NaN   \n",
       "\n",
       "       Azimuthal Gap  Horizontal Distance  Horizontal Error  Root Mean Square  \\\n",
       "3378             NaN                  NaN               NaN               NaN   \n",
       "7512             NaN                  NaN               NaN              1.30   \n",
       "20650           32.3                  NaN               NaN              1.06   \n",
       "\n",
       "               ID Source Location Source Magnitude Source    Status  \n",
       "3378   USP0000A09     US              US               US  Reviewed  \n",
       "7512   USP0002E81     US              US              HRV  Reviewed  \n",
       "20650  USP000HWQP     US              US             GCMT  Reviewed  \n",
       "\n",
       "[3 rows x 21 columns]"
      ]
     },
     "execution_count": 8,
     "metadata": {},
     "output_type": "execute_result"
    }
   ],
   "source": [
    "indices = np.where([date_lengths == 24])[1]\n",
    "print('Indices with corrupted data:', indices)\n",
    "earthquakes.loc[indices]"
   ]
  },
  {
   "cell_type": "markdown",
   "id": "b67350b6",
   "metadata": {
    "papermill": {
     "duration": 0.007159,
     "end_time": "2023-06-29T22:40:10.550191",
     "exception": false,
     "start_time": "2023-06-29T22:40:10.543032",
     "status": "completed"
    },
    "tags": []
   },
   "source": [
    "Given all of this information, it's your turn to create a new column \"date_parsed\" in the `earthquakes` dataset that has correctly parsed dates in it.  \n",
    "\n",
    "**Note**: When completing this problem, you are allowed to (but are not required to) amend the entries in the \"Date\" and \"Time\" columns.  Do not remove any rows from the dataset."
   ]
  },
  {
   "cell_type": "code",
   "execution_count": 9,
   "id": "6532855f",
   "metadata": {
    "execution": {
     "iopub.execute_input": "2023-06-29T22:40:10.565990Z",
     "iopub.status.busy": "2023-06-29T22:40:10.565662Z",
     "iopub.status.idle": "2023-06-29T22:40:10.618131Z",
     "shell.execute_reply": "2023-06-29T22:40:10.617060Z"
    },
    "papermill": {
     "duration": 0.063258,
     "end_time": "2023-06-29T22:40:10.620536",
     "exception": false,
     "start_time": "2023-06-29T22:40:10.557278",
     "status": "completed"
    },
    "tags": []
   },
   "outputs": [
    {
     "data": {
      "application/javascript": [
       "parent.postMessage({\"jupyterEvent\": \"custom.exercise_interaction\", \"data\": {\"outcomeType\": 1, \"valueTowardsCompletion\": 0.25, \"interactionType\": 1, \"questionType\": 2, \"questionId\": \"2_ConvertToDatetime\", \"learnToolsVersion\": \"0.3.4\", \"failureMessage\": \"\", \"exceptionClass\": \"\", \"trace\": \"\"}}, \"*\")"
      ],
      "text/plain": [
       "<IPython.core.display.Javascript object>"
      ]
     },
     "metadata": {},
     "output_type": "display_data"
    },
    {
     "data": {
      "text/markdown": [
       "<span style=\"color:#33cc33\">Correct</span>"
      ],
      "text/plain": [
       "Correct"
      ]
     },
     "metadata": {},
     "output_type": "display_data"
    },
    {
     "name": "stdout",
     "output_type": "stream",
     "text": [
      "0       1965-01-02\n",
      "1       1965-01-04\n",
      "2       1965-01-05\n",
      "3       1965-01-08\n",
      "4       1965-01-09\n",
      "           ...    \n",
      "23407   2016-12-28\n",
      "23408   2016-12-28\n",
      "23409   2016-12-28\n",
      "23410   2016-12-29\n",
      "23411   2016-12-30\n",
      "Name: date_parsed, Length: 23412, dtype: datetime64[ns]\n"
     ]
    }
   ],
   "source": [
    "# TODO: Your code here\n",
    "earthquakes['date_parsed']= pd.to_datetime(earthquakes['Date'].drop(indices),format = \"%m/%d/%Y\")\n",
    "earthquakes.loc[indices,'Date'] = earthquakes.loc[indices,'Date'].str[:10]\n",
    "earthquakes.loc[indices,'date_parsed'] = pd.to_datetime(earthquakes.loc[indices,'Date'],format = \"%Y-%m-%d\")\n",
    "\n",
    "# Check your answer\n",
    "q2.check()\n",
    "print(earthquakes.loc[:,'date_parsed'])"
   ]
  },
  {
   "cell_type": "code",
   "execution_count": 10,
   "id": "3772bfeb",
   "metadata": {
    "execution": {
     "iopub.execute_input": "2023-06-29T22:40:10.636115Z",
     "iopub.status.busy": "2023-06-29T22:40:10.635811Z",
     "iopub.status.idle": "2023-06-29T22:40:10.639998Z",
     "shell.execute_reply": "2023-06-29T22:40:10.638707Z"
    },
    "papermill": {
     "duration": 0.01421,
     "end_time": "2023-06-29T22:40:10.641962",
     "exception": false,
     "start_time": "2023-06-29T22:40:10.627752",
     "status": "completed"
    },
    "tags": []
   },
   "outputs": [],
   "source": [
    "# Lines below will give you a hint or solution code\n",
    "#q2.hint()\n",
    "#q2.solution()"
   ]
  },
  {
   "cell_type": "markdown",
   "id": "71396789",
   "metadata": {
    "papermill": {
     "duration": 0.007069,
     "end_time": "2023-06-29T22:40:10.656890",
     "exception": false,
     "start_time": "2023-06-29T22:40:10.649821",
     "status": "completed"
    },
    "tags": []
   },
   "source": [
    "# 3) Select the day of the month\n",
    "\n",
    "Create a Pandas Series `day_of_month_earthquakes` containing the day of the month from the \"date_parsed\" column."
   ]
  },
  {
   "cell_type": "code",
   "execution_count": 11,
   "id": "808e220c",
   "metadata": {
    "execution": {
     "iopub.execute_input": "2023-06-29T22:40:10.673664Z",
     "iopub.status.busy": "2023-06-29T22:40:10.673312Z",
     "iopub.status.idle": "2023-06-29T22:40:10.683786Z",
     "shell.execute_reply": "2023-06-29T22:40:10.682340Z"
    },
    "papermill": {
     "duration": 0.021489,
     "end_time": "2023-06-29T22:40:10.685876",
     "exception": false,
     "start_time": "2023-06-29T22:40:10.664387",
     "status": "completed"
    },
    "tags": []
   },
   "outputs": [
    {
     "data": {
      "application/javascript": [
       "parent.postMessage({\"jupyterEvent\": \"custom.exercise_interaction\", \"data\": {\"outcomeType\": 1, \"valueTowardsCompletion\": 0.25, \"interactionType\": 1, \"questionType\": 1, \"questionId\": \"3_DayOfMonth\", \"learnToolsVersion\": \"0.3.4\", \"failureMessage\": \"\", \"exceptionClass\": \"\", \"trace\": \"\"}}, \"*\")"
      ],
      "text/plain": [
       "<IPython.core.display.Javascript object>"
      ]
     },
     "metadata": {},
     "output_type": "display_data"
    },
    {
     "data": {
      "text/markdown": [
       "<span style=\"color:#33cc33\">Correct</span>"
      ],
      "text/plain": [
       "Correct"
      ]
     },
     "metadata": {},
     "output_type": "display_data"
    }
   ],
   "source": [
    "# try to get the day of the month from the date column\n",
    "day_of_month_earthquakes = earthquakes['date_parsed'].dt.day\n",
    "\n",
    "# Check your answer\n",
    "q3.check()"
   ]
  },
  {
   "cell_type": "code",
   "execution_count": 12,
   "id": "1a202b9c",
   "metadata": {
    "execution": {
     "iopub.execute_input": "2023-06-29T22:40:10.702515Z",
     "iopub.status.busy": "2023-06-29T22:40:10.702181Z",
     "iopub.status.idle": "2023-06-29T22:40:10.706113Z",
     "shell.execute_reply": "2023-06-29T22:40:10.705291Z"
    },
    "papermill": {
     "duration": 0.014952,
     "end_time": "2023-06-29T22:40:10.708233",
     "exception": false,
     "start_time": "2023-06-29T22:40:10.693281",
     "status": "completed"
    },
    "tags": []
   },
   "outputs": [],
   "source": [
    "# Lines below will give you a hint or solution code\n",
    "#q3.hint()\n",
    "#q3.solution()"
   ]
  },
  {
   "cell_type": "markdown",
   "id": "756772e6",
   "metadata": {
    "papermill": {
     "duration": 0.007096,
     "end_time": "2023-06-29T22:40:10.723209",
     "exception": false,
     "start_time": "2023-06-29T22:40:10.716113",
     "status": "completed"
    },
    "tags": []
   },
   "source": [
    "# 4) Plot the day of the month to check the date parsing\n",
    "\n",
    "Plot the days of the month from your earthquake dataset."
   ]
  },
  {
   "cell_type": "code",
   "execution_count": 13,
   "id": "cb330e0e",
   "metadata": {
    "execution": {
     "iopub.execute_input": "2023-06-29T22:40:10.739710Z",
     "iopub.status.busy": "2023-06-29T22:40:10.739350Z",
     "iopub.status.idle": "2023-06-29T22:40:11.070004Z",
     "shell.execute_reply": "2023-06-29T22:40:11.069121Z"
    },
    "papermill": {
     "duration": 0.34137,
     "end_time": "2023-06-29T22:40:11.071925",
     "exception": false,
     "start_time": "2023-06-29T22:40:10.730555",
     "status": "completed"
    },
    "tags": []
   },
   "outputs": [
    {
     "data": {
      "text/plain": [
       "<seaborn.axisgrid.FacetGrid at 0x7e84e00a3520>"
      ]
     },
     "execution_count": 13,
     "metadata": {},
     "output_type": "execute_result"
    },
    {
     "data": {
      "image/png": "[encoded data removed]",
      "text/plain": [
       "<Figure size 500x500 with 1 Axes>"
      ]
     },
     "metadata": {},
     "output_type": "display_data"
    }
   ],
   "source": [
    "# TODO: Your code here!\n",
    "sns.displot(day_of_month_earthquakes,bins = 31, kde = False)"
   ]
  },
  {
   "cell_type": "markdown",
   "id": "634470b7",
   "metadata": {
    "papermill": {
     "duration": 0.007586,
     "end_time": "2023-06-29T22:40:11.087551",
     "exception": false,
     "start_time": "2023-06-29T22:40:11.079965",
     "status": "completed"
    },
    "tags": []
   },
   "source": [
    "Does the graph make sense to you?"
   ]
  },
  {
   "cell_type": "code",
   "execution_count": 14,
   "id": "9cb07b71",
   "metadata": {
    "execution": {
     "iopub.execute_input": "2023-06-29T22:40:11.105637Z",
     "iopub.status.busy": "2023-06-29T22:40:11.105089Z",
     "iopub.status.idle": "2023-06-29T22:40:11.112697Z",
     "shell.execute_reply": "2023-06-29T22:40:11.111750Z"
    },
    "papermill": {
     "duration": 0.019718,
     "end_time": "2023-06-29T22:40:11.115432",
     "exception": false,
     "start_time": "2023-06-29T22:40:11.095714",
     "status": "completed"
    },
    "tags": []
   },
   "outputs": [
    {
     "data": {
      "application/javascript": [
       "parent.postMessage({\"jupyterEvent\": \"custom.exercise_interaction\", \"data\": {\"outcomeType\": 1, \"valueTowardsCompletion\": 0.25, \"interactionType\": 1, \"questionType\": 4, \"questionId\": \"4_PlotDayOfMonth\", \"learnToolsVersion\": \"0.3.4\", \"failureMessage\": \"\", \"exceptionClass\": \"\", \"trace\": \"\"}}, \"*\")"
      ],
      "text/plain": [
       "<IPython.core.display.Javascript object>"
      ]
     },
     "metadata": {},
     "output_type": "display_data"
    },
    {
     "data": {
      "text/markdown": [
       "<span style=\"color:#33cc33\">Correct:</span> \n",
       "\n",
       "The graph should make sense: it shows a relatively even distribution in days of the month,which is what we would expect."
      ],
      "text/plain": [
       "Correct: \n",
       "\n",
       "The graph should make sense: it shows a relatively even distribution in days of the month,which is what we would expect."
      ]
     },
     "metadata": {},
     "output_type": "display_data"
    }
   ],
   "source": [
    "# Check your answer (Run this code cell to receive credit!)\n",
    "q4.check()"
   ]
  },
  {
   "cell_type": "code",
   "execution_count": 15,
   "id": "099a2e26",
   "metadata": {
    "execution": {
     "iopub.execute_input": "2023-06-29T22:40:11.133789Z",
     "iopub.status.busy": "2023-06-29T22:40:11.133307Z",
     "iopub.status.idle": "2023-06-29T22:40:11.136195Z",
     "shell.execute_reply": "2023-06-29T22:40:11.135619Z"
    },
    "papermill": {
     "duration": 0.013839,
     "end_time": "2023-06-29T22:40:11.137806",
     "exception": false,
     "start_time": "2023-06-29T22:40:11.123967",
     "status": "completed"
    },
    "tags": []
   },
   "outputs": [],
   "source": [
    "# Line below will give you a hint\n",
    "#q4.hint()"
   ]
  },
  {
   "cell_type": "markdown",
   "id": "84b2b2e9",
   "metadata": {
    "papermill": {
     "duration": 0.007622,
     "end_time": "2023-06-29T22:40:11.153754",
     "exception": false,
     "start_time": "2023-06-29T22:40:11.146132",
     "status": "completed"
    },
    "tags": []
   },
   "source": [
    "# (Optional) Bonus Challenge\n",
    "\n",
    "For an extra challenge, you'll work with a [Smithsonian dataset](https://www.kaggle.com/smithsonian/volcanic-eruptions) that documents Earth's volcanoes and their eruptive history over the past 10,000 years \n",
    "\n",
    "Run the next code cell to load the data."
   ]
  },
  {
   "cell_type": "code",
   "execution_count": 16,
   "id": "00368f8e",
   "metadata": {
    "execution": {
     "iopub.execute_input": "2023-06-29T22:40:11.171247Z",
     "iopub.status.busy": "2023-06-29T22:40:11.170695Z",
     "iopub.status.idle": "2023-06-29T22:40:11.194745Z",
     "shell.execute_reply": "2023-06-29T22:40:11.193855Z"
    },
    "papermill": {
     "duration": 0.035569,
     "end_time": "2023-06-29T22:40:11.197106",
     "exception": false,
     "start_time": "2023-06-29T22:40:11.161537",
     "status": "completed"
    },
    "tags": []
   },
   "outputs": [],
   "source": [
    "volcanos = pd.read_csv(\"../input/volcanic-eruptions/database.csv\")"
   ]
  },
  {
   "cell_type": "markdown",
   "id": "4f46493c",
   "metadata": {
    "papermill": {
     "duration": 0.007895,
     "end_time": "2023-06-29T22:40:11.213373",
     "exception": false,
     "start_time": "2023-06-29T22:40:11.205478",
     "status": "completed"
    },
    "tags": []
   },
   "source": [
    "Try parsing the column \"Last Known Eruption\" from the `volcanos` dataframe. This column contains a mixture of text (\"Unknown\") and years both before the common era (BCE, also known as BC) and in the common era (CE, also known as AD)."
   ]
  },
  {
   "cell_type": "code",
   "execution_count": 17,
   "id": "ef1b01ba",
   "metadata": {
    "execution": {
     "iopub.execute_input": "2023-06-29T22:40:11.231302Z",
     "iopub.status.busy": "2023-06-29T22:40:11.230970Z",
     "iopub.status.idle": "2023-06-29T22:40:11.237946Z",
     "shell.execute_reply": "2023-06-29T22:40:11.236898Z"
    },
    "papermill": {
     "duration": 0.018006,
     "end_time": "2023-06-29T22:40:11.239741",
     "exception": false,
     "start_time": "2023-06-29T22:40:11.221735",
     "status": "completed"
    },
    "tags": []
   },
   "outputs": [
    {
     "data": {
      "text/plain": [
       "764     Unknown\n",
       "1069    1996 CE\n",
       "34      1855 CE\n",
       "489     2016 CE\n",
       "9       1302 CE\n",
       "Name: Last Known Eruption, dtype: object"
      ]
     },
     "execution_count": 17,
     "metadata": {},
     "output_type": "execute_result"
    }
   ],
   "source": [
    "volcanos['Last Known Eruption'].sample(5)"
   ]
  },
  {
   "cell_type": "markdown",
   "id": "63e41202",
   "metadata": {
    "papermill": {
     "duration": 0.009715,
     "end_time": "2023-06-29T22:40:11.257829",
     "exception": false,
     "start_time": "2023-06-29T22:40:11.248114",
     "status": "completed"
    },
    "tags": []
   },
   "source": [
    "# (Optional) More practice\n",
    "\n",
    "If you're interested in graphing time series, [check out this tutorial](https://www.kaggle.com/residentmario/time-series-plotting-optional).\n",
    "\n",
    "You can also look into passing columns that you know have dates in them  the `parse_dates` argument in `read_csv`. (The documention [is here](https://pandas.pydata.org/pandas-docs/stable/generated/pandas.read_csv.html).) Do note that this method can be very slow, but depending on your needs it may sometimes be handy to use.\n",
    "\n",
    "# Keep going\n",
    "\n",
    "In the next lesson, learn how to [**work with character encodings**](https://www.kaggle.com/alexisbcook/character-encodings)."
   ]
  },
  {
   "cell_type": "markdown",
   "id": "8e406fc7",
   "metadata": {
    "papermill": {
     "duration": 0.007655,
     "end_time": "2023-06-29T22:40:11.274368",
     "exception": false,
     "start_time": "2023-06-29T22:40:11.266713",
     "status": "completed"
    },
    "tags": []
   },
   "source": [
    "---\n",
    "\n",
    "\n",
    "\n",
    "\n",
    "*Have questions or comments? Visit the [course discussion forum](https://www.kaggle.com/learn/data-cleaning/discussion) to chat with other learners.*"
   ]
  }
 ],
 "metadata": {
  "kernelspec": {
   "display_name": "Python 3",
   "language": "python",
   "name": "python3"
  },
  "language_info": {
   "codemirror_mode": {
    "name": "ipython",
    "version": 3
   },
   "file_extension": ".py",
   "mimetype": "text/x-python",
   "name": "python",
   "nbconvert_exporter": "python",
   "pygments_lexer": "ipython3",
   "version": "3.10.10"
  },
  "papermill": {
   "default_parameters": {},
   "duration": 13.099565,
   "end_time": "2023-06-29T22:40:12.204368",
   "environment_variables": {},
   "exception": null,
   "input_path": "__notebook__.ipynb",
   "output_path": "__notebook__.ipynb",
   "parameters": {},
   "start_time": "2023-06-29T22:39:59.104803",
   "version": "2.4.0"
  }
 },
 "nbformat": 4,
 "nbformat_minor": 5
}
