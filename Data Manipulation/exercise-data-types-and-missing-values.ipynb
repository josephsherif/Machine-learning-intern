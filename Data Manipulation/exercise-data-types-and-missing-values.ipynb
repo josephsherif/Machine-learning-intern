{
 "cells": [
  {
   "cell_type": "markdown",
   "id": "b81bd70f",
   "metadata": {
    "papermill": {
     "duration": 0.003839,
     "end_time": "2023-06-30T13:25:28.577722",
     "exception": false,
     "start_time": "2023-06-30T13:25:28.573883",
     "status": "completed"
    },
    "tags": []
   },
   "source": [
    "**This notebook is an exercise in the [Pandas](https://www.kaggle.com/learn/pandas) course.  You can reference the tutorial at [this link](https://www.kaggle.com/residentmario/data-types-and-missing-values).**\n",
    "\n",
    "---\n"
   ]
  },
  {
   "cell_type": "markdown",
   "id": "96634660",
   "metadata": {
    "papermill": {
     "duration": 0.003045,
     "end_time": "2023-06-30T13:25:28.584191",
     "exception": false,
     "start_time": "2023-06-30T13:25:28.581146",
     "status": "completed"
    },
    "tags": []
   },
   "source": [
    "# Introduction\n",
    "\n",
    "Run the following cell to load your data and some utility functions."
   ]
  },
  {
   "cell_type": "code",
   "execution_count": 1,
   "id": "63f73113",
   "metadata": {
    "execution": {
     "iopub.execute_input": "2023-06-30T13:25:28.592273Z",
     "iopub.status.busy": "2023-06-30T13:25:28.591912Z",
     "iopub.status.idle": "2023-06-30T13:25:30.911063Z",
     "shell.execute_reply": "2023-06-30T13:25:30.909978Z"
    },
    "papermill": {
     "duration": 2.325654,
     "end_time": "2023-06-30T13:25:30.913092",
     "exception": false,
     "start_time": "2023-06-30T13:25:28.587438",
     "status": "completed"
    },
    "tags": []
   },
   "outputs": [
    {
     "name": "stdout",
     "output_type": "stream",
     "text": [
      "Setup complete.\n"
     ]
    }
   ],
   "source": [
    "import pandas as pd\n",
    "\n",
    "reviews = pd.read_csv(\"../input/wine-reviews/winemag-data-130k-v2.csv\", index_col=0)\n",
    "\n",
    "from learntools.core import binder; binder.bind(globals())\n",
    "from learntools.pandas.data_types_and_missing_data import *\n",
    "print(\"Setup complete.\")"
   ]
  },
  {
   "cell_type": "markdown",
   "id": "26f18efc",
   "metadata": {
    "papermill": {
     "duration": 0.003105,
     "end_time": "2023-06-30T13:25:30.919848",
     "exception": false,
     "start_time": "2023-06-30T13:25:30.916743",
     "status": "completed"
    },
    "tags": []
   },
   "source": [
    "# Exercises"
   ]
  },
  {
   "cell_type": "markdown",
   "id": "6207d6c0",
   "metadata": {
    "papermill": {
     "duration": 0.003183,
     "end_time": "2023-06-30T13:25:30.926269",
     "exception": false,
     "start_time": "2023-06-30T13:25:30.923086",
     "status": "completed"
    },
    "tags": []
   },
   "source": [
    "## 1. \n",
    "What is the data type of the `points` column in the dataset?"
   ]
  },
  {
   "cell_type": "code",
   "execution_count": 2,
   "id": "ab9d53f2",
   "metadata": {
    "execution": {
     "iopub.execute_input": "2023-06-30T13:25:30.933865Z",
     "iopub.status.busy": "2023-06-30T13:25:30.933562Z",
     "iopub.status.idle": "2023-06-30T13:25:30.941888Z",
     "shell.execute_reply": "2023-06-30T13:25:30.941062Z"
    },
    "papermill": {
     "duration": 0.014105,
     "end_time": "2023-06-30T13:25:30.943518",
     "exception": false,
     "start_time": "2023-06-30T13:25:30.929413",
     "status": "completed"
    },
    "tags": []
   },
   "outputs": [
    {
     "data": {
      "application/javascript": [
       "parent.postMessage({\"jupyterEvent\": \"custom.exercise_interaction\", \"data\": {\"outcomeType\": 1, \"valueTowardsCompletion\": 0.25, \"interactionType\": 1, \"questionType\": 1, \"questionId\": \"1_PointsDtype\", \"learnToolsVersion\": \"0.3.4\", \"failureMessage\": \"\", \"exceptionClass\": \"\", \"trace\": \"\"}}, \"*\")"
      ],
      "text/plain": [
       "<IPython.core.display.Javascript object>"
      ]
     },
     "metadata": {},
     "output_type": "display_data"
    },
    {
     "data": {
      "text/markdown": [
       "<span style=\"color:#33cc33\">Correct</span>"
      ],
      "text/plain": [
       "Correct"
      ]
     },
     "metadata": {},
     "output_type": "display_data"
    }
   ],
   "source": [
    "# Your code here\n",
    "dtype = reviews.points.dtype\n",
    "\n",
    "\n",
    "# Check your answer\n",
    "q1.check()"
   ]
  },
  {
   "cell_type": "code",
   "execution_count": 3,
   "id": "5e0bb4b9",
   "metadata": {
    "execution": {
     "iopub.execute_input": "2023-06-30T13:25:30.953447Z",
     "iopub.status.busy": "2023-06-30T13:25:30.953109Z",
     "iopub.status.idle": "2023-06-30T13:25:30.957022Z",
     "shell.execute_reply": "2023-06-30T13:25:30.956219Z"
    },
    "papermill": {
     "duration": 0.01135,
     "end_time": "2023-06-30T13:25:30.958596",
     "exception": false,
     "start_time": "2023-06-30T13:25:30.947246",
     "status": "completed"
    },
    "tags": []
   },
   "outputs": [],
   "source": [
    "#q1.hint()\n",
    "#q1.solution()"
   ]
  },
  {
   "cell_type": "markdown",
   "id": "acd1e207",
   "metadata": {
    "papermill": {
     "duration": 0.003292,
     "end_time": "2023-06-30T13:25:30.965607",
     "exception": false,
     "start_time": "2023-06-30T13:25:30.962315",
     "status": "completed"
    },
    "tags": []
   },
   "source": [
    "## 2. \n",
    "Create a Series from entries in the `points` column, but convert the entries to strings. Hint: strings are `str` in native Python."
   ]
  },
  {
   "cell_type": "code",
   "execution_count": 4,
   "id": "9acde160",
   "metadata": {
    "execution": {
     "iopub.execute_input": "2023-06-30T13:25:30.974153Z",
     "iopub.status.busy": "2023-06-30T13:25:30.973474Z",
     "iopub.status.idle": "2023-06-30T13:25:31.018528Z",
     "shell.execute_reply": "2023-06-30T13:25:31.017894Z"
    },
    "papermill": {
     "duration": 0.051084,
     "end_time": "2023-06-30T13:25:31.020146",
     "exception": false,
     "start_time": "2023-06-30T13:25:30.969062",
     "status": "completed"
    },
    "tags": []
   },
   "outputs": [
    {
     "data": {
      "application/javascript": [
       "parent.postMessage({\"jupyterEvent\": \"custom.exercise_interaction\", \"data\": {\"outcomeType\": 1, \"valueTowardsCompletion\": 0.25, \"interactionType\": 1, \"questionType\": 1, \"questionId\": \"2_StrPoints\", \"learnToolsVersion\": \"0.3.4\", \"failureMessage\": \"\", \"exceptionClass\": \"\", \"trace\": \"\"}}, \"*\")"
      ],
      "text/plain": [
       "<IPython.core.display.Javascript object>"
      ]
     },
     "metadata": {},
     "output_type": "display_data"
    },
    {
     "data": {
      "text/markdown": [
       "<span style=\"color:#33cc33\">Correct</span>"
      ],
      "text/plain": [
       "Correct"
      ]
     },
     "metadata": {},
     "output_type": "display_data"
    }
   ],
   "source": [
    "point_strings = reviews.points.astype('str')\n",
    "\n",
    "# Check your answer\n",
    "q2.check()"
   ]
  },
  {
   "cell_type": "code",
   "execution_count": 5,
   "id": "56ae065d",
   "metadata": {
    "execution": {
     "iopub.execute_input": "2023-06-30T13:25:31.029592Z",
     "iopub.status.busy": "2023-06-30T13:25:31.029031Z",
     "iopub.status.idle": "2023-06-30T13:25:31.032812Z",
     "shell.execute_reply": "2023-06-30T13:25:31.031888Z"
    },
    "papermill": {
     "duration": 0.010769,
     "end_time": "2023-06-30T13:25:31.034832",
     "exception": false,
     "start_time": "2023-06-30T13:25:31.024063",
     "status": "completed"
    },
    "tags": []
   },
   "outputs": [],
   "source": [
    "#q2.hint()\n",
    "#q2.solution()"
   ]
  },
  {
   "cell_type": "markdown",
   "id": "60f66b42",
   "metadata": {
    "papermill": {
     "duration": 0.003668,
     "end_time": "2023-06-30T13:25:31.042580",
     "exception": false,
     "start_time": "2023-06-30T13:25:31.038912",
     "status": "completed"
    },
    "tags": []
   },
   "source": [
    "## 3.\n",
    "Sometimes the price column is null. How many reviews in the dataset are missing a price?"
   ]
  },
  {
   "cell_type": "code",
   "execution_count": 6,
   "id": "e03e53e2",
   "metadata": {
    "execution": {
     "iopub.execute_input": "2023-06-30T13:25:31.051698Z",
     "iopub.status.busy": "2023-06-30T13:25:31.051175Z",
     "iopub.status.idle": "2023-06-30T13:25:31.255904Z",
     "shell.execute_reply": "2023-06-30T13:25:31.255087Z"
    },
    "papermill": {
     "duration": 0.211138,
     "end_time": "2023-06-30T13:25:31.257505",
     "exception": false,
     "start_time": "2023-06-30T13:25:31.046367",
     "status": "completed"
    },
    "tags": []
   },
   "outputs": [
    {
     "data": {
      "application/javascript": [
       "parent.postMessage({\"jupyterEvent\": \"custom.exercise_interaction\", \"data\": {\"outcomeType\": 1, \"valueTowardsCompletion\": 0.25, \"interactionType\": 1, \"questionType\": 1, \"questionId\": \"3_CountMissingPrices\", \"learnToolsVersion\": \"0.3.4\", \"failureMessage\": \"\", \"exceptionClass\": \"\", \"trace\": \"\"}}, \"*\")"
      ],
      "text/plain": [
       "<IPython.core.display.Javascript object>"
      ]
     },
     "metadata": {},
     "output_type": "display_data"
    },
    {
     "data": {
      "text/markdown": [
       "<span style=\"color:#33cc33\">Correct</span>"
      ],
      "text/plain": [
       "Correct"
      ]
     },
     "metadata": {},
     "output_type": "display_data"
    }
   ],
   "source": [
    "n_missing_prices = reviews.isnull().price.sum()\n",
    "\n",
    "# Check your answer\n",
    "q3.check()"
   ]
  },
  {
   "cell_type": "code",
   "execution_count": 7,
   "id": "c87b39bc",
   "metadata": {
    "execution": {
     "iopub.execute_input": "2023-06-30T13:25:31.267269Z",
     "iopub.status.busy": "2023-06-30T13:25:31.266886Z",
     "iopub.status.idle": "2023-06-30T13:25:31.270262Z",
     "shell.execute_reply": "2023-06-30T13:25:31.269529Z"
    },
    "papermill": {
     "duration": 0.010861,
     "end_time": "2023-06-30T13:25:31.272453",
     "exception": false,
     "start_time": "2023-06-30T13:25:31.261592",
     "status": "completed"
    },
    "tags": []
   },
   "outputs": [],
   "source": [
    "#q3.hint()\n",
    "#q3.solution()"
   ]
  },
  {
   "cell_type": "markdown",
   "id": "42be4fda",
   "metadata": {
    "papermill": {
     "duration": 0.003891,
     "end_time": "2023-06-30T13:25:31.280874",
     "exception": false,
     "start_time": "2023-06-30T13:25:31.276983",
     "status": "completed"
    },
    "tags": []
   },
   "source": [
    "## 4.\n",
    "What are the most common wine-producing regions? Create a Series counting the number of times each value occurs in the `region_1` field. This field is often missing data, so replace missing values with `Unknown`. Sort in descending order.  Your output should look something like this:\n",
    "\n",
    "```\n",
    "Unknown                    21247\n",
    "Napa Valley                 4480\n",
    "                           ...  \n",
    "Bardolino Superiore            1\n",
    "Primitivo del Tarantino        1\n",
    "Name: region_1, Length: 1230, dtype: int64\n",
    "```"
   ]
  },
  {
   "cell_type": "code",
   "execution_count": 8,
   "id": "3e0562d3",
   "metadata": {
    "execution": {
     "iopub.execute_input": "2023-06-30T13:25:31.290107Z",
     "iopub.status.busy": "2023-06-30T13:25:31.289880Z",
     "iopub.status.idle": "2023-06-30T13:25:31.339572Z",
     "shell.execute_reply": "2023-06-30T13:25:31.338622Z"
    },
    "papermill": {
     "duration": 0.056356,
     "end_time": "2023-06-30T13:25:31.341301",
     "exception": false,
     "start_time": "2023-06-30T13:25:31.284945",
     "status": "completed"
    },
    "tags": []
   },
   "outputs": [
    {
     "data": {
      "application/javascript": [
       "parent.postMessage({\"jupyterEvent\": \"custom.exercise_interaction\", \"data\": {\"outcomeType\": 1, \"valueTowardsCompletion\": 0.25, \"interactionType\": 1, \"questionType\": 2, \"questionId\": \"4_ReviewsPerRegion\", \"learnToolsVersion\": \"0.3.4\", \"failureMessage\": \"\", \"exceptionClass\": \"\", \"trace\": \"\"}}, \"*\")"
      ],
      "text/plain": [
       "<IPython.core.display.Javascript object>"
      ]
     },
     "metadata": {},
     "output_type": "display_data"
    },
    {
     "data": {
      "text/markdown": [
       "<span style=\"color:#33cc33\">Correct</span>"
      ],
      "text/plain": [
       "Correct"
      ]
     },
     "metadata": {},
     "output_type": "display_data"
    }
   ],
   "source": [
    "reviews.region_1 = reviews.region_1.fillna('Unknown')\n",
    "reviews_per_region = reviews.region_1.value_counts().sort_values(ascending = False)\n",
    "\n",
    "\n",
    "# Check your answer\n",
    "q4.check()"
   ]
  },
  {
   "cell_type": "code",
   "execution_count": 9,
   "id": "bb271e2c",
   "metadata": {
    "execution": {
     "iopub.execute_input": "2023-06-30T13:25:31.351608Z",
     "iopub.status.busy": "2023-06-30T13:25:31.351345Z",
     "iopub.status.idle": "2023-06-30T13:25:31.357054Z",
     "shell.execute_reply": "2023-06-30T13:25:31.355965Z"
    },
    "papermill": {
     "duration": 0.013114,
     "end_time": "2023-06-30T13:25:31.359107",
     "exception": false,
     "start_time": "2023-06-30T13:25:31.345993",
     "status": "completed"
    },
    "tags": []
   },
   "outputs": [],
   "source": [
    "#q4.hint()\n",
    "#q4.solution()"
   ]
  },
  {
   "cell_type": "markdown",
   "id": "74c1457d",
   "metadata": {
    "papermill": {
     "duration": 0.004143,
     "end_time": "2023-06-30T13:25:31.367958",
     "exception": false,
     "start_time": "2023-06-30T13:25:31.363815",
     "status": "completed"
    },
    "tags": []
   },
   "source": [
    "# Keep going\n",
    "\n",
    "Move on to **[renaming and combining](https://www.kaggle.com/residentmario/renaming-and-combining)**."
   ]
  },
  {
   "cell_type": "markdown",
   "id": "295193f6",
   "metadata": {
    "papermill": {
     "duration": 0.004004,
     "end_time": "2023-06-30T13:25:31.376185",
     "exception": false,
     "start_time": "2023-06-30T13:25:31.372181",
     "status": "completed"
    },
    "tags": []
   },
   "source": [
    "---\n",
    "\n",
    "\n",
    "\n",
    "\n",
    "*Have questions or comments? Visit the [course discussion forum](https://www.kaggle.com/learn/pandas/discussion) to chat with other learners.*"
   ]
  }
 ],
 "metadata": {
  "kernelspec": {
   "display_name": "Python 3",
   "language": "python",
   "name": "python3"
  },
  "language_info": {
   "codemirror_mode": {
    "name": "ipython",
    "version": 3
   },
   "file_extension": ".py",
   "mimetype": "text/x-python",
   "name": "python",
   "nbconvert_exporter": "python",
   "pygments_lexer": "ipython3",
   "version": "3.10.10"
  },
  "papermill": {
   "default_parameters": {},
   "duration": 11.432427,
   "end_time": "2023-06-30T13:25:32.099412",
   "environment_variables": {},
   "exception": null,
   "input_path": "__notebook__.ipynb",
   "output_path": "__notebook__.ipynb",
   "parameters": {},
   "start_time": "2023-06-30T13:25:20.666985",
   "version": "2.4.0"
  }
 },
 "nbformat": 4,
 "nbformat_minor": 5
}
