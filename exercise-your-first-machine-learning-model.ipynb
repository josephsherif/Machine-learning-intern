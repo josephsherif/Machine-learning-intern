{
 "cells": [
  {
   "cell_type": "markdown",
   "id": "707b90c1",
   "metadata": {
    "papermill": {
     "duration": 0.007052,
     "end_time": "2023-06-30T16:42:30.243993",
     "exception": false,
     "start_time": "2023-06-30T16:42:30.236941",
     "status": "completed"
    },
    "tags": []
   },
   "source": [
    "**This notebook is an exercise in the [Introduction to Machine Learning](https://www.kaggle.com/learn/intro-to-machine-learning) course.  You can reference the tutorial at [this link](https://www.kaggle.com/dansbecker/your-first-machine-learning-model).**\n",
    "\n",
    "---\n"
   ]
  },
  {
   "cell_type": "markdown",
   "id": "4fdf182a",
   "metadata": {
    "papermill": {
     "duration": 0.006096,
     "end_time": "2023-06-30T16:42:30.256690",
     "exception": false,
     "start_time": "2023-06-30T16:42:30.250594",
     "status": "completed"
    },
    "tags": []
   },
   "source": [
    "## Recap\n",
    "So far, you have loaded your data and reviewed it with the following code. Run this cell to set up your coding environment where the previous step left off."
   ]
  },
  {
   "cell_type": "code",
   "execution_count": 1,
   "id": "c0010ccc",
   "metadata": {
    "execution": {
     "iopub.execute_input": "2023-06-30T16:42:30.271482Z",
     "iopub.status.busy": "2023-06-30T16:42:30.271069Z",
     "iopub.status.idle": "2023-06-30T16:42:32.101744Z",
     "shell.execute_reply": "2023-06-30T16:42:32.100493Z"
    },
    "papermill": {
     "duration": 1.841235,
     "end_time": "2023-06-30T16:42:32.104412",
     "exception": false,
     "start_time": "2023-06-30T16:42:30.263177",
     "status": "completed"
    },
    "tags": []
   },
   "outputs": [
    {
     "name": "stdout",
     "output_type": "stream",
     "text": [
      "Setup Complete\n"
     ]
    }
   ],
   "source": [
    "# Code you have previously used to load data\n",
    "import pandas as pd\n",
    "\n",
    "# Path of the file to read\n",
    "iowa_file_path = '../input/home-data-for-ml-course/train.csv'\n",
    "\n",
    "home_data = pd.read_csv(iowa_file_path)\n",
    "\n",
    "# Set up code checking\n",
    "from learntools.core import binder\n",
    "binder.bind(globals())\n",
    "from learntools.machine_learning.ex3 import *\n",
    "\n",
    "print(\"Setup Complete\")"
   ]
  },
  {
   "cell_type": "markdown",
   "id": "337cfa91",
   "metadata": {
    "papermill": {
     "duration": 0.006501,
     "end_time": "2023-06-30T16:42:32.117569",
     "exception": false,
     "start_time": "2023-06-30T16:42:32.111068",
     "status": "completed"
    },
    "tags": []
   },
   "source": [
    "# Exercises\n",
    "\n",
    "## Step 1: Specify Prediction Target\n",
    "Select the target variable, which corresponds to the sales price. Save this to a new variable called `y`. You'll need to print a list of the columns to find the name of the column you need.\n"
   ]
  },
  {
   "cell_type": "code",
   "execution_count": 2,
   "id": "7ed1edd0",
   "metadata": {
    "execution": {
     "iopub.execute_input": "2023-06-30T16:42:32.133117Z",
     "iopub.status.busy": "2023-06-30T16:42:32.132443Z",
     "iopub.status.idle": "2023-06-30T16:42:32.141445Z",
     "shell.execute_reply": "2023-06-30T16:42:32.140285Z"
    },
    "papermill": {
     "duration": 0.019577,
     "end_time": "2023-06-30T16:42:32.143811",
     "exception": false,
     "start_time": "2023-06-30T16:42:32.124234",
     "status": "completed"
    },
    "tags": []
   },
   "outputs": [
    {
     "data": {
      "text/plain": [
       "Index(['Id', 'MSSubClass', 'MSZoning', 'LotFrontage', 'LotArea', 'Street',\n",
       "       'Alley', 'LotShape', 'LandContour', 'Utilities', 'LotConfig',\n",
       "       'LandSlope', 'Neighborhood', 'Condition1', 'Condition2', 'BldgType',\n",
       "       'HouseStyle', 'OverallQual', 'OverallCond', 'YearBuilt', 'YearRemodAdd',\n",
       "       'RoofStyle', 'RoofMatl', 'Exterior1st', 'Exterior2nd', 'MasVnrType',\n",
       "       'MasVnrArea', 'ExterQual', 'ExterCond', 'Foundation', 'BsmtQual',\n",
       "       'BsmtCond', 'BsmtExposure', 'BsmtFinType1', 'BsmtFinSF1',\n",
       "       'BsmtFinType2', 'BsmtFinSF2', 'BsmtUnfSF', 'TotalBsmtSF', 'Heating',\n",
       "       'HeatingQC', 'CentralAir', 'Electrical', '1stFlrSF', '2ndFlrSF',\n",
       "       'LowQualFinSF', 'GrLivArea', 'BsmtFullBath', 'BsmtHalfBath', 'FullBath',\n",
       "       'HalfBath', 'BedroomAbvGr', 'KitchenAbvGr', 'KitchenQual',\n",
       "       'TotRmsAbvGrd', 'Functional', 'Fireplaces', 'FireplaceQu', 'GarageType',\n",
       "       'GarageYrBlt', 'GarageFinish', 'GarageCars', 'GarageArea', 'GarageQual',\n",
       "       'GarageCond', 'PavedDrive', 'WoodDeckSF', 'OpenPorchSF',\n",
       "       'EnclosedPorch', '3SsnPorch', 'ScreenPorch', 'PoolArea', 'PoolQC',\n",
       "       'Fence', 'MiscFeature', 'MiscVal', 'MoSold', 'YrSold', 'SaleType',\n",
       "       'SaleCondition', 'SalePrice'],\n",
       "      dtype='object')"
      ]
     },
     "execution_count": 2,
     "metadata": {},
     "output_type": "execute_result"
    }
   ],
   "source": [
    "# print the list of columns in the dataset to find the name of the prediction target\n",
    "home_data.columns"
   ]
  },
  {
   "cell_type": "code",
   "execution_count": 3,
   "id": "dba48b9e",
   "metadata": {
    "execution": {
     "iopub.execute_input": "2023-06-30T16:42:32.160876Z",
     "iopub.status.busy": "2023-06-30T16:42:32.160458Z",
     "iopub.status.idle": "2023-06-30T16:42:32.176106Z",
     "shell.execute_reply": "2023-06-30T16:42:32.175267Z"
    },
    "papermill": {
     "duration": 0.026093,
     "end_time": "2023-06-30T16:42:32.178206",
     "exception": false,
     "start_time": "2023-06-30T16:42:32.152113",
     "status": "completed"
    },
    "tags": []
   },
   "outputs": [
    {
     "data": {
      "application/javascript": [
       "parent.postMessage({\"jupyterEvent\": \"custom.exercise_interaction\", \"data\": {\"outcomeType\": 1, \"valueTowardsCompletion\": 0.25, \"interactionType\": 1, \"questionType\": 2, \"questionId\": \"1_SetTarget\", \"learnToolsVersion\": \"0.3.4\", \"failureMessage\": \"\", \"exceptionClass\": \"\", \"trace\": \"\"}}, \"*\")"
      ],
      "text/plain": [
       "<IPython.core.display.Javascript object>"
      ]
     },
     "metadata": {},
     "output_type": "display_data"
    },
    {
     "data": {
      "text/markdown": [
       "<span style=\"color:#33cc33\">Correct</span>"
      ],
      "text/plain": [
       "Correct"
      ]
     },
     "metadata": {},
     "output_type": "display_data"
    }
   ],
   "source": [
    "y = home_data.SalePrice\n",
    "\n",
    "# Check your answer\n",
    "step_1.check()"
   ]
  },
  {
   "cell_type": "code",
   "execution_count": 4,
   "id": "96181488",
   "metadata": {
    "collapsed": true,
    "execution": {
     "iopub.execute_input": "2023-06-30T16:42:32.194400Z",
     "iopub.status.busy": "2023-06-30T16:42:32.193962Z",
     "iopub.status.idle": "2023-06-30T16:42:32.199015Z",
     "shell.execute_reply": "2023-06-30T16:42:32.197761Z"
    },
    "jupyter": {
     "outputs_hidden": true
    },
    "papermill": {
     "duration": 0.01591,
     "end_time": "2023-06-30T16:42:32.201129",
     "exception": false,
     "start_time": "2023-06-30T16:42:32.185219",
     "status": "completed"
    },
    "tags": []
   },
   "outputs": [],
   "source": [
    "# The lines below will show you a hint or the solution.\n",
    "# step_1.hint() \n",
    "# step_1.solution()"
   ]
  },
  {
   "cell_type": "markdown",
   "id": "1c248258",
   "metadata": {
    "papermill": {
     "duration": 0.006867,
     "end_time": "2023-06-30T16:42:32.215109",
     "exception": false,
     "start_time": "2023-06-30T16:42:32.208242",
     "status": "completed"
    },
    "tags": []
   },
   "source": [
    "## Step 2: Create X\n",
    "Now you will create a DataFrame called `X` holding the predictive features.\n",
    "\n",
    "Since you want only some columns from the original data, you'll first create a list with the names of the columns you want in `X`.\n",
    "\n",
    "You'll use just the following columns in the list (you can copy and paste the whole list to save some typing, though you'll still need to add quotes):\n",
    "  * LotArea\n",
    "  * YearBuilt\n",
    "  * 1stFlrSF\n",
    "  * 2ndFlrSF\n",
    "  * FullBath\n",
    "  * BedroomAbvGr\n",
    "  * TotRmsAbvGrd\n",
    "\n",
    "After you've created that list of features, use it to create the DataFrame that you'll use to fit the model."
   ]
  },
  {
   "cell_type": "code",
   "execution_count": 5,
   "id": "d35a5f6d",
   "metadata": {
    "execution": {
     "iopub.execute_input": "2023-06-30T16:42:32.231670Z",
     "iopub.status.busy": "2023-06-30T16:42:32.230917Z",
     "iopub.status.idle": "2023-06-30T16:42:32.246463Z",
     "shell.execute_reply": "2023-06-30T16:42:32.245359Z"
    },
    "papermill": {
     "duration": 0.026189,
     "end_time": "2023-06-30T16:42:32.248563",
     "exception": false,
     "start_time": "2023-06-30T16:42:32.222374",
     "status": "completed"
    },
    "tags": []
   },
   "outputs": [
    {
     "data": {
      "application/javascript": [
       "parent.postMessage({\"jupyterEvent\": \"custom.exercise_interaction\", \"data\": {\"outcomeType\": 1, \"valueTowardsCompletion\": 0.25, \"interactionType\": 1, \"questionType\": 2, \"questionId\": \"2_SelectPredictionData\", \"learnToolsVersion\": \"0.3.4\", \"failureMessage\": \"\", \"exceptionClass\": \"\", \"trace\": \"\"}}, \"*\")"
      ],
      "text/plain": [
       "<IPython.core.display.Javascript object>"
      ]
     },
     "metadata": {},
     "output_type": "display_data"
    },
    {
     "data": {
      "text/markdown": [
       "<span style=\"color:#33cc33\">Correct</span>"
      ],
      "text/plain": [
       "Correct"
      ]
     },
     "metadata": {},
     "output_type": "display_data"
    }
   ],
   "source": [
    "# Create the list of features below\n",
    "feature_names = ['LotArea','YearBuilt','1stFlrSF','2ndFlrSF','FullBath','BedroomAbvGr','TotRmsAbvGrd']\n",
    "# Select data corresponding to features in feature_names\n",
    "X = home_data[feature_names]\n",
    "\n",
    "# Check your answer\n",
    "step_2.check()"
   ]
  },
  {
   "cell_type": "code",
   "execution_count": 6,
   "id": "5e94238b",
   "metadata": {
    "collapsed": true,
    "execution": {
     "iopub.execute_input": "2023-06-30T16:42:32.265630Z",
     "iopub.status.busy": "2023-06-30T16:42:32.265216Z",
     "iopub.status.idle": "2023-06-30T16:42:32.269859Z",
     "shell.execute_reply": "2023-06-30T16:42:32.268770Z"
    },
    "jupyter": {
     "outputs_hidden": true
    },
    "papermill": {
     "duration": 0.015936,
     "end_time": "2023-06-30T16:42:32.272012",
     "exception": false,
     "start_time": "2023-06-30T16:42:32.256076",
     "status": "completed"
    },
    "tags": []
   },
   "outputs": [],
   "source": [
    "# step_2.hint()\n",
    "# step_2.solution()"
   ]
  },
  {
   "cell_type": "markdown",
   "id": "f3ea83fe",
   "metadata": {
    "papermill": {
     "duration": 0.007281,
     "end_time": "2023-06-30T16:42:32.286973",
     "exception": false,
     "start_time": "2023-06-30T16:42:32.279692",
     "status": "completed"
    },
    "tags": []
   },
   "source": [
    "## Review Data\n",
    "Before building a model, take a quick look at **X** to verify it looks sensible"
   ]
  },
  {
   "cell_type": "code",
   "execution_count": 7,
   "id": "852eee0e",
   "metadata": {
    "execution": {
     "iopub.execute_input": "2023-06-30T16:42:32.304078Z",
     "iopub.status.busy": "2023-06-30T16:42:32.303657Z",
     "iopub.status.idle": "2023-06-30T16:42:32.343495Z",
     "shell.execute_reply": "2023-06-30T16:42:32.341935Z"
    },
    "papermill": {
     "duration": 0.051407,
     "end_time": "2023-06-30T16:42:32.345958",
     "exception": false,
     "start_time": "2023-06-30T16:42:32.294551",
     "status": "completed"
    },
    "tags": []
   },
   "outputs": [
    {
     "name": "stdout",
     "output_type": "stream",
     "text": [
      "             LotArea    YearBuilt     1stFlrSF     2ndFlrSF     FullBath  \\\n",
      "count    1460.000000  1460.000000  1460.000000  1460.000000  1460.000000   \n",
      "mean    10516.828082  1971.267808  1162.626712   346.992466     1.565068   \n",
      "std      9981.264932    30.202904   386.587738   436.528436     0.550916   \n",
      "min      1300.000000  1872.000000   334.000000     0.000000     0.000000   \n",
      "25%      7553.500000  1954.000000   882.000000     0.000000     1.000000   \n",
      "50%      9478.500000  1973.000000  1087.000000     0.000000     2.000000   \n",
      "75%     11601.500000  2000.000000  1391.250000   728.000000     2.000000   \n",
      "max    215245.000000  2010.000000  4692.000000  2065.000000     3.000000   \n",
      "\n",
      "       BedroomAbvGr  TotRmsAbvGrd  \n",
      "count   1460.000000   1460.000000  \n",
      "mean       2.866438      6.517808  \n",
      "std        0.815778      1.625393  \n",
      "min        0.000000      2.000000  \n",
      "25%        2.000000      5.000000  \n",
      "50%        3.000000      6.000000  \n",
      "75%        3.000000      7.000000  \n",
      "max        8.000000     14.000000  \n",
      "   LotArea  YearBuilt  1stFlrSF  2ndFlrSF  FullBath  BedroomAbvGr  \\\n",
      "0     8450       2003       856       854         2             3   \n",
      "1     9600       1976      1262         0         2             3   \n",
      "2    11250       2001       920       866         2             3   \n",
      "3     9550       1915       961       756         1             3   \n",
      "4    14260       2000      1145      1053         2             4   \n",
      "\n",
      "   TotRmsAbvGrd  \n",
      "0             8  \n",
      "1             6  \n",
      "2             6  \n",
      "3             7  \n",
      "4             9  \n"
     ]
    }
   ],
   "source": [
    "# Review data\n",
    "# print description or statistics from X\n",
    "print(X.describe())\n",
    "\n",
    "# print the top few lines\n",
    "print(X.head())"
   ]
  },
  {
   "cell_type": "markdown",
   "id": "4dd48e73",
   "metadata": {
    "papermill": {
     "duration": 0.007514,
     "end_time": "2023-06-30T16:42:32.361450",
     "exception": false,
     "start_time": "2023-06-30T16:42:32.353936",
     "status": "completed"
    },
    "tags": []
   },
   "source": [
    "## Step 3: Specify and Fit Model\n",
    "Create a `DecisionTreeRegressor` and save it iowa_model. Ensure you've done the relevant import from sklearn to run this command.\n",
    "\n",
    "Then fit the model you just created using the data in `X` and `y` that you saved above."
   ]
  },
  {
   "cell_type": "code",
   "execution_count": 8,
   "id": "71ebc62f",
   "metadata": {
    "execution": {
     "iopub.execute_input": "2023-06-30T16:42:32.379366Z",
     "iopub.status.busy": "2023-06-30T16:42:32.378959Z",
     "iopub.status.idle": "2023-06-30T16:42:32.397901Z",
     "shell.execute_reply": "2023-06-30T16:42:32.396909Z"
    },
    "papermill": {
     "duration": 0.031181,
     "end_time": "2023-06-30T16:42:32.400354",
     "exception": false,
     "start_time": "2023-06-30T16:42:32.369173",
     "status": "completed"
    },
    "tags": []
   },
   "outputs": [
    {
     "data": {
      "application/javascript": [
       "parent.postMessage({\"jupyterEvent\": \"custom.exercise_interaction\", \"data\": {\"outcomeType\": 1, \"valueTowardsCompletion\": 0.25, \"interactionType\": 1, \"questionType\": 2, \"questionId\": \"3_CreateModel\", \"learnToolsVersion\": \"0.3.4\", \"failureMessage\": \"\", \"exceptionClass\": \"\", \"trace\": \"\"}}, \"*\")"
      ],
      "text/plain": [
       "<IPython.core.display.Javascript object>"
      ]
     },
     "metadata": {},
     "output_type": "display_data"
    },
    {
     "data": {
      "text/markdown": [
       "<span style=\"color:#33cc33\">Correct</span>"
      ],
      "text/plain": [
       "Correct"
      ]
     },
     "metadata": {},
     "output_type": "display_data"
    }
   ],
   "source": [
    "from sklearn.tree import DecisionTreeRegressor\n",
    "#specify the model. \n",
    "#For model reproducibility, set a numeric value for random_state when specifying the model\n",
    "iowa_model = DecisionTreeRegressor(random_state = 1)\n",
    "\n",
    "# Fit the model\n",
    "iowa_model.fit(X,y)\n",
    "# Check your answer\n",
    "step_3.check()"
   ]
  },
  {
   "cell_type": "code",
   "execution_count": 9,
   "id": "e6c09ae2",
   "metadata": {
    "collapsed": true,
    "execution": {
     "iopub.execute_input": "2023-06-30T16:42:32.417946Z",
     "iopub.status.busy": "2023-06-30T16:42:32.417546Z",
     "iopub.status.idle": "2023-06-30T16:42:32.422537Z",
     "shell.execute_reply": "2023-06-30T16:42:32.421299Z"
    },
    "jupyter": {
     "outputs_hidden": true
    },
    "papermill": {
     "duration": 0.016758,
     "end_time": "2023-06-30T16:42:32.425070",
     "exception": false,
     "start_time": "2023-06-30T16:42:32.408312",
     "status": "completed"
    },
    "tags": []
   },
   "outputs": [],
   "source": [
    "# step_3.hint()\n",
    "# step_3.solution()"
   ]
  },
  {
   "cell_type": "markdown",
   "id": "2f24210b",
   "metadata": {
    "papermill": {
     "duration": 0.007792,
     "end_time": "2023-06-30T16:42:32.440965",
     "exception": false,
     "start_time": "2023-06-30T16:42:32.433173",
     "status": "completed"
    },
    "tags": []
   },
   "source": [
    "## Step 4: Make Predictions\n",
    "Make predictions with the model's `predict` command using `X` as the data. Save the results to a variable called `predictions`."
   ]
  },
  {
   "cell_type": "code",
   "execution_count": 10,
   "id": "d5e583b9",
   "metadata": {
    "execution": {
     "iopub.execute_input": "2023-06-30T16:42:32.458847Z",
     "iopub.status.busy": "2023-06-30T16:42:32.458441Z",
     "iopub.status.idle": "2023-06-30T16:42:32.473771Z",
     "shell.execute_reply": "2023-06-30T16:42:32.472713Z"
    },
    "papermill": {
     "duration": 0.026974,
     "end_time": "2023-06-30T16:42:32.476089",
     "exception": false,
     "start_time": "2023-06-30T16:42:32.449115",
     "status": "completed"
    },
    "tags": []
   },
   "outputs": [
    {
     "name": "stdout",
     "output_type": "stream",
     "text": [
      "[208500. 181500. 223500. ... 266500. 142125. 147500.]\n"
     ]
    },
    {
     "data": {
      "application/javascript": [
       "parent.postMessage({\"jupyterEvent\": \"custom.exercise_interaction\", \"data\": {\"outcomeType\": 1, \"valueTowardsCompletion\": 0.25, \"interactionType\": 1, \"questionType\": 2, \"questionId\": \"4_MakePredictions\", \"learnToolsVersion\": \"0.3.4\", \"failureMessage\": \"\", \"exceptionClass\": \"\", \"trace\": \"\"}}, \"*\")"
      ],
      "text/plain": [
       "<IPython.core.display.Javascript object>"
      ]
     },
     "metadata": {},
     "output_type": "display_data"
    },
    {
     "data": {
      "text/markdown": [
       "<span style=\"color:#33cc33\">Correct</span>"
      ],
      "text/plain": [
       "Correct"
      ]
     },
     "metadata": {},
     "output_type": "display_data"
    }
   ],
   "source": [
    "predictions = iowa_model.predict(X)\n",
    "print(predictions)\n",
    "\n",
    "# Check your answer\n",
    "step_4.check()"
   ]
  },
  {
   "cell_type": "code",
   "execution_count": 11,
   "id": "7ffcc8f3",
   "metadata": {
    "collapsed": true,
    "execution": {
     "iopub.execute_input": "2023-06-30T16:42:32.495922Z",
     "iopub.status.busy": "2023-06-30T16:42:32.495503Z",
     "iopub.status.idle": "2023-06-30T16:42:32.499920Z",
     "shell.execute_reply": "2023-06-30T16:42:32.498768Z"
    },
    "jupyter": {
     "outputs_hidden": true
    },
    "papermill": {
     "duration": 0.017269,
     "end_time": "2023-06-30T16:42:32.502479",
     "exception": false,
     "start_time": "2023-06-30T16:42:32.485210",
     "status": "completed"
    },
    "tags": []
   },
   "outputs": [],
   "source": [
    "# step_4.hint()\n",
    "# step_4.solution()"
   ]
  },
  {
   "cell_type": "markdown",
   "id": "9d1603a0",
   "metadata": {
    "papermill": {
     "duration": 0.008598,
     "end_time": "2023-06-30T16:42:32.520297",
     "exception": false,
     "start_time": "2023-06-30T16:42:32.511699",
     "status": "completed"
    },
    "tags": []
   },
   "source": [
    "## Think About Your Results\n",
    "\n",
    "Use the `head` method to compare the top few predictions to the actual home values (in `y`) for those same homes. Anything surprising?\n"
   ]
  },
  {
   "cell_type": "code",
   "execution_count": 12,
   "id": "8f6238ea",
   "metadata": {
    "execution": {
     "iopub.execute_input": "2023-06-30T16:42:32.540691Z",
     "iopub.status.busy": "2023-06-30T16:42:32.539812Z",
     "iopub.status.idle": "2023-06-30T16:42:32.548614Z",
     "shell.execute_reply": "2023-06-30T16:42:32.547498Z"
    },
    "papermill": {
     "duration": 0.021611,
     "end_time": "2023-06-30T16:42:32.551044",
     "exception": false,
     "start_time": "2023-06-30T16:42:32.529433",
     "status": "completed"
    },
    "tags": []
   },
   "outputs": [
    {
     "data": {
      "text/plain": [
       "0       208500\n",
       "1       181500\n",
       "2       223500\n",
       "3       140000\n",
       "4       250000\n",
       "         ...  \n",
       "1455    175000\n",
       "1456    210000\n",
       "1457    266500\n",
       "1458    142125\n",
       "1459    147500\n",
       "Name: SalePrice, Length: 1460, dtype: int64"
      ]
     },
     "execution_count": 12,
     "metadata": {},
     "output_type": "execute_result"
    }
   ],
   "source": [
    "# You can write code in this cell\n",
    "y"
   ]
  },
  {
   "cell_type": "markdown",
   "id": "f193e096",
   "metadata": {
    "papermill": {
     "duration": 0.008389,
     "end_time": "2023-06-30T16:42:32.568456",
     "exception": false,
     "start_time": "2023-06-30T16:42:32.560067",
     "status": "completed"
    },
    "tags": []
   },
   "source": [
    "It's natural to ask how accurate the model's predictions will be and how you can improve that. That will be you're next step.\n",
    "\n",
    "# Keep Going\n",
    "\n",
    "You are ready for **[Model Validation](https://www.kaggle.com/dansbecker/model-validation).**\n"
   ]
  },
  {
   "cell_type": "markdown",
   "id": "aadbf573",
   "metadata": {
    "papermill": {
     "duration": 0.008283,
     "end_time": "2023-06-30T16:42:32.585517",
     "exception": false,
     "start_time": "2023-06-30T16:42:32.577234",
     "status": "completed"
    },
    "tags": []
   },
   "source": [
    "---\n",
    "\n",
    "\n",
    "\n",
    "\n",
    "*Have questions or comments? Visit the [course discussion forum](https://www.kaggle.com/learn/intro-to-machine-learning/discussion) to chat with other learners.*"
   ]
  }
 ],
 "metadata": {
  "kernelspec": {
   "display_name": "Python 3",
   "language": "python",
   "name": "python3"
  },
  "language_info": {
   "codemirror_mode": {
    "name": "ipython",
    "version": 3
   },
   "file_extension": ".py",
   "mimetype": "text/x-python",
   "name": "python",
   "nbconvert_exporter": "python",
   "pygments_lexer": "ipython3",
   "version": "3.10.10"
  },
  "papermill": {
   "default_parameters": {},
   "duration": 15.817906,
   "end_time": "2023-06-30T16:42:33.618937",
   "environment_variables": {},
   "exception": null,
   "input_path": "__notebook__.ipynb",
   "output_path": "__notebook__.ipynb",
   "parameters": {},
   "start_time": "2023-06-30T16:42:17.801031",
   "version": "2.4.0"
  }
 },
 "nbformat": 4,
 "nbformat_minor": 5
}
