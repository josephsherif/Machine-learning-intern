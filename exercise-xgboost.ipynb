{
 "cells": [
  {
   "cell_type": "markdown",
   "id": "3185bf61",
   "metadata": {
    "papermill": {
     "duration": 0.005115,
     "end_time": "2023-06-30T17:38:51.306645",
     "exception": false,
     "start_time": "2023-06-30T17:38:51.301530",
     "status": "completed"
    },
    "tags": []
   },
   "source": [
    "**This notebook is an exercise in the [Intermediate Machine Learning](https://www.kaggle.com/learn/intermediate-machine-learning) course.  You can reference the tutorial at [this link](https://www.kaggle.com/alexisbcook/xgboost).**\n",
    "\n",
    "---\n"
   ]
  },
  {
   "cell_type": "markdown",
   "id": "30de40be",
   "metadata": {
    "papermill": {
     "duration": 0.004006,
     "end_time": "2023-06-30T17:38:51.317302",
     "exception": false,
     "start_time": "2023-06-30T17:38:51.313296",
     "status": "completed"
    },
    "tags": []
   },
   "source": [
    "In this exercise, you will use your new knowledge to train a model with **gradient boosting**.\n",
    "\n",
    "# Setup\n",
    "\n",
    "The questions below will give you feedback on your work. Run the following cell to set up the feedback system."
   ]
  },
  {
   "cell_type": "code",
   "execution_count": 1,
   "id": "8e63faf6",
   "metadata": {
    "execution": {
     "iopub.execute_input": "2023-06-30T17:38:51.327484Z",
     "iopub.status.busy": "2023-06-30T17:38:51.326929Z",
     "iopub.status.idle": "2023-06-30T17:38:53.784625Z",
     "shell.execute_reply": "2023-06-30T17:38:53.783242Z"
    },
    "papermill": {
     "duration": 2.465631,
     "end_time": "2023-06-30T17:38:53.787106",
     "exception": false,
     "start_time": "2023-06-30T17:38:51.321475",
     "status": "completed"
    },
    "tags": []
   },
   "outputs": [
    {
     "name": "stdout",
     "output_type": "stream",
     "text": [
      "Setup Complete\n"
     ]
    }
   ],
   "source": [
    "# Set up code checking\n",
    "import os\n",
    "if not os.path.exists(\"../input/train.csv\"):\n",
    "    os.symlink(\"../input/home-data-for-ml-course/train.csv\", \"../input/train.csv\")  \n",
    "    os.symlink(\"../input/home-data-for-ml-course/test.csv\", \"../input/test.csv\") \n",
    "from learntools.core import binder\n",
    "binder.bind(globals())\n",
    "from learntools.ml_intermediate.ex6 import *\n",
    "print(\"Setup Complete\")"
   ]
  },
  {
   "cell_type": "markdown",
   "id": "3e772446",
   "metadata": {
    "papermill": {
     "duration": 0.004101,
     "end_time": "2023-06-30T17:38:53.795661",
     "exception": false,
     "start_time": "2023-06-30T17:38:53.791560",
     "status": "completed"
    },
    "tags": []
   },
   "source": [
    "You will work with the [Housing Prices Competition for Kaggle Learn Users](https://www.kaggle.com/c/home-data-for-ml-course) dataset from the previous exercise. \n",
    "\n",
    "![Ames Housing dataset image](https://storage.googleapis.com/kaggle-media/learn/images/lTJVG4e.png)\n",
    "\n",
    "Run the next code cell without changes to load the training and validation sets in `X_train`, `X_valid`, `y_train`, and `y_valid`.  The test set is loaded in `X_test`."
   ]
  },
  {
   "cell_type": "code",
   "execution_count": 2,
   "id": "9d029d41",
   "metadata": {
    "execution": {
     "iopub.execute_input": "2023-06-30T17:38:53.806952Z",
     "iopub.status.busy": "2023-06-30T17:38:53.805475Z",
     "iopub.status.idle": "2023-06-30T17:38:53.945983Z",
     "shell.execute_reply": "2023-06-30T17:38:53.945264Z"
    },
    "papermill": {
     "duration": 0.14809,
     "end_time": "2023-06-30T17:38:53.947932",
     "exception": false,
     "start_time": "2023-06-30T17:38:53.799842",
     "status": "completed"
    },
    "tags": []
   },
   "outputs": [],
   "source": [
    "import pandas as pd\n",
    "from sklearn.model_selection import train_test_split\n",
    "\n",
    "# Read the data\n",
    "X = pd.read_csv('../input/train.csv', index_col='Id')\n",
    "X_test_full = pd.read_csv('../input/test.csv', index_col='Id')\n",
    "\n",
    "# Remove rows with missing target, separate target from predictors\n",
    "X.dropna(axis=0, subset=['SalePrice'], inplace=True)\n",
    "y = X.SalePrice              \n",
    "X.drop(['SalePrice'], axis=1, inplace=True)\n",
    "\n",
    "# Break off validation set from training data\n",
    "X_train_full, X_valid_full, y_train, y_valid = train_test_split(X, y, train_size=0.8, test_size=0.2,\n",
    "                                                                random_state=0)\n",
    "\n",
    "# \"Cardinality\" means the number of unique values in a column\n",
    "# Select categorical columns with relatively low cardinality (convenient but arbitrary)\n",
    "low_cardinality_cols = [cname for cname in X_train_full.columns if X_train_full[cname].nunique() < 10 and \n",
    "                        X_train_full[cname].dtype == \"object\"]\n",
    "\n",
    "# Select numeric columns\n",
    "numeric_cols = [cname for cname in X_train_full.columns if X_train_full[cname].dtype in ['int64', 'float64']]\n",
    "\n",
    "# Keep selected columns only\n",
    "my_cols = low_cardinality_cols + numeric_cols\n",
    "X_train = X_train_full[my_cols].copy()\n",
    "X_valid = X_valid_full[my_cols].copy()\n",
    "X_test = X_test_full[my_cols].copy()\n",
    "\n",
    "# One-hot encode the data (to shorten the code, we use pandas)\n",
    "X_train = pd.get_dummies(X_train)\n",
    "X_valid = pd.get_dummies(X_valid)\n",
    "X_test = pd.get_dummies(X_test)\n",
    "X_train, X_valid = X_train.align(X_valid, join='left', axis=1)\n",
    "X_train, X_test = X_train.align(X_test, join='left', axis=1)"
   ]
  },
  {
   "cell_type": "markdown",
   "id": "fc0844ce",
   "metadata": {
    "papermill": {
     "duration": 0.005021,
     "end_time": "2023-06-30T17:38:53.957230",
     "exception": false,
     "start_time": "2023-06-30T17:38:53.952209",
     "status": "completed"
    },
    "tags": []
   },
   "source": [
    "# Step 1: Build model\n",
    "\n",
    "### Part A\n",
    "\n",
    "In this step, you'll build and train your first model with gradient boosting.\n",
    "\n",
    "- Begin by setting `my_model_1` to an XGBoost model.  Use the [XGBRegressor](https://xgboost.readthedocs.io/en/latest/python/python_api.html#xgboost.XGBRegressor) class, and set the random seed to 0 (`random_state=0`).  **Leave all other parameters as default.**\n",
    "- Then, fit the model to the training data in `X_train` and `y_train`."
   ]
  },
  {
   "cell_type": "code",
   "execution_count": 3,
   "id": "aba4204d",
   "metadata": {
    "execution": {
     "iopub.execute_input": "2023-06-30T17:38:53.967161Z",
     "iopub.status.busy": "2023-06-30T17:38:53.966584Z",
     "iopub.status.idle": "2023-06-30T17:38:54.593215Z",
     "shell.execute_reply": "2023-06-30T17:38:54.592037Z"
    },
    "papermill": {
     "duration": 0.633786,
     "end_time": "2023-06-30T17:38:54.595103",
     "exception": false,
     "start_time": "2023-06-30T17:38:53.961317",
     "status": "completed"
    },
    "tags": []
   },
   "outputs": [
    {
     "data": {
      "application/javascript": [
       "parent.postMessage({\"jupyterEvent\": \"custom.exercise_interaction\", \"data\": {\"outcomeType\": 1, \"valueTowardsCompletion\": 0.5, \"interactionType\": 1, \"questionType\": 2, \"questionId\": \"1.1_Model1A\", \"learnToolsVersion\": \"0.3.4\", \"failureMessage\": \"\", \"exceptionClass\": \"\", \"trace\": \"\"}}, \"*\")"
      ],
      "text/plain": [
       "<IPython.core.display.Javascript object>"
      ]
     },
     "metadata": {},
     "output_type": "display_data"
    },
    {
     "data": {
      "text/markdown": [
       "<span style=\"color:#33cc33\">Correct</span>"
      ],
      "text/plain": [
       "Correct"
      ]
     },
     "metadata": {},
     "output_type": "display_data"
    }
   ],
   "source": [
    "from xgboost import XGBRegressor\n",
    "\n",
    "# Define the model\n",
    "my_model_1 = XGBRegressor(random_state=0)\n",
    "\n",
    "# Fit the model\n",
    "my_model_1.fit(X_train, y_train)\n",
    "\n",
    "# Check your answer\n",
    "step_1.a.check()\n"
   ]
  },
  {
   "cell_type": "code",
   "execution_count": 4,
   "id": "af14508e",
   "metadata": {
    "execution": {
     "iopub.execute_input": "2023-06-30T17:38:54.605176Z",
     "iopub.status.busy": "2023-06-30T17:38:54.604810Z",
     "iopub.status.idle": "2023-06-30T17:38:54.608939Z",
     "shell.execute_reply": "2023-06-30T17:38:54.608137Z"
    },
    "papermill": {
     "duration": 0.011381,
     "end_time": "2023-06-30T17:38:54.610903",
     "exception": false,
     "start_time": "2023-06-30T17:38:54.599522",
     "status": "completed"
    },
    "tags": []
   },
   "outputs": [],
   "source": [
    "# Lines below will give you a hint or solution code\n",
    "#step_1.a.hint()\n",
    "#step_1.a.solution()"
   ]
  },
  {
   "cell_type": "markdown",
   "id": "384bb434",
   "metadata": {
    "papermill": {
     "duration": 0.004067,
     "end_time": "2023-06-30T17:38:54.619660",
     "exception": false,
     "start_time": "2023-06-30T17:38:54.615593",
     "status": "completed"
    },
    "tags": []
   },
   "source": [
    "### Part B\n",
    "\n",
    "Set `predictions_1` to the model's predictions for the validation data.  Recall that the validation features are stored in `X_valid`."
   ]
  },
  {
   "cell_type": "code",
   "execution_count": 5,
   "id": "3d40eb03",
   "metadata": {
    "execution": {
     "iopub.execute_input": "2023-06-30T17:38:54.629854Z",
     "iopub.status.busy": "2023-06-30T17:38:54.629267Z",
     "iopub.status.idle": "2023-06-30T17:38:54.648106Z",
     "shell.execute_reply": "2023-06-30T17:38:54.647428Z"
    },
    "papermill": {
     "duration": 0.026195,
     "end_time": "2023-06-30T17:38:54.649969",
     "exception": false,
     "start_time": "2023-06-30T17:38:54.623774",
     "status": "completed"
    },
    "tags": []
   },
   "outputs": [
    {
     "data": {
      "application/javascript": [
       "parent.postMessage({\"jupyterEvent\": \"custom.exercise_interaction\", \"data\": {\"outcomeType\": 1, \"valueTowardsCompletion\": 0.5, \"interactionType\": 1, \"questionType\": 2, \"questionId\": \"1.2_Model1B\", \"learnToolsVersion\": \"0.3.4\", \"failureMessage\": \"\", \"exceptionClass\": \"\", \"trace\": \"\"}}, \"*\")"
      ],
      "text/plain": [
       "<IPython.core.display.Javascript object>"
      ]
     },
     "metadata": {},
     "output_type": "display_data"
    },
    {
     "data": {
      "text/markdown": [
       "<span style=\"color:#33cc33\">Correct</span>"
      ],
      "text/plain": [
       "Correct"
      ]
     },
     "metadata": {},
     "output_type": "display_data"
    }
   ],
   "source": [
    "from sklearn.metrics import mean_absolute_error\n",
    "\n",
    "# Get predictions\n",
    "\n",
    "predictions_1 = my_model_1.predict(X_valid)\n",
    "# Check your answer\n",
    "step_1.b.check()"
   ]
  },
  {
   "cell_type": "code",
   "execution_count": 6,
   "id": "e421bad7",
   "metadata": {
    "execution": {
     "iopub.execute_input": "2023-06-30T17:38:54.660615Z",
     "iopub.status.busy": "2023-06-30T17:38:54.660323Z",
     "iopub.status.idle": "2023-06-30T17:38:54.664596Z",
     "shell.execute_reply": "2023-06-30T17:38:54.663351Z"
    },
    "papermill": {
     "duration": 0.011512,
     "end_time": "2023-06-30T17:38:54.666448",
     "exception": false,
     "start_time": "2023-06-30T17:38:54.654936",
     "status": "completed"
    },
    "tags": []
   },
   "outputs": [],
   "source": [
    "# Lines below will give you a hint or solution code\n",
    "#step_1.b.hint()\n",
    "#step_1.b.solution()"
   ]
  },
  {
   "cell_type": "markdown",
   "id": "e39c615e",
   "metadata": {
    "papermill": {
     "duration": 0.004457,
     "end_time": "2023-06-30T17:38:54.675756",
     "exception": false,
     "start_time": "2023-06-30T17:38:54.671299",
     "status": "completed"
    },
    "tags": []
   },
   "source": [
    "### Part C\n",
    "\n",
    "Finally, use the `mean_absolute_error()` function to calculate the mean absolute error (MAE) corresponding to the predictions for the validation set.  Recall that the labels for the validation data are stored in `y_valid`."
   ]
  },
  {
   "cell_type": "code",
   "execution_count": 7,
   "id": "d9a5373d",
   "metadata": {
    "execution": {
     "iopub.execute_input": "2023-06-30T17:38:54.687028Z",
     "iopub.status.busy": "2023-06-30T17:38:54.686648Z",
     "iopub.status.idle": "2023-06-30T17:38:54.697286Z",
     "shell.execute_reply": "2023-06-30T17:38:54.695943Z"
    },
    "papermill": {
     "duration": 0.018489,
     "end_time": "2023-06-30T17:38:54.699011",
     "exception": false,
     "start_time": "2023-06-30T17:38:54.680522",
     "status": "completed"
    },
    "tags": []
   },
   "outputs": [
    {
     "name": "stdout",
     "output_type": "stream",
     "text": [
      "Mean Absolute Error: 17662.736729452055\n"
     ]
    },
    {
     "data": {
      "application/javascript": [
       "parent.postMessage({\"jupyterEvent\": \"custom.exercise_interaction\", \"data\": {\"outcomeType\": 1, \"valueTowardsCompletion\": 0.5, \"interactionType\": 1, \"questionType\": 2, \"questionId\": \"1.3_Model1C\", \"learnToolsVersion\": \"0.3.4\", \"failureMessage\": \"\", \"exceptionClass\": \"\", \"trace\": \"\"}}, \"*\")"
      ],
      "text/plain": [
       "<IPython.core.display.Javascript object>"
      ]
     },
     "metadata": {},
     "output_type": "display_data"
    },
    {
     "data": {
      "text/markdown": [
       "<span style=\"color:#33cc33\">Correct</span>"
      ],
      "text/plain": [
       "Correct"
      ]
     },
     "metadata": {},
     "output_type": "display_data"
    }
   ],
   "source": [
    "# Calculate MAE\n",
    "# Calculate MAE\n",
    "mae_1 = mean_absolute_error(predictions_1, y_valid)\n",
    "print(\"Mean Absolute Error:\" , mae_1)\n",
    "# Uncomment to print MAE\n",
    "# print(\"Mean Absolute Error:\" , mae_1)\n",
    "\n",
    "# Check your answer\n",
    "step_1.c.check()"
   ]
  },
  {
   "cell_type": "code",
   "execution_count": 8,
   "id": "49ab712a",
   "metadata": {
    "execution": {
     "iopub.execute_input": "2023-06-30T17:38:54.710094Z",
     "iopub.status.busy": "2023-06-30T17:38:54.709734Z",
     "iopub.status.idle": "2023-06-30T17:38:54.713000Z",
     "shell.execute_reply": "2023-06-30T17:38:54.712390Z"
    },
    "papermill": {
     "duration": 0.010484,
     "end_time": "2023-06-30T17:38:54.714488",
     "exception": false,
     "start_time": "2023-06-30T17:38:54.704004",
     "status": "completed"
    },
    "tags": []
   },
   "outputs": [],
   "source": [
    "# Lines below will give you a hint or solution code\n",
    "#step_1.c.hint()\n",
    "#step_1.c.solution()"
   ]
  },
  {
   "cell_type": "markdown",
   "id": "7b7327b2",
   "metadata": {
    "papermill": {
     "duration": 0.004651,
     "end_time": "2023-06-30T17:38:54.724272",
     "exception": false,
     "start_time": "2023-06-30T17:38:54.719621",
     "status": "completed"
    },
    "tags": []
   },
   "source": [
    "# Step 2: Improve the model\n",
    "\n",
    "Now that you've trained a default model as baseline, it's time to tinker with the parameters, to see if you can get better performance!\n",
    "- Begin by setting `my_model_2` to an XGBoost model, using the [XGBRegressor](https://xgboost.readthedocs.io/en/latest/python/python_api.html#xgboost.XGBRegressor) class.  Use what you learned in the previous tutorial to figure out how to change the default parameters (like `n_estimators` and `learning_rate`) to get better results.\n",
    "- Then, fit the model to the training data in `X_train` and `y_train`.\n",
    "- Set `predictions_2` to the model's predictions for the validation data.  Recall that the validation features are stored in `X_valid`.\n",
    "- Finally, use the `mean_absolute_error()` function to calculate the mean absolute error (MAE) corresponding to the predictions on the validation set.  Recall that the labels for the validation data are stored in `y_valid`.\n",
    "\n",
    "In order for this step to be marked correct, your model in `my_model_2` must attain lower MAE than the model in `my_model_1`. "
   ]
  },
  {
   "cell_type": "code",
   "execution_count": 9,
   "id": "1d25480f",
   "metadata": {
    "execution": {
     "iopub.execute_input": "2023-06-30T17:38:54.735867Z",
     "iopub.status.busy": "2023-06-30T17:38:54.735527Z",
     "iopub.status.idle": "2023-06-30T17:39:00.805131Z",
     "shell.execute_reply": "2023-06-30T17:39:00.804446Z"
    },
    "papermill": {
     "duration": 6.07797,
     "end_time": "2023-06-30T17:39:00.807041",
     "exception": false,
     "start_time": "2023-06-30T17:38:54.729071",
     "status": "completed"
    },
    "tags": []
   },
   "outputs": [
    {
     "name": "stdout",
     "output_type": "stream",
     "text": [
      "Mean Absolute Error: 16688.691513270547\n"
     ]
    },
    {
     "data": {
      "application/javascript": [
       "parent.postMessage({\"jupyterEvent\": \"custom.exercise_interaction\", \"data\": {\"outcomeType\": 1, \"valueTowardsCompletion\": 0.5, \"interactionType\": 1, \"questionType\": 2, \"questionId\": \"2_Model2\", \"learnToolsVersion\": \"0.3.4\", \"failureMessage\": \"\", \"exceptionClass\": \"\", \"trace\": \"\"}}, \"*\")"
      ],
      "text/plain": [
       "<IPython.core.display.Javascript object>"
      ]
     },
     "metadata": {},
     "output_type": "display_data"
    },
    {
     "data": {
      "text/markdown": [
       "<span style=\"color:#33cc33\">Correct</span>"
      ],
      "text/plain": [
       "Correct"
      ]
     },
     "metadata": {},
     "output_type": "display_data"
    }
   ],
   "source": [
    "#  Define the model\n",
    "my_model_2 = XGBRegressor(n_estimators=1000, learning_rate=0.05)\n",
    "\n",
    "# Fit the model\n",
    "my_model_2.fit(X_train, y_train)\n",
    "\n",
    "# Get predictions\n",
    "predictions_2 = my_model_2.predict(X_valid)\n",
    "\n",
    "# Calculate MAE\n",
    "mae_2 = mean_absolute_error(predictions_2, y_valid)\n",
    "print(\"Mean Absolute Error:\" , mae_2)\n",
    "\n",
    "# Uncomment to print MAE\n",
    "# print(\"Mean Absolute Error:\" , mae_2)\n",
    "\n",
    "# Check your answer\n",
    "step_2.check()"
   ]
  },
  {
   "cell_type": "code",
   "execution_count": 10,
   "id": "63b25236",
   "metadata": {
    "execution": {
     "iopub.execute_input": "2023-06-30T17:39:00.820570Z",
     "iopub.status.busy": "2023-06-30T17:39:00.819390Z",
     "iopub.status.idle": "2023-06-30T17:39:00.824821Z",
     "shell.execute_reply": "2023-06-30T17:39:00.823487Z"
    },
    "papermill": {
     "duration": 0.014534,
     "end_time": "2023-06-30T17:39:00.827026",
     "exception": false,
     "start_time": "2023-06-30T17:39:00.812492",
     "status": "completed"
    },
    "tags": []
   },
   "outputs": [],
   "source": [
    "# Lines below will give you a hint or solution code\n",
    "#step_2.hint()\n",
    "#step_2.solution()"
   ]
  },
  {
   "cell_type": "markdown",
   "id": "c68925d5",
   "metadata": {
    "papermill": {
     "duration": 0.005205,
     "end_time": "2023-06-30T17:39:00.837778",
     "exception": false,
     "start_time": "2023-06-30T17:39:00.832573",
     "status": "completed"
    },
    "tags": []
   },
   "source": [
    "# Step 3: Break the model\n",
    "\n",
    "In this step, you will create a model that performs worse than the original model in Step 1.  This will help you to develop your intuition for how to set parameters.  You might even find that you accidentally get better performance, which is ultimately a nice problem to have and a valuable learning experience!\n",
    "- Begin by setting `my_model_3` to an XGBoost model, using the [XGBRegressor](https://xgboost.readthedocs.io/en/latest/python/python_api.html#xgboost.XGBRegressor) class.  Use what you learned in the previous tutorial to figure out how to change the default parameters (like `n_estimators` and `learning_rate`) to design a model to get high MAE.\n",
    "- Then, fit the model to the training data in `X_train` and `y_train`.\n",
    "- Set `predictions_3` to the model's predictions for the validation data.  Recall that the validation features are stored in `X_valid`.\n",
    "- Finally, use the `mean_absolute_error()` function to calculate the mean absolute error (MAE) corresponding to the predictions on the validation set.  Recall that the labels for the validation data are stored in `y_valid`.\n",
    "\n",
    "In order for this step to be marked correct, your model in `my_model_3` must attain higher MAE than the model in `my_model_1`. "
   ]
  },
  {
   "cell_type": "code",
   "execution_count": 11,
   "id": "12c05839",
   "metadata": {
    "execution": {
     "iopub.execute_input": "2023-06-30T17:39:00.850137Z",
     "iopub.status.busy": "2023-06-30T17:39:00.849777Z",
     "iopub.status.idle": "2023-06-30T17:39:00.892369Z",
     "shell.execute_reply": "2023-06-30T17:39:00.891404Z"
    },
    "papermill": {
     "duration": 0.051115,
     "end_time": "2023-06-30T17:39:00.894123",
     "exception": false,
     "start_time": "2023-06-30T17:39:00.843008",
     "status": "completed"
    },
    "tags": []
   },
   "outputs": [
    {
     "name": "stdout",
     "output_type": "stream",
     "text": [
      "Mean Absolute Error: 127895.0828807256\n"
     ]
    },
    {
     "data": {
      "application/javascript": [
       "parent.postMessage({\"jupyterEvent\": \"custom.exercise_interaction\", \"data\": {\"outcomeType\": 1, \"valueTowardsCompletion\": 0.5, \"interactionType\": 1, \"questionType\": 2, \"questionId\": \"3_Model3\", \"learnToolsVersion\": \"0.3.4\", \"failureMessage\": \"\", \"exceptionClass\": \"\", \"trace\": \"\"}}, \"*\")"
      ],
      "text/plain": [
       "<IPython.core.display.Javascript object>"
      ]
     },
     "metadata": {},
     "output_type": "display_data"
    },
    {
     "data": {
      "text/markdown": [
       "<span style=\"color:#33cc33\">Correct</span>"
      ],
      "text/plain": [
       "Correct"
      ]
     },
     "metadata": {},
     "output_type": "display_data"
    }
   ],
   "source": [
    "# Define the model\n",
    "my_model_3 = XGBRegressor(n_estimators=1)\n",
    "\n",
    "# Fit the model\n",
    "my_model_3.fit(X_train, y_train)\n",
    "\n",
    "# Get predictions\n",
    "predictions_3 = my_model_3.predict(X_valid)\n",
    "\n",
    "# Calculate MAE\n",
    "mae_3 = mean_absolute_error(predictions_3, y_valid)\n",
    "print(\"Mean Absolute Error:\" , mae_3)\n",
    "\n",
    "# Uncomment to print MAE\n",
    "# print(\"Mean Absolute Error:\" , mae_3)\n",
    "\n",
    "# Check your answer\n",
    "step_3.check()"
   ]
  },
  {
   "cell_type": "code",
   "execution_count": 12,
   "id": "4a7b2142",
   "metadata": {
    "execution": {
     "iopub.execute_input": "2023-06-30T17:39:00.906835Z",
     "iopub.status.busy": "2023-06-30T17:39:00.906521Z",
     "iopub.status.idle": "2023-06-30T17:39:00.911251Z",
     "shell.execute_reply": "2023-06-30T17:39:00.909559Z"
    },
    "papermill": {
     "duration": 0.013958,
     "end_time": "2023-06-30T17:39:00.913677",
     "exception": false,
     "start_time": "2023-06-30T17:39:00.899719",
     "status": "completed"
    },
    "tags": []
   },
   "outputs": [],
   "source": [
    "# Lines below will give you a hint or solution code\n",
    "#step_3.hint()\n",
    "#step_3.solution()"
   ]
  },
  {
   "cell_type": "markdown",
   "id": "e6db19ef",
   "metadata": {
    "papermill": {
     "duration": 0.005287,
     "end_time": "2023-06-30T17:39:00.924741",
     "exception": false,
     "start_time": "2023-06-30T17:39:00.919454",
     "status": "completed"
    },
    "tags": []
   },
   "source": [
    "# Keep going\n",
    "\n",
    "Continue to learn about **[data leakage](https://www.kaggle.com/alexisbcook/data-leakage)**.  This is an important issue for a data scientist to understand, and it has the potential to ruin your models in subtle and dangerous ways!"
   ]
  },
  {
   "cell_type": "markdown",
   "id": "c4687eb9",
   "metadata": {
    "papermill": {
     "duration": 0.005282,
     "end_time": "2023-06-30T17:39:00.935764",
     "exception": false,
     "start_time": "2023-06-30T17:39:00.930482",
     "status": "completed"
    },
    "tags": []
   },
   "source": [
    "---\n",
    "\n",
    "\n",
    "\n",
    "\n",
    "*Have questions or comments? Visit the [course discussion forum](https://www.kaggle.com/learn/intermediate-machine-learning/discussion) to chat with other learners.*"
   ]
  }
 ],
 "metadata": {
  "kernelspec": {
   "display_name": "Python 3",
   "language": "python",
   "name": "python3"
  },
  "language_info": {
   "codemirror_mode": {
    "name": "ipython",
    "version": 3
   },
   "file_extension": ".py",
   "mimetype": "text/x-python",
   "name": "python",
   "nbconvert_exporter": "python",
   "pygments_lexer": "ipython3",
   "version": "3.10.10"
  },
  "papermill": {
   "default_parameters": {},
   "duration": 19.777648,
   "end_time": "2023-06-30T17:39:01.862591",
   "environment_variables": {},
   "exception": null,
   "input_path": "__notebook__.ipynb",
   "output_path": "__notebook__.ipynb",
   "parameters": {},
   "start_time": "2023-06-30T17:38:42.084943",
   "version": "2.4.0"
  }
 },
 "nbformat": 4,
 "nbformat_minor": 5
}
