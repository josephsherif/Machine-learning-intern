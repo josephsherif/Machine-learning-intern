{
 "cells": [
  {
   "cell_type": "markdown",
   "id": "f241c034",
   "metadata": {
    "papermill": {
     "duration": 0.005139,
     "end_time": "2023-06-30T18:14:04.509669",
     "exception": false,
     "start_time": "2023-06-30T18:14:04.504530",
     "status": "completed"
    },
    "tags": []
   },
   "source": [
    "**This notebook is an exercise in the [Feature Engineering](https://www.kaggle.com/learn/feature-engineering) course.  You can reference the tutorial at [this link](https://www.kaggle.com/ryanholbrook/creating-features).**\n",
    "\n",
    "---\n"
   ]
  },
  {
   "cell_type": "markdown",
   "id": "e0f12a9c",
   "metadata": {
    "papermill": {
     "duration": 0.005336,
     "end_time": "2023-06-30T18:14:04.519832",
     "exception": false,
     "start_time": "2023-06-30T18:14:04.514496",
     "status": "completed"
    },
    "tags": []
   },
   "source": [
    "# Introduction #\n",
    "\n",
    "In this exercise you'll start developing the features you identified in Exercise 2 as having the most potential. As you work through this exercise, you might take a moment to look at the data documentation again and consider whether the features we're creating make sense from a real-world perspective, and whether there are any useful combinations that stand out to you.\n",
    "\n",
    "Run this cell to set everything up!"
   ]
  },
  {
   "cell_type": "code",
   "execution_count": 1,
   "id": "92db9467",
   "metadata": {
    "execution": {
     "iopub.execute_input": "2023-06-30T18:14:04.536304Z",
     "iopub.status.busy": "2023-06-30T18:14:04.535060Z",
     "iopub.status.idle": "2023-06-30T18:14:06.466452Z",
     "shell.execute_reply": "2023-06-30T18:14:06.464957Z"
    },
    "papermill": {
     "duration": 1.94321,
     "end_time": "2023-06-30T18:14:06.469036",
     "exception": false,
     "start_time": "2023-06-30T18:14:04.525826",
     "status": "completed"
    },
    "tags": []
   },
   "outputs": [],
   "source": [
    "# Setup feedback system\n",
    "from learntools.core import binder\n",
    "binder.bind(globals())\n",
    "from learntools.feature_engineering_new.ex3 import *\n",
    "\n",
    "import numpy as np\n",
    "import pandas as pd\n",
    "from sklearn.model_selection import cross_val_score\n",
    "from xgboost import XGBRegressor\n",
    "\n",
    "\n",
    "def score_dataset(X, y, model=XGBRegressor()):\n",
    "    # Label encoding for categoricals\n",
    "    for colname in X.select_dtypes([\"category\", \"object\"]):\n",
    "        X[colname], _ = X[colname].factorize()\n",
    "    # Metric for Housing competition is RMSLE (Root Mean Squared Log Error)\n",
    "    score = cross_val_score(\n",
    "        model, X, y, cv=5, scoring=\"neg_mean_squared_log_error\",\n",
    "    )\n",
    "    score = -1 * score.mean()\n",
    "    score = np.sqrt(score)\n",
    "    return score\n",
    "\n",
    "\n",
    "# Prepare data\n",
    "df = pd.read_csv(\"../input/fe-course-data/ames.csv\")\n",
    "X = df.copy()\n",
    "y = X.pop(\"SalePrice\")"
   ]
  },
  {
   "cell_type": "markdown",
   "id": "28b87870",
   "metadata": {
    "papermill": {
     "duration": 0.004998,
     "end_time": "2023-06-30T18:14:06.478857",
     "exception": false,
     "start_time": "2023-06-30T18:14:06.473859",
     "status": "completed"
    },
    "tags": []
   },
   "source": [
    "-------------------------------------------------------------------------------\n",
    "\n",
    "Let's start with a few mathematical combinations. We'll focus on features describing areas -- having the same units (square-feet) makes it easy to combine them in sensible ways. Since we're using XGBoost (a tree-based model), we'll focus on ratios and sums.\n",
    "\n",
    "# 1) Create Mathematical Transforms\n",
    "\n",
    "Create the following features:\n",
    "\n",
    "- `LivLotRatio`: the ratio of `GrLivArea` to `LotArea`\n",
    "- `Spaciousness`: the sum of `FirstFlrSF` and `SecondFlrSF` divided by `TotRmsAbvGrd`\n",
    "- `TotalOutsideSF`: the sum of `WoodDeckSF`, `OpenPorchSF`, `EnclosedPorch`, `Threeseasonporch`, and `ScreenPorch`"
   ]
  },
  {
   "cell_type": "code",
   "execution_count": 2,
   "id": "b40d334f",
   "metadata": {
    "execution": {
     "iopub.execute_input": "2023-06-30T18:14:06.490993Z",
     "iopub.status.busy": "2023-06-30T18:14:06.490612Z",
     "iopub.status.idle": "2023-06-30T18:14:06.517794Z",
     "shell.execute_reply": "2023-06-30T18:14:06.516578Z"
    },
    "lines_to_next_cell": 0,
    "papermill": {
     "duration": 0.035893,
     "end_time": "2023-06-30T18:14:06.520180",
     "exception": false,
     "start_time": "2023-06-30T18:14:06.484287",
     "status": "completed"
    },
    "tags": []
   },
   "outputs": [
    {
     "data": {
      "application/javascript": [
       "parent.postMessage({\"jupyterEvent\": \"custom.exercise_interaction\", \"data\": {\"outcomeType\": 1, \"valueTowardsCompletion\": 0.2, \"interactionType\": 1, \"questionType\": 2, \"questionId\": \"1_Q1\", \"learnToolsVersion\": \"0.3.4\", \"failureMessage\": \"\", \"exceptionClass\": \"\", \"trace\": \"\"}}, \"*\")"
      ],
      "text/plain": [
       "<IPython.core.display.Javascript object>"
      ]
     },
     "metadata": {},
     "output_type": "display_data"
    },
    {
     "data": {
      "text/markdown": [
       "<span style=\"color:#33cc33\">Correct</span>"
      ],
      "text/plain": [
       "Correct"
      ]
     },
     "metadata": {},
     "output_type": "display_data"
    }
   ],
   "source": [
    "# YOUR CODE HERE\n",
    "X_1 = pd.DataFrame()  # dataframe to hold new features\n",
    "\n",
    "X_1[\"LivLotRatio\"] = df.GrLivArea / df.LotArea\n",
    "X_1[\"Spaciousness\"] = (df.FirstFlrSF + df.SecondFlrSF) / df.TotRmsAbvGrd\n",
    "X_1[\"TotalOutsideSF\"] = df.WoodDeckSF + df.OpenPorchSF + df.EnclosedPorch + df.Threeseasonporch + df.ScreenPorch\n",
    "\n",
    "\n",
    "# Check your answer\n",
    "q_1.check()"
   ]
  },
  {
   "cell_type": "code",
   "execution_count": 3,
   "id": "8a94aff5",
   "metadata": {
    "execution": {
     "iopub.execute_input": "2023-06-30T18:14:06.534344Z",
     "iopub.status.busy": "2023-06-30T18:14:06.533989Z",
     "iopub.status.idle": "2023-06-30T18:14:06.538466Z",
     "shell.execute_reply": "2023-06-30T18:14:06.537343Z"
    },
    "lines_to_next_cell": 0,
    "papermill": {
     "duration": 0.01282,
     "end_time": "2023-06-30T18:14:06.540434",
     "exception": false,
     "start_time": "2023-06-30T18:14:06.527614",
     "status": "completed"
    },
    "tags": []
   },
   "outputs": [],
   "source": [
    "# Lines below will give you a hint or solution code\n",
    "#q_1.hint()\n",
    "#q_1.solution()"
   ]
  },
  {
   "cell_type": "markdown",
   "id": "6bf0de7d",
   "metadata": {
    "papermill": {
     "duration": 0.004597,
     "end_time": "2023-06-30T18:14:06.549966",
     "exception": false,
     "start_time": "2023-06-30T18:14:06.545369",
     "status": "completed"
    },
    "tags": []
   },
   "source": [
    "-------------------------------------------------------------------------------\n",
    "\n",
    "If you've discovered an interaction effect between a numeric feature and a categorical feature, you might want to model it explicitly using a one-hot encoding, like so:\n",
    "\n",
    "```\n",
    "# One-hot encode Categorical feature, adding a column prefix \"Cat\"\n",
    "X_new = pd.get_dummies(df.Categorical, prefix=\"Cat\")\n",
    "\n",
    "# Multiply row-by-row\n",
    "X_new = X_new.mul(df.Continuous, axis=0)\n",
    "\n",
    "# Join the new features to the feature set\n",
    "X = X.join(X_new)\n",
    "```\n",
    "\n",
    "# 2) Interaction with a Categorical\n",
    "\n",
    "We discovered an interaction between `BldgType` and `GrLivArea` in Exercise 2. Now create their interaction features."
   ]
  },
  {
   "cell_type": "code",
   "execution_count": 4,
   "id": "1453ab58",
   "metadata": {
    "execution": {
     "iopub.execute_input": "2023-06-30T18:14:06.561258Z",
     "iopub.status.busy": "2023-06-30T18:14:06.560787Z",
     "iopub.status.idle": "2023-06-30T18:14:06.577348Z",
     "shell.execute_reply": "2023-06-30T18:14:06.576100Z"
    },
    "lines_to_next_cell": 0,
    "papermill": {
     "duration": 0.025687,
     "end_time": "2023-06-30T18:14:06.580311",
     "exception": false,
     "start_time": "2023-06-30T18:14:06.554624",
     "status": "completed"
    },
    "tags": []
   },
   "outputs": [
    {
     "data": {
      "application/javascript": [
       "parent.postMessage({\"jupyterEvent\": \"custom.exercise_interaction\", \"data\": {\"outcomeType\": 1, \"valueTowardsCompletion\": 0.2, \"interactionType\": 1, \"questionType\": 2, \"questionId\": \"2_Q2\", \"learnToolsVersion\": \"0.3.4\", \"failureMessage\": \"\", \"exceptionClass\": \"\", \"trace\": \"\"}}, \"*\")"
      ],
      "text/plain": [
       "<IPython.core.display.Javascript object>"
      ]
     },
     "metadata": {},
     "output_type": "display_data"
    },
    {
     "data": {
      "text/markdown": [
       "<span style=\"color:#33cc33\">Correct</span>"
      ],
      "text/plain": [
       "Correct"
      ]
     },
     "metadata": {},
     "output_type": "display_data"
    }
   ],
   "source": [
    "# One-hot encode BldgType. Use `prefix=\"Bldg\"` in `get_dummies`\n",
    "X_2 = pd.get_dummies(df.BldgType, prefix=\"Bldg\")\n",
    "X_2 = X_2.mul(df.GrLivArea, axis=0)\n",
    "\n",
    "\n",
    "# Check your answer\n",
    "q_2.check()"
   ]
  },
  {
   "cell_type": "code",
   "execution_count": 5,
   "id": "1ee4f000",
   "metadata": {
    "execution": {
     "iopub.execute_input": "2023-06-30T18:14:06.592946Z",
     "iopub.status.busy": "2023-06-30T18:14:06.592582Z",
     "iopub.status.idle": "2023-06-30T18:14:06.596832Z",
     "shell.execute_reply": "2023-06-30T18:14:06.595940Z"
    },
    "lines_to_next_cell": 0,
    "papermill": {
     "duration": 0.012529,
     "end_time": "2023-06-30T18:14:06.598684",
     "exception": false,
     "start_time": "2023-06-30T18:14:06.586155",
     "status": "completed"
    },
    "tags": []
   },
   "outputs": [],
   "source": [
    "# Lines below will give you a hint or solution code\n",
    "#q_2.hint()\n",
    "#q_2.solution()"
   ]
  },
  {
   "cell_type": "markdown",
   "id": "742d0e2d",
   "metadata": {
    "lines_to_next_cell": 0,
    "papermill": {
     "duration": 0.005314,
     "end_time": "2023-06-30T18:14:06.609625",
     "exception": false,
     "start_time": "2023-06-30T18:14:06.604311",
     "status": "completed"
    },
    "tags": []
   },
   "source": [
    "# 3) Count Feature\n",
    "\n",
    "Let's try creating a feature that describes how many kinds of outdoor areas a dwelling has. Create a feature `PorchTypes` that counts how many of the following are greater than 0.0:\n",
    "\n",
    "```\n",
    "WoodDeckSF\n",
    "OpenPorchSF\n",
    "EnclosedPorch\n",
    "Threeseasonporch\n",
    "ScreenPorch\n",
    "```"
   ]
  },
  {
   "cell_type": "code",
   "execution_count": 6,
   "id": "8f7c23ed",
   "metadata": {
    "execution": {
     "iopub.execute_input": "2023-06-30T18:14:06.622507Z",
     "iopub.status.busy": "2023-06-30T18:14:06.621770Z",
     "iopub.status.idle": "2023-06-30T18:14:06.636391Z",
     "shell.execute_reply": "2023-06-30T18:14:06.634703Z"
    },
    "lines_to_next_cell": 0,
    "papermill": {
     "duration": 0.024214,
     "end_time": "2023-06-30T18:14:06.639147",
     "exception": false,
     "start_time": "2023-06-30T18:14:06.614933",
     "status": "completed"
    },
    "tags": []
   },
   "outputs": [
    {
     "data": {
      "application/javascript": [
       "parent.postMessage({\"jupyterEvent\": \"custom.exercise_interaction\", \"data\": {\"outcomeType\": 1, \"valueTowardsCompletion\": 0.2, \"interactionType\": 1, \"questionType\": 2, \"questionId\": \"3_Q3\", \"learnToolsVersion\": \"0.3.4\", \"failureMessage\": \"\", \"exceptionClass\": \"\", \"trace\": \"\"}}, \"*\")"
      ],
      "text/plain": [
       "<IPython.core.display.Javascript object>"
      ]
     },
     "metadata": {},
     "output_type": "display_data"
    },
    {
     "data": {
      "text/markdown": [
       "<span style=\"color:#33cc33\">Correct</span>"
      ],
      "text/plain": [
       "Correct"
      ]
     },
     "metadata": {},
     "output_type": "display_data"
    }
   ],
   "source": [
    "X_3 = pd.DataFrame()\n",
    "\n",
    "# YOUR CODE HERE\n",
    "\n",
    "X_3[\"PorchTypes\"] = df[[\n",
    "    \"WoodDeckSF\",\n",
    "    \"OpenPorchSF\",\n",
    "    \"EnclosedPorch\",\n",
    "    \"Threeseasonporch\",\n",
    "    \"ScreenPorch\",\n",
    "]].gt(0.0).sum(axis=1)\n",
    "\n",
    "# Check your answer\n",
    "q_3.check()"
   ]
  },
  {
   "cell_type": "code",
   "execution_count": 7,
   "id": "19d2368c",
   "metadata": {
    "execution": {
     "iopub.execute_input": "2023-06-30T18:14:06.651836Z",
     "iopub.status.busy": "2023-06-30T18:14:06.651452Z",
     "iopub.status.idle": "2023-06-30T18:14:06.655950Z",
     "shell.execute_reply": "2023-06-30T18:14:06.654797Z"
    },
    "lines_to_next_cell": 0,
    "papermill": {
     "duration": 0.013111,
     "end_time": "2023-06-30T18:14:06.657906",
     "exception": false,
     "start_time": "2023-06-30T18:14:06.644795",
     "status": "completed"
    },
    "tags": []
   },
   "outputs": [],
   "source": [
    "# Lines below will give you a hint or solution code\n",
    "#q_3.hint()\n",
    "#q_3.solution()"
   ]
  },
  {
   "cell_type": "markdown",
   "id": "cb976369",
   "metadata": {
    "papermill": {
     "duration": 0.005241,
     "end_time": "2023-06-30T18:14:06.668968",
     "exception": false,
     "start_time": "2023-06-30T18:14:06.663727",
     "status": "completed"
    },
    "tags": []
   },
   "source": [
    "# 4) Break Down a Categorical Feature\n",
    "\n",
    "`MSSubClass` describes the type of a dwelling:"
   ]
  },
  {
   "cell_type": "code",
   "execution_count": 8,
   "id": "29265b54",
   "metadata": {
    "execution": {
     "iopub.execute_input": "2023-06-30T18:14:06.682629Z",
     "iopub.status.busy": "2023-06-30T18:14:06.681360Z",
     "iopub.status.idle": "2023-06-30T18:14:06.694048Z",
     "shell.execute_reply": "2023-06-30T18:14:06.692407Z"
    },
    "papermill": {
     "duration": 0.022795,
     "end_time": "2023-06-30T18:14:06.697271",
     "exception": false,
     "start_time": "2023-06-30T18:14:06.674476",
     "status": "completed"
    },
    "tags": []
   },
   "outputs": [
    {
     "data": {
      "text/plain": [
       "array(['One_Story_1946_and_Newer_All_Styles', 'Two_Story_1946_and_Newer',\n",
       "       'One_Story_PUD_1946_and_Newer',\n",
       "       'One_and_Half_Story_Finished_All_Ages', 'Split_Foyer',\n",
       "       'Two_Story_PUD_1946_and_Newer', 'Split_or_Multilevel',\n",
       "       'One_Story_1945_and_Older', 'Duplex_All_Styles_and_Ages',\n",
       "       'Two_Family_conversion_All_Styles_and_Ages',\n",
       "       'One_and_Half_Story_Unfinished_All_Ages',\n",
       "       'Two_Story_1945_and_Older', 'Two_and_Half_Story_All_Ages',\n",
       "       'One_Story_with_Finished_Attic_All_Ages',\n",
       "       'PUD_Multilevel_Split_Level_Foyer',\n",
       "       'One_and_Half_Story_PUD_All_Ages'], dtype=object)"
      ]
     },
     "execution_count": 8,
     "metadata": {},
     "output_type": "execute_result"
    }
   ],
   "source": [
    "df.MSSubClass.unique()"
   ]
  },
  {
   "cell_type": "markdown",
   "id": "a2636b42",
   "metadata": {
    "papermill": {
     "duration": 0.005374,
     "end_time": "2023-06-30T18:14:06.708737",
     "exception": false,
     "start_time": "2023-06-30T18:14:06.703363",
     "status": "completed"
    },
    "tags": []
   },
   "source": [
    "You can see that there is a more general categorization described (roughly) by the first word of each category. Create a feature containing only these first words by splitting `MSSubClass` at the first underscore `_`. (Hint: In the `split` method use an argument `n=1`.)"
   ]
  },
  {
   "cell_type": "code",
   "execution_count": 9,
   "id": "47c86800",
   "metadata": {
    "execution": {
     "iopub.execute_input": "2023-06-30T18:14:06.722076Z",
     "iopub.status.busy": "2023-06-30T18:14:06.721041Z",
     "iopub.status.idle": "2023-06-30T18:14:06.745359Z",
     "shell.execute_reply": "2023-06-30T18:14:06.744018Z"
    },
    "lines_to_next_cell": 0,
    "papermill": {
     "duration": 0.033035,
     "end_time": "2023-06-30T18:14:06.747417",
     "exception": false,
     "start_time": "2023-06-30T18:14:06.714382",
     "status": "completed"
    },
    "tags": []
   },
   "outputs": [
    {
     "data": {
      "application/javascript": [
       "parent.postMessage({\"jupyterEvent\": \"custom.exercise_interaction\", \"data\": {\"outcomeType\": 1, \"valueTowardsCompletion\": 0.2, \"interactionType\": 1, \"questionType\": 2, \"questionId\": \"4_Q4\", \"learnToolsVersion\": \"0.3.4\", \"failureMessage\": \"\", \"exceptionClass\": \"\", \"trace\": \"\"}}, \"*\")"
      ],
      "text/plain": [
       "<IPython.core.display.Javascript object>"
      ]
     },
     "metadata": {},
     "output_type": "display_data"
    },
    {
     "data": {
      "text/markdown": [
       "<span style=\"color:#33cc33\">Correct</span>"
      ],
      "text/plain": [
       "Correct"
      ]
     },
     "metadata": {},
     "output_type": "display_data"
    }
   ],
   "source": [
    "X_4 = pd.DataFrame()\n",
    "\n",
    "# YOUR CODE HERE\n",
    "X_4[\"MSClass\"] = df.MSSubClass.str.split(\"_\", n=1, expand=True)[0]\n",
    "\n",
    "\n",
    "# Check your answer\n",
    "q_4.check()"
   ]
  },
  {
   "cell_type": "code",
   "execution_count": 10,
   "id": "cc8c0c5c",
   "metadata": {
    "execution": {
     "iopub.execute_input": "2023-06-30T18:14:06.760466Z",
     "iopub.status.busy": "2023-06-30T18:14:06.760130Z",
     "iopub.status.idle": "2023-06-30T18:14:06.765434Z",
     "shell.execute_reply": "2023-06-30T18:14:06.763417Z"
    },
    "lines_to_next_cell": 0,
    "papermill": {
     "duration": 0.016057,
     "end_time": "2023-06-30T18:14:06.769432",
     "exception": false,
     "start_time": "2023-06-30T18:14:06.753375",
     "status": "completed"
    },
    "tags": []
   },
   "outputs": [],
   "source": [
    "# Lines below will give you a hint or solution code\n",
    "#q_4.hint()\n",
    "#q_4.solution()"
   ]
  },
  {
   "cell_type": "markdown",
   "id": "2d7f519c",
   "metadata": {
    "papermill": {
     "duration": 0.005622,
     "end_time": "2023-06-30T18:14:06.781789",
     "exception": false,
     "start_time": "2023-06-30T18:14:06.776167",
     "status": "completed"
    },
    "tags": []
   },
   "source": [
    "# 5) Use a Grouped Transform\n",
    "\n",
    "The value of a home often depends on how it compares to typical homes in its neighborhood. Create a feature `MedNhbdArea` that describes the *median* of `GrLivArea` grouped on `Neighborhood`."
   ]
  },
  {
   "cell_type": "code",
   "execution_count": 11,
   "id": "03c95ad5",
   "metadata": {
    "execution": {
     "iopub.execute_input": "2023-06-30T18:14:06.796920Z",
     "iopub.status.busy": "2023-06-30T18:14:06.795598Z",
     "iopub.status.idle": "2023-06-30T18:14:06.814503Z",
     "shell.execute_reply": "2023-06-30T18:14:06.813406Z"
    },
    "lines_to_next_cell": 0,
    "papermill": {
     "duration": 0.028539,
     "end_time": "2023-06-30T18:14:06.816525",
     "exception": false,
     "start_time": "2023-06-30T18:14:06.787986",
     "status": "completed"
    },
    "tags": []
   },
   "outputs": [
    {
     "data": {
      "application/javascript": [
       "parent.postMessage({\"jupyterEvent\": \"custom.exercise_interaction\", \"data\": {\"outcomeType\": 1, \"valueTowardsCompletion\": 0.2, \"interactionType\": 1, \"questionType\": 2, \"questionId\": \"5_Q5\", \"learnToolsVersion\": \"0.3.4\", \"failureMessage\": \"\", \"exceptionClass\": \"\", \"trace\": \"\"}}, \"*\")"
      ],
      "text/plain": [
       "<IPython.core.display.Javascript object>"
      ]
     },
     "metadata": {},
     "output_type": "display_data"
    },
    {
     "data": {
      "text/markdown": [
       "<span style=\"color:#33cc33\">Correct</span>"
      ],
      "text/plain": [
       "Correct"
      ]
     },
     "metadata": {},
     "output_type": "display_data"
    }
   ],
   "source": [
    "X_5 = pd.DataFrame()\n",
    "\n",
    "# YOUR CODE HERE\n",
    "X_5[\"MedNhbdArea\"] = df.groupby(\"Neighborhood\")[\"GrLivArea\"].transform(\"median\")\n",
    "\n",
    "# Check your answer\n",
    "q_5.check()"
   ]
  },
  {
   "cell_type": "code",
   "execution_count": 12,
   "id": "ceb1e090",
   "metadata": {
    "execution": {
     "iopub.execute_input": "2023-06-30T18:14:06.831947Z",
     "iopub.status.busy": "2023-06-30T18:14:06.831488Z",
     "iopub.status.idle": "2023-06-30T18:14:06.837180Z",
     "shell.execute_reply": "2023-06-30T18:14:06.835822Z"
    },
    "lines_to_next_cell": 0,
    "papermill": {
     "duration": 0.016096,
     "end_time": "2023-06-30T18:14:06.839398",
     "exception": false,
     "start_time": "2023-06-30T18:14:06.823302",
     "status": "completed"
    },
    "tags": []
   },
   "outputs": [],
   "source": [
    "# Lines below will give you a hint or solution code\n",
    "#q_5.hint()\n",
    "#q_5.solution()"
   ]
  },
  {
   "cell_type": "markdown",
   "id": "33e4b3d5",
   "metadata": {
    "papermill": {
     "duration": 0.005722,
     "end_time": "2023-06-30T18:14:06.851694",
     "exception": false,
     "start_time": "2023-06-30T18:14:06.845972",
     "status": "completed"
    },
    "tags": []
   },
   "source": [
    "Now you've made your first new feature set! If you like, you can run the cell below to score the model with all of your new features added:"
   ]
  },
  {
   "cell_type": "code",
   "execution_count": 13,
   "id": "b3b9f3ae",
   "metadata": {
    "execution": {
     "iopub.execute_input": "2023-06-30T18:14:06.866866Z",
     "iopub.status.busy": "2023-06-30T18:14:06.866378Z",
     "iopub.status.idle": "2023-06-30T18:14:10.687349Z",
     "shell.execute_reply": "2023-06-30T18:14:10.686447Z"
    },
    "papermill": {
     "duration": 3.831843,
     "end_time": "2023-06-30T18:14:10.689401",
     "exception": false,
     "start_time": "2023-06-30T18:14:06.857558",
     "status": "completed"
    },
    "tags": []
   },
   "outputs": [
    {
     "data": {
      "text/plain": [
       "0.13865658070461215"
      ]
     },
     "execution_count": 13,
     "metadata": {},
     "output_type": "execute_result"
    }
   ],
   "source": [
    "X_new = X.join([X_1, X_2, X_3, X_4, X_5])\n",
    "score_dataset(X_new, y)"
   ]
  },
  {
   "cell_type": "markdown",
   "id": "b3d10979",
   "metadata": {
    "papermill": {
     "duration": 0.00595,
     "end_time": "2023-06-30T18:14:10.702272",
     "exception": false,
     "start_time": "2023-06-30T18:14:10.696322",
     "status": "completed"
    },
    "tags": []
   },
   "source": [
    "# Keep Going #\n",
    "\n",
    "[**Untangle spatial relationships**](https://www.kaggle.com/ryanholbrook/clustering-with-k-means) by adding cluster labels to your dataset."
   ]
  },
  {
   "cell_type": "markdown",
   "id": "a0aaaa5e",
   "metadata": {
    "papermill": {
     "duration": 0.005782,
     "end_time": "2023-06-30T18:14:10.714308",
     "exception": false,
     "start_time": "2023-06-30T18:14:10.708526",
     "status": "completed"
    },
    "tags": []
   },
   "source": [
    "---\n",
    "\n",
    "\n",
    "\n",
    "\n",
    "*Have questions or comments? Visit the [course discussion forum](https://www.kaggle.com/learn/feature-engineering/discussion) to chat with other learners.*"
   ]
  }
 ],
 "metadata": {
  "kernelspec": {
   "display_name": "Python 3",
   "language": "python",
   "name": "python3"
  },
  "language_info": {
   "codemirror_mode": {
    "name": "ipython",
    "version": 3
   },
   "file_extension": ".py",
   "mimetype": "text/x-python",
   "name": "python",
   "nbconvert_exporter": "python",
   "pygments_lexer": "ipython3",
   "version": "3.10.10"
  },
  "papermill": {
   "default_parameters": {},
   "duration": 17.601507,
   "end_time": "2023-06-30T18:14:12.047774",
   "environment_variables": {},
   "exception": null,
   "input_path": "__notebook__.ipynb",
   "output_path": "__notebook__.ipynb",
   "parameters": {},
   "start_time": "2023-06-30T18:13:54.446267",
   "version": "2.4.0"
  }
 },
 "nbformat": 4,
 "nbformat_minor": 5
}
