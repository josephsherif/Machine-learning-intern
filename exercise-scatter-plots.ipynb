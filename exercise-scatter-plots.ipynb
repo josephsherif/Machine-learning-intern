{
 "cells": [
  {
   "cell_type": "markdown",
   "id": "4870168f",
   "metadata": {
    "papermill": {
     "duration": 0.012995,
     "end_time": "2023-06-30T15:23:23.240620",
     "exception": false,
     "start_time": "2023-06-30T15:23:23.227625",
     "status": "completed"
    },
    "tags": []
   },
   "source": [
    "**This notebook is an exercise in the [Data Visualization](https://www.kaggle.com/learn/data-visualization) course.  You can reference the tutorial at [this link](https://www.kaggle.com/alexisbcook/scatter-plots).**\n",
    "\n",
    "---\n"
   ]
  },
  {
   "cell_type": "markdown",
   "id": "05026f17",
   "metadata": {
    "papermill": {
     "duration": 0.010659,
     "end_time": "2023-06-30T15:23:23.262178",
     "exception": false,
     "start_time": "2023-06-30T15:23:23.251519",
     "status": "completed"
    },
    "tags": []
   },
   "source": [
    "In this exercise, you will use your new knowledge to propose a solution to a real-world scenario.  To succeed, you will need to import data into Python, answer questions using the data, and generate **scatter plots** to understand patterns in the data.\n",
    "\n",
    "## Scenario\n",
    "\n",
    "You work for a major candy producer, and your goal is to write a report that your company can use to guide the design of its next product.  Soon after starting your research, you stumble across this [very interesting dataset](https://fivethirtyeight.com/features/the-ultimate-halloween-candy-power-ranking/) containing results from a fun survey to crowdsource favorite candies.\n",
    "\n",
    "## Setup\n",
    "\n",
    "Run the next cell to import and configure the Python libraries that you need to complete the exercise."
   ]
  },
  {
   "cell_type": "code",
   "execution_count": 1,
   "id": "8bdbeb09",
   "metadata": {
    "execution": {
     "iopub.execute_input": "2023-06-30T15:23:23.285739Z",
     "iopub.status.busy": "2023-06-30T15:23:23.285199Z",
     "iopub.status.idle": "2023-06-30T15:23:24.954127Z",
     "shell.execute_reply": "2023-06-30T15:23:24.952870Z"
    },
    "papermill": {
     "duration": 1.684168,
     "end_time": "2023-06-30T15:23:24.957124",
     "exception": false,
     "start_time": "2023-06-30T15:23:23.272956",
     "status": "completed"
    },
    "tags": []
   },
   "outputs": [
    {
     "name": "stdout",
     "output_type": "stream",
     "text": [
      "Setup Complete\n"
     ]
    }
   ],
   "source": [
    "import pandas as pd\n",
    "pd.plotting.register_matplotlib_converters()\n",
    "import matplotlib.pyplot as plt\n",
    "%matplotlib inline\n",
    "import seaborn as sns\n",
    "print(\"Setup Complete\")"
   ]
  },
  {
   "cell_type": "markdown",
   "id": "0a89782b",
   "metadata": {
    "papermill": {
     "duration": 0.010322,
     "end_time": "2023-06-30T15:23:24.978333",
     "exception": false,
     "start_time": "2023-06-30T15:23:24.968011",
     "status": "completed"
    },
    "tags": []
   },
   "source": [
    "The questions below will give you feedback on your work. Run the following cell to set up our feedback system."
   ]
  },
  {
   "cell_type": "code",
   "execution_count": 2,
   "id": "b3d2a94e",
   "metadata": {
    "execution": {
     "iopub.execute_input": "2023-06-30T15:23:25.001751Z",
     "iopub.status.busy": "2023-06-30T15:23:25.001367Z",
     "iopub.status.idle": "2023-06-30T15:23:25.080443Z",
     "shell.execute_reply": "2023-06-30T15:23:25.079092Z"
    },
    "papermill": {
     "duration": 0.094046,
     "end_time": "2023-06-30T15:23:25.083133",
     "exception": false,
     "start_time": "2023-06-30T15:23:24.989087",
     "status": "completed"
    },
    "tags": []
   },
   "outputs": [
    {
     "name": "stdout",
     "output_type": "stream",
     "text": [
      "Setup Complete\n"
     ]
    }
   ],
   "source": [
    "# Set up code checking\n",
    "import os\n",
    "if not os.path.exists(\"../input/candy.csv\"):\n",
    "    os.symlink(\"../input/data-for-datavis/candy.csv\", \"../input/candy.csv\") \n",
    "from learntools.core import binder\n",
    "binder.bind(globals())\n",
    "from learntools.data_viz_to_coder.ex4 import *\n",
    "print(\"Setup Complete\")"
   ]
  },
  {
   "cell_type": "markdown",
   "id": "d30d7434",
   "metadata": {
    "papermill": {
     "duration": 0.01071,
     "end_time": "2023-06-30T15:23:25.104887",
     "exception": false,
     "start_time": "2023-06-30T15:23:25.094177",
     "status": "completed"
    },
    "tags": []
   },
   "source": [
    "## Step 1: Load the Data\n",
    "\n",
    "Read the candy data file into `candy_data`.  Use the `\"id\"` column to label the rows."
   ]
  },
  {
   "cell_type": "code",
   "execution_count": 3,
   "id": "d2d5194d",
   "metadata": {
    "execution": {
     "iopub.execute_input": "2023-06-30T15:23:25.128604Z",
     "iopub.status.busy": "2023-06-30T15:23:25.127564Z",
     "iopub.status.idle": "2023-06-30T15:23:25.146028Z",
     "shell.execute_reply": "2023-06-30T15:23:25.144637Z"
    },
    "papermill": {
     "duration": 0.032926,
     "end_time": "2023-06-30T15:23:25.148594",
     "exception": false,
     "start_time": "2023-06-30T15:23:25.115668",
     "status": "completed"
    },
    "tags": []
   },
   "outputs": [
    {
     "data": {
      "application/javascript": [
       "parent.postMessage({\"jupyterEvent\": \"custom.exercise_interaction\", \"data\": {\"outcomeType\": 1, \"valueTowardsCompletion\": 0.3333333333333333, \"interactionType\": 1, \"questionType\": 1, \"questionId\": \"1_LoadData\", \"learnToolsVersion\": \"0.3.4\", \"failureMessage\": \"\", \"exceptionClass\": \"\", \"trace\": \"\"}}, \"*\")"
      ],
      "text/plain": [
       "<IPython.core.display.Javascript object>"
      ]
     },
     "metadata": {},
     "output_type": "display_data"
    },
    {
     "data": {
      "text/markdown": [
       "<span style=\"color:#33cc33\">Correct</span>"
      ],
      "text/plain": [
       "Correct"
      ]
     },
     "metadata": {},
     "output_type": "display_data"
    }
   ],
   "source": [
    "# Path of the file to read\n",
    "candy_filepath = \"../input/candy.csv\"\n",
    "\n",
    "# Fill in the line below to read the file into a variable candy_data\n",
    "candy_data = pd.read_csv(candy_filepath, index_col=\"id\")\n",
    "\n",
    "\n",
    "# Run the line below with no changes to check that you've loaded the data correctly\n",
    "step_1.check()"
   ]
  },
  {
   "cell_type": "code",
   "execution_count": 4,
   "id": "81767be0",
   "metadata": {
    "execution": {
     "iopub.execute_input": "2023-06-30T15:23:25.172364Z",
     "iopub.status.busy": "2023-06-30T15:23:25.171965Z",
     "iopub.status.idle": "2023-06-30T15:23:25.176622Z",
     "shell.execute_reply": "2023-06-30T15:23:25.175562Z"
    },
    "papermill": {
     "duration": 0.019308,
     "end_time": "2023-06-30T15:23:25.179015",
     "exception": false,
     "start_time": "2023-06-30T15:23:25.159707",
     "status": "completed"
    },
    "tags": []
   },
   "outputs": [],
   "source": [
    "# Lines below will give you a hint or solution code\n",
    "#step_1.hint()\n",
    "#step_1.solution()"
   ]
  },
  {
   "cell_type": "markdown",
   "id": "ba473c8f",
   "metadata": {
    "papermill": {
     "duration": 0.01077,
     "end_time": "2023-06-30T15:23:25.201174",
     "exception": false,
     "start_time": "2023-06-30T15:23:25.190404",
     "status": "completed"
    },
    "tags": []
   },
   "source": [
    "## Step 2: Review the data\n",
    "\n",
    "Use a Python command to print the first five rows of the data."
   ]
  },
  {
   "cell_type": "code",
   "execution_count": 5,
   "id": "75b2aba2",
   "metadata": {
    "execution": {
     "iopub.execute_input": "2023-06-30T15:23:25.225467Z",
     "iopub.status.busy": "2023-06-30T15:23:25.225102Z",
     "iopub.status.idle": "2023-06-30T15:23:25.255430Z",
     "shell.execute_reply": "2023-06-30T15:23:25.254300Z"
    },
    "papermill": {
     "duration": 0.045549,
     "end_time": "2023-06-30T15:23:25.258005",
     "exception": false,
     "start_time": "2023-06-30T15:23:25.212456",
     "status": "completed"
    },
    "tags": []
   },
   "outputs": [
    {
     "data": {
      "text/html": [
       "<div>\n",
       "<style scoped>\n",
       "    .dataframe tbody tr th:only-of-type {\n",
       "        vertical-align: middle;\n",
       "    }\n",
       "\n",
       "    .dataframe tbody tr th {\n",
       "        vertical-align: top;\n",
       "    }\n",
       "\n",
       "    .dataframe thead th {\n",
       "        text-align: right;\n",
       "    }\n",
       "</style>\n",
       "<table border=\"1\" class=\"dataframe\">\n",
       "  <thead>\n",
       "    <tr style=\"text-align: right;\">\n",
       "      <th></th>\n",
       "      <th>competitorname</th>\n",
       "      <th>chocolate</th>\n",
       "      <th>fruity</th>\n",
       "      <th>caramel</th>\n",
       "      <th>peanutyalmondy</th>\n",
       "      <th>nougat</th>\n",
       "      <th>crispedricewafer</th>\n",
       "      <th>hard</th>\n",
       "      <th>bar</th>\n",
       "      <th>pluribus</th>\n",
       "      <th>sugarpercent</th>\n",
       "      <th>pricepercent</th>\n",
       "      <th>winpercent</th>\n",
       "    </tr>\n",
       "    <tr>\n",
       "      <th>id</th>\n",
       "      <th></th>\n",
       "      <th></th>\n",
       "      <th></th>\n",
       "      <th></th>\n",
       "      <th></th>\n",
       "      <th></th>\n",
       "      <th></th>\n",
       "      <th></th>\n",
       "      <th></th>\n",
       "      <th></th>\n",
       "      <th></th>\n",
       "      <th></th>\n",
       "      <th></th>\n",
       "    </tr>\n",
       "  </thead>\n",
       "  <tbody>\n",
       "    <tr>\n",
       "      <th>0</th>\n",
       "      <td>100 Grand</td>\n",
       "      <td>Yes</td>\n",
       "      <td>No</td>\n",
       "      <td>Yes</td>\n",
       "      <td>No</td>\n",
       "      <td>No</td>\n",
       "      <td>Yes</td>\n",
       "      <td>No</td>\n",
       "      <td>Yes</td>\n",
       "      <td>No</td>\n",
       "      <td>0.732</td>\n",
       "      <td>0.860</td>\n",
       "      <td>66.971725</td>\n",
       "    </tr>\n",
       "    <tr>\n",
       "      <th>1</th>\n",
       "      <td>3 Musketeers</td>\n",
       "      <td>Yes</td>\n",
       "      <td>No</td>\n",
       "      <td>No</td>\n",
       "      <td>No</td>\n",
       "      <td>Yes</td>\n",
       "      <td>No</td>\n",
       "      <td>No</td>\n",
       "      <td>Yes</td>\n",
       "      <td>No</td>\n",
       "      <td>0.604</td>\n",
       "      <td>0.511</td>\n",
       "      <td>67.602936</td>\n",
       "    </tr>\n",
       "    <tr>\n",
       "      <th>2</th>\n",
       "      <td>Air Heads</td>\n",
       "      <td>No</td>\n",
       "      <td>Yes</td>\n",
       "      <td>No</td>\n",
       "      <td>No</td>\n",
       "      <td>No</td>\n",
       "      <td>No</td>\n",
       "      <td>No</td>\n",
       "      <td>No</td>\n",
       "      <td>No</td>\n",
       "      <td>0.906</td>\n",
       "      <td>0.511</td>\n",
       "      <td>52.341465</td>\n",
       "    </tr>\n",
       "    <tr>\n",
       "      <th>3</th>\n",
       "      <td>Almond Joy</td>\n",
       "      <td>Yes</td>\n",
       "      <td>No</td>\n",
       "      <td>No</td>\n",
       "      <td>Yes</td>\n",
       "      <td>No</td>\n",
       "      <td>No</td>\n",
       "      <td>No</td>\n",
       "      <td>Yes</td>\n",
       "      <td>No</td>\n",
       "      <td>0.465</td>\n",
       "      <td>0.767</td>\n",
       "      <td>50.347546</td>\n",
       "    </tr>\n",
       "    <tr>\n",
       "      <th>4</th>\n",
       "      <td>Baby Ruth</td>\n",
       "      <td>Yes</td>\n",
       "      <td>No</td>\n",
       "      <td>Yes</td>\n",
       "      <td>Yes</td>\n",
       "      <td>Yes</td>\n",
       "      <td>No</td>\n",
       "      <td>No</td>\n",
       "      <td>Yes</td>\n",
       "      <td>No</td>\n",
       "      <td>0.604</td>\n",
       "      <td>0.767</td>\n",
       "      <td>56.914547</td>\n",
       "    </tr>\n",
       "  </tbody>\n",
       "</table>\n",
       "</div>"
      ],
      "text/plain": [
       "   competitorname chocolate fruity caramel peanutyalmondy nougat  \\\n",
       "id                                                                 \n",
       "0       100 Grand       Yes     No     Yes             No     No   \n",
       "1    3 Musketeers       Yes     No      No             No    Yes   \n",
       "2       Air Heads        No    Yes      No             No     No   \n",
       "3      Almond Joy       Yes     No      No            Yes     No   \n",
       "4       Baby Ruth       Yes     No     Yes            Yes    Yes   \n",
       "\n",
       "   crispedricewafer hard  bar pluribus  sugarpercent  pricepercent  winpercent  \n",
       "id                                                                              \n",
       "0               Yes   No  Yes       No         0.732         0.860   66.971725  \n",
       "1                No   No  Yes       No         0.604         0.511   67.602936  \n",
       "2                No   No   No       No         0.906         0.511   52.341465  \n",
       "3                No   No  Yes       No         0.465         0.767   50.347546  \n",
       "4                No   No  Yes       No         0.604         0.767   56.914547  "
      ]
     },
     "execution_count": 5,
     "metadata": {},
     "output_type": "execute_result"
    }
   ],
   "source": [
    "# Print the first five rows of the data\n",
    "candy_data.head()# Your code here"
   ]
  },
  {
   "cell_type": "markdown",
   "id": "08ffbd68",
   "metadata": {
    "papermill": {
     "duration": 0.01124,
     "end_time": "2023-06-30T15:23:25.280997",
     "exception": false,
     "start_time": "2023-06-30T15:23:25.269757",
     "status": "completed"
    },
    "tags": []
   },
   "source": [
    "The dataset contains 83 rows, where each corresponds to a different candy bar.  There are 13 columns:\n",
    "- `'competitorname'` contains the name of the candy bar. \n",
    "- the next **9** columns (from `'chocolate'` to `'pluribus'`) describe the candy.  For instance, rows with chocolate candies have `\"Yes\"` in the `'chocolate'` column (and candies without chocolate have `\"No\"` in the same column).\n",
    "- `'sugarpercent'` provides some indication of the amount of sugar, where higher values signify higher sugar content.\n",
    "- `'pricepercent'` shows the price per unit, relative to the other candies in the dataset.\n",
    "- `'winpercent'` is calculated from the survey results; higher values indicate that the candy was more popular with survey respondents.\n",
    "\n",
    "Use the first five rows of the data to answer the questions below."
   ]
  },
  {
   "cell_type": "code",
   "execution_count": 6,
   "id": "2a01d50e",
   "metadata": {
    "execution": {
     "iopub.execute_input": "2023-06-30T15:23:25.307454Z",
     "iopub.status.busy": "2023-06-30T15:23:25.307037Z",
     "iopub.status.idle": "2023-06-30T15:23:25.317044Z",
     "shell.execute_reply": "2023-06-30T15:23:25.315933Z"
    },
    "papermill": {
     "duration": 0.026629,
     "end_time": "2023-06-30T15:23:25.319260",
     "exception": false,
     "start_time": "2023-06-30T15:23:25.292631",
     "status": "completed"
    },
    "tags": []
   },
   "outputs": [
    {
     "data": {
      "application/javascript": [
       "parent.postMessage({\"jupyterEvent\": \"custom.exercise_interaction\", \"data\": {\"outcomeType\": 1, \"valueTowardsCompletion\": 0.3333333333333333, \"interactionType\": 1, \"questionType\": 1, \"questionId\": \"2_ReviewData\", \"learnToolsVersion\": \"0.3.4\", \"failureMessage\": \"\", \"exceptionClass\": \"\", \"trace\": \"\"}}, \"*\")"
      ],
      "text/plain": [
       "<IPython.core.display.Javascript object>"
      ]
     },
     "metadata": {},
     "output_type": "display_data"
    },
    {
     "data": {
      "text/markdown": [
       "<span style=\"color:#33cc33\">Correct</span>"
      ],
      "text/plain": [
       "Correct"
      ]
     },
     "metadata": {},
     "output_type": "display_data"
    }
   ],
   "source": [
    "# Fill in the line below: Which candy was more popular with survey respondents:\n",
    "# '3 Musketeers' or 'Almond Joy'?  (Please enclose your answer in single quotes.)\n",
    "more_popular = '3 Musketeers'\n",
    "\n",
    "# Fill in the line below: Which candy has higher sugar content: 'Air Heads'\n",
    "# or 'Baby Ruth'? (Please enclose your answer in single quotes.)\n",
    "more_sugar = 'Air Heads'\n",
    "\n",
    "\n",
    "# Check your answers\n",
    "step_2.check()"
   ]
  },
  {
   "cell_type": "code",
   "execution_count": 7,
   "id": "5ca8ce96",
   "metadata": {
    "execution": {
     "iopub.execute_input": "2023-06-30T15:23:25.345817Z",
     "iopub.status.busy": "2023-06-30T15:23:25.345230Z",
     "iopub.status.idle": "2023-06-30T15:23:25.350023Z",
     "shell.execute_reply": "2023-06-30T15:23:25.348899Z"
    },
    "papermill": {
     "duration": 0.021047,
     "end_time": "2023-06-30T15:23:25.352564",
     "exception": false,
     "start_time": "2023-06-30T15:23:25.331517",
     "status": "completed"
    },
    "tags": []
   },
   "outputs": [],
   "source": [
    "# Lines below will give you a hint or solution code\n",
    "#step_2.hint()\n",
    "#step_2.solution()"
   ]
  },
  {
   "cell_type": "markdown",
   "id": "338b1ae8",
   "metadata": {
    "papermill": {
     "duration": 0.011595,
     "end_time": "2023-06-30T15:23:25.376351",
     "exception": false,
     "start_time": "2023-06-30T15:23:25.364756",
     "status": "completed"
    },
    "tags": []
   },
   "source": [
    "## Step 3: The role of sugar\n",
    "\n",
    "Do people tend to prefer candies with higher sugar content?  \n",
    "\n",
    "#### Part A\n",
    "\n",
    "Create a scatter plot that shows the relationship between `'sugarpercent'` (on the horizontal x-axis) and `'winpercent'` (on the vertical y-axis).  _Don't add a regression line just yet -- you'll do that in the next step!_"
   ]
  },
  {
   "cell_type": "code",
   "execution_count": 8,
   "id": "84d32fac",
   "metadata": {
    "execution": {
     "iopub.execute_input": "2023-06-30T15:23:25.401991Z",
     "iopub.status.busy": "2023-06-30T15:23:25.401604Z",
     "iopub.status.idle": "2023-06-30T15:23:25.752677Z",
     "shell.execute_reply": "2023-06-30T15:23:25.751805Z"
    },
    "papermill": {
     "duration": 0.366529,
     "end_time": "2023-06-30T15:23:25.754926",
     "exception": false,
     "start_time": "2023-06-30T15:23:25.388397",
     "status": "completed"
    },
    "tags": []
   },
   "outputs": [
    {
     "data": {
      "application/javascript": [
       "parent.postMessage({\"jupyterEvent\": \"custom.exercise_interaction\", \"data\": {\"outcomeType\": 1, \"valueTowardsCompletion\": 0.3333333333333333, \"interactionType\": 1, \"questionType\": 2, \"questionId\": \"3.1_PlotBlueScatter\", \"learnToolsVersion\": \"0.3.4\", \"failureMessage\": \"\", \"exceptionClass\": \"\", \"trace\": \"\"}}, \"*\")"
      ],
      "text/plain": [
       "<IPython.core.display.Javascript object>"
      ]
     },
     "metadata": {},
     "output_type": "display_data"
    },
    {
     "data": {
      "text/markdown": [
       "<span style=\"color:#33cc33\">Correct</span>"
      ],
      "text/plain": [
       "Correct"
      ]
     },
     "metadata": {},
     "output_type": "display_data"
    },
    {
     "data": {
      "image/png": "[encoded data removed]",
      "text/plain": [
       "<Figure size 640x480 with 1 Axes>"
      ]
     },
     "metadata": {},
     "output_type": "display_data"
    }
   ],
   "source": [
    "# Scatter plot showing the relationship between 'sugarpercent' and 'winpercent'\n",
    "# Your code here\n",
    "sns.scatterplot(x=candy_data['sugarpercent'], y=candy_data['winpercent'])\n",
    "\n",
    "# Check your answer\n",
    "step_3.a.check()"
   ]
  },
  {
   "cell_type": "code",
   "execution_count": 9,
   "id": "e5516f83",
   "metadata": {
    "execution": {
     "iopub.execute_input": "2023-06-30T15:23:25.783146Z",
     "iopub.status.busy": "2023-06-30T15:23:25.782150Z",
     "iopub.status.idle": "2023-06-30T15:23:25.786771Z",
     "shell.execute_reply": "2023-06-30T15:23:25.785732Z"
    },
    "papermill": {
     "duration": 0.020964,
     "end_time": "2023-06-30T15:23:25.789133",
     "exception": false,
     "start_time": "2023-06-30T15:23:25.768169",
     "status": "completed"
    },
    "tags": []
   },
   "outputs": [],
   "source": [
    "# Lines below will give you a hint or solution code\n",
    "#step_3.a.hint()\n",
    "#step_3.a.solution_plot()"
   ]
  },
  {
   "cell_type": "markdown",
   "id": "85da248f",
   "metadata": {
    "papermill": {
     "duration": 0.012223,
     "end_time": "2023-06-30T15:23:25.814160",
     "exception": false,
     "start_time": "2023-06-30T15:23:25.801937",
     "status": "completed"
    },
    "tags": []
   },
   "source": [
    "#### Part B\n",
    "\n",
    "Does the scatter plot show a **strong** correlation between the two variables?  If so, are candies with more sugar relatively more or less popular with the survey respondents?"
   ]
  },
  {
   "cell_type": "code",
   "execution_count": 10,
   "id": "25dbbb1e",
   "metadata": {
    "execution": {
     "iopub.execute_input": "2023-06-30T15:23:25.841562Z",
     "iopub.status.busy": "2023-06-30T15:23:25.840943Z",
     "iopub.status.idle": "2023-06-30T15:23:25.845760Z",
     "shell.execute_reply": "2023-06-30T15:23:25.844654Z"
    },
    "papermill": {
     "duration": 0.021296,
     "end_time": "2023-06-30T15:23:25.848179",
     "exception": false,
     "start_time": "2023-06-30T15:23:25.826883",
     "status": "completed"
    },
    "tags": []
   },
   "outputs": [],
   "source": [
    "#step_3.b.hint()"
   ]
  },
  {
   "cell_type": "code",
   "execution_count": 11,
   "id": "042b12f0",
   "metadata": {
    "execution": {
     "iopub.execute_input": "2023-06-30T15:23:25.876035Z",
     "iopub.status.busy": "2023-06-30T15:23:25.875651Z",
     "iopub.status.idle": "2023-06-30T15:23:25.883383Z",
     "shell.execute_reply": "2023-06-30T15:23:25.881987Z"
    },
    "papermill": {
     "duration": 0.02466,
     "end_time": "2023-06-30T15:23:25.885706",
     "exception": false,
     "start_time": "2023-06-30T15:23:25.861046",
     "status": "completed"
    },
    "tags": []
   },
   "outputs": [
    {
     "data": {
      "application/javascript": [
       "parent.postMessage({\"jupyterEvent\": \"custom.exercise_interaction\", \"data\": {\"interactionType\": 3, \"questionType\": 4, \"questionId\": \"3.2_ThinkBlueScatter\", \"learnToolsVersion\": \"0.3.4\", \"valueTowardsCompletion\": 0.0, \"failureMessage\": \"\", \"exceptionClass\": \"\", \"trace\": \"\", \"outcomeType\": 4}}, \"*\")"
      ],
      "text/plain": [
       "<IPython.core.display.Javascript object>"
      ]
     },
     "metadata": {},
     "output_type": "display_data"
    },
    {
     "data": {
      "text/markdown": [
       "<span style=\"color:#33cc99\">Solution:</span> The scatter plot does not show a strong correlation between the two variables. Since there is no clear relationship between the two variables, this tells us that sugar content does not play a strong role in candy popularity."
      ],
      "text/plain": [
       "Solution: The scatter plot does not show a strong correlation between the two variables. Since there is no clear relationship between the two variables, this tells us that sugar content does not play a strong role in candy popularity."
      ]
     },
     "metadata": {},
     "output_type": "display_data"
    }
   ],
   "source": [
    "# Check your answer (Run this code cell to receive credit!)\n",
    "step_3.b.solution()"
   ]
  },
  {
   "cell_type": "markdown",
   "id": "ce0c0c2a",
   "metadata": {
    "papermill": {
     "duration": 0.012886,
     "end_time": "2023-06-30T15:23:25.911751",
     "exception": false,
     "start_time": "2023-06-30T15:23:25.898865",
     "status": "completed"
    },
    "tags": []
   },
   "source": [
    "## Step 4: Take a closer look\n",
    "\n",
    "#### Part A\n",
    "\n",
    "Create the same scatter plot you created in **Step 3**, but now with a regression line!"
   ]
  },
  {
   "cell_type": "code",
   "execution_count": 12,
   "id": "2310782b",
   "metadata": {
    "execution": {
     "iopub.execute_input": "2023-06-30T15:23:25.940554Z",
     "iopub.status.busy": "2023-06-30T15:23:25.939460Z",
     "iopub.status.idle": "2023-06-30T15:23:26.368191Z",
     "shell.execute_reply": "2023-06-30T15:23:26.367046Z"
    },
    "papermill": {
     "duration": 0.445863,
     "end_time": "2023-06-30T15:23:26.370834",
     "exception": false,
     "start_time": "2023-06-30T15:23:25.924971",
     "status": "completed"
    },
    "tags": []
   },
   "outputs": [
    {
     "data": {
      "application/javascript": [
       "parent.postMessage({\"jupyterEvent\": \"custom.exercise_interaction\", \"data\": {\"outcomeType\": 1, \"valueTowardsCompletion\": 0.3333333333333333, \"interactionType\": 1, \"questionType\": 2, \"questionId\": \"4.1_PlotBlueReg\", \"learnToolsVersion\": \"0.3.4\", \"failureMessage\": \"\", \"exceptionClass\": \"\", \"trace\": \"\"}}, \"*\")"
      ],
      "text/plain": [
       "<IPython.core.display.Javascript object>"
      ]
     },
     "metadata": {},
     "output_type": "display_data"
    },
    {
     "data": {
      "text/markdown": [
       "<span style=\"color:#33cc33\">Correct</span>"
      ],
      "text/plain": [
       "Correct"
      ]
     },
     "metadata": {},
     "output_type": "display_data"
    },
    {
     "data": {
      "image/png": "[encoded data removed]",
      "text/plain": [
       "<Figure size 640x480 with 1 Axes>"
      ]
     },
     "metadata": {},
     "output_type": "display_data"
    }
   ],
   "source": [
    "# Scatter plot w/ regression line showing the relationship between 'sugarpercent' and 'winpercent'\n",
    "# Your code here\n",
    "sns.regplot(x=candy_data['sugarpercent'], y=candy_data['winpercent'])\n",
    "\n",
    "# Check your answer\n",
    "step_4.a.check()"
   ]
  },
  {
   "cell_type": "code",
   "execution_count": 13,
   "id": "14ea2282",
   "metadata": {
    "execution": {
     "iopub.execute_input": "2023-06-30T15:23:26.401282Z",
     "iopub.status.busy": "2023-06-30T15:23:26.400300Z",
     "iopub.status.idle": "2023-06-30T15:23:26.406450Z",
     "shell.execute_reply": "2023-06-30T15:23:26.405190Z"
    },
    "papermill": {
     "duration": 0.024337,
     "end_time": "2023-06-30T15:23:26.409118",
     "exception": false,
     "start_time": "2023-06-30T15:23:26.384781",
     "status": "completed"
    },
    "tags": []
   },
   "outputs": [],
   "source": [
    "# Lines below will give you a hint or solution code\n",
    "#step_4.a.hint()\n",
    "#step_4.a.solution_plot()"
   ]
  },
  {
   "cell_type": "markdown",
   "id": "985e8e5a",
   "metadata": {
    "papermill": {
     "duration": 0.013588,
     "end_time": "2023-06-30T15:23:26.437367",
     "exception": false,
     "start_time": "2023-06-30T15:23:26.423779",
     "status": "completed"
    },
    "tags": []
   },
   "source": [
    "#### Part B\n",
    "\n",
    "According to the plot above, is there a **slight** correlation between `'winpercent'` and `'sugarpercent'`?  What does this tell you about the candy that people tend to prefer?"
   ]
  },
  {
   "cell_type": "code",
   "execution_count": 14,
   "id": "29d9c1ef",
   "metadata": {
    "execution": {
     "iopub.execute_input": "2023-06-30T15:23:26.467830Z",
     "iopub.status.busy": "2023-06-30T15:23:26.466768Z",
     "iopub.status.idle": "2023-06-30T15:23:26.471224Z",
     "shell.execute_reply": "2023-06-30T15:23:26.470270Z"
    },
    "papermill": {
     "duration": 0.021953,
     "end_time": "2023-06-30T15:23:26.473379",
     "exception": false,
     "start_time": "2023-06-30T15:23:26.451426",
     "status": "completed"
    },
    "tags": []
   },
   "outputs": [],
   "source": [
    "#step_4.b.hint()"
   ]
  },
  {
   "cell_type": "code",
   "execution_count": 15,
   "id": "1dd5c77c",
   "metadata": {
    "execution": {
     "iopub.execute_input": "2023-06-30T15:23:26.504596Z",
     "iopub.status.busy": "2023-06-30T15:23:26.503604Z",
     "iopub.status.idle": "2023-06-30T15:23:26.512161Z",
     "shell.execute_reply": "2023-06-30T15:23:26.511392Z"
    },
    "papermill": {
     "duration": 0.026259,
     "end_time": "2023-06-30T15:23:26.514095",
     "exception": false,
     "start_time": "2023-06-30T15:23:26.487836",
     "status": "completed"
    },
    "tags": []
   },
   "outputs": [
    {
     "data": {
      "application/javascript": [
       "parent.postMessage({\"jupyterEvent\": \"custom.exercise_interaction\", \"data\": {\"interactionType\": 3, \"questionType\": 4, \"questionId\": \"4.2_ThinkBlueReg\", \"learnToolsVersion\": \"0.3.4\", \"valueTowardsCompletion\": 0.0, \"failureMessage\": \"\", \"exceptionClass\": \"\", \"trace\": \"\", \"outcomeType\": 4}}, \"*\")"
      ],
      "text/plain": [
       "<IPython.core.display.Javascript object>"
      ]
     },
     "metadata": {},
     "output_type": "display_data"
    },
    {
     "data": {
      "text/markdown": [
       "<span style=\"color:#33cc99\">Solution:</span> Since the regression line has a slightly positive slope, this tells us that there is a slightly positive correlation between `'winpercent'` and `'sugarpercent'`. Thus, people have a slight preference for candies containing relatively more sugar."
      ],
      "text/plain": [
       "Solution: Since the regression line has a slightly positive slope, this tells us that there is a slightly positive correlation between `'winpercent'` and `'sugarpercent'`. Thus, people have a slight preference for candies containing relatively more sugar."
      ]
     },
     "metadata": {},
     "output_type": "display_data"
    }
   ],
   "source": [
    "# Check your answer (Run this code cell to receive credit!)\n",
    "step_4.b.solution()"
   ]
  },
  {
   "cell_type": "markdown",
   "id": "6f161f9d",
   "metadata": {
    "papermill": {
     "duration": 0.014329,
     "end_time": "2023-06-30T15:23:26.543210",
     "exception": false,
     "start_time": "2023-06-30T15:23:26.528881",
     "status": "completed"
    },
    "tags": []
   },
   "source": [
    "## Step 5: Chocolate!\n",
    "\n",
    "In the code cell below, create a scatter plot to show the relationship between `'pricepercent'` (on the horizontal x-axis) and `'winpercent'` (on the vertical y-axis). Use the `'chocolate'` column to color-code the points.  _Don't add any regression lines just yet -- you'll do that in the next step!_"
   ]
  },
  {
   "cell_type": "code",
   "execution_count": 16,
   "id": "a45c9005",
   "metadata": {
    "execution": {
     "iopub.execute_input": "2023-06-30T15:23:26.574305Z",
     "iopub.status.busy": "2023-06-30T15:23:26.573580Z",
     "iopub.status.idle": "2023-06-30T15:23:26.974394Z",
     "shell.execute_reply": "2023-06-30T15:23:26.973251Z"
    },
    "papermill": {
     "duration": 0.419363,
     "end_time": "2023-06-30T15:23:26.977105",
     "exception": false,
     "start_time": "2023-06-30T15:23:26.557742",
     "status": "completed"
    },
    "tags": []
   },
   "outputs": [
    {
     "data": {
      "application/javascript": [
       "parent.postMessage({\"jupyterEvent\": \"custom.exercise_interaction\", \"data\": {\"outcomeType\": 1, \"valueTowardsCompletion\": 0.3333333333333333, \"interactionType\": 1, \"questionType\": 2, \"questionId\": \"5_ColorScatter\", \"learnToolsVersion\": \"0.3.4\", \"failureMessage\": \"\", \"exceptionClass\": \"\", \"trace\": \"\"}}, \"*\")"
      ],
      "text/plain": [
       "<IPython.core.display.Javascript object>"
      ]
     },
     "metadata": {},
     "output_type": "display_data"
    },
    {
     "data": {
      "text/markdown": [
       "<span style=\"color:#33cc33\">Correct</span>"
      ],
      "text/plain": [
       "Correct"
      ]
     },
     "metadata": {},
     "output_type": "display_data"
    },
    {
     "data": {
      "image/png": "[encoded data removed]",
      "text/plain": [
       "<Figure size 640x480 with 1 Axes>"
      ]
     },
     "metadata": {},
     "output_type": "display_data"
    }
   ],
   "source": [
    "# Scatter plot showing the relationship between 'pricepercent', 'winpercent', and 'chocolate'\n",
    "# Your code here\n",
    "sns.scatterplot(x=candy_data['pricepercent'], y=candy_data['winpercent'], hue=candy_data['chocolate'])\n",
    "\n",
    "# Check your answer\n",
    "step_5.check()"
   ]
  },
  {
   "cell_type": "code",
   "execution_count": 17,
   "id": "39f1a56e",
   "metadata": {
    "execution": {
     "iopub.execute_input": "2023-06-30T15:23:27.010082Z",
     "iopub.status.busy": "2023-06-30T15:23:27.009656Z",
     "iopub.status.idle": "2023-06-30T15:23:27.014241Z",
     "shell.execute_reply": "2023-06-30T15:23:27.013199Z"
    },
    "papermill": {
     "duration": 0.023877,
     "end_time": "2023-06-30T15:23:27.016600",
     "exception": false,
     "start_time": "2023-06-30T15:23:26.992723",
     "status": "completed"
    },
    "tags": []
   },
   "outputs": [],
   "source": [
    "# Lines below will give you a hint or solution code\n",
    "#step_5.hint()\n",
    "#step_5.solution_plot()"
   ]
  },
  {
   "cell_type": "markdown",
   "id": "af188ce0",
   "metadata": {
    "papermill": {
     "duration": 0.015265,
     "end_time": "2023-06-30T15:23:27.047728",
     "exception": false,
     "start_time": "2023-06-30T15:23:27.032463",
     "status": "completed"
    },
    "tags": []
   },
   "source": [
    "Can you see any interesting patterns in the scatter plot?  We'll investigate this plot further  by adding regression lines in the next step!\n",
    "\n",
    "## Step 6: Investigate chocolate\n",
    "\n",
    "#### Part A\n",
    "\n",
    "Create the same scatter plot you created in **Step 5**, but now with two regression lines, corresponding to (1) chocolate candies and (2) candies without chocolate."
   ]
  },
  {
   "cell_type": "code",
   "execution_count": 18,
   "id": "aea3c6f6",
   "metadata": {
    "execution": {
     "iopub.execute_input": "2023-06-30T15:23:27.080902Z",
     "iopub.status.busy": "2023-06-30T15:23:27.080497Z",
     "iopub.status.idle": "2023-06-30T15:23:27.965199Z",
     "shell.execute_reply": "2023-06-30T15:23:27.963908Z"
    },
    "papermill": {
     "duration": 0.904496,
     "end_time": "2023-06-30T15:23:27.967675",
     "exception": false,
     "start_time": "2023-06-30T15:23:27.063179",
     "status": "completed"
    },
    "tags": []
   },
   "outputs": [
    {
     "data": {
      "application/javascript": [
       "parent.postMessage({\"jupyterEvent\": \"custom.exercise_interaction\", \"data\": {\"outcomeType\": 1, \"valueTowardsCompletion\": 0.3333333333333333, \"interactionType\": 1, \"questionType\": 2, \"questionId\": \"6.1_PlotColorReg\", \"learnToolsVersion\": \"0.3.4\", \"failureMessage\": \"\", \"exceptionClass\": \"\", \"trace\": \"\"}}, \"*\")"
      ],
      "text/plain": [
       "<IPython.core.display.Javascript object>"
      ]
     },
     "metadata": {},
     "output_type": "display_data"
    },
    {
     "data": {
      "text/markdown": [
       "<span style=\"color:#33cc33\">Correct</span>"
      ],
      "text/plain": [
       "Correct"
      ]
     },
     "metadata": {},
     "output_type": "display_data"
    },
    {
     "data": {
      "image/png": "[encoded data removed]",
      "text/plain": [
       "<Figure size 578.611x500 with 1 Axes>"
      ]
     },
     "metadata": {},
     "output_type": "display_data"
    }
   ],
   "source": [
    "# Color-coded scatter plot w/ regression lines\n",
    "# Your code here\n",
    "sns.lmplot(x=\"pricepercent\", y=\"winpercent\", hue=\"chocolate\", data=candy_data)\n",
    "# Check your answer\n",
    "step_6.a.check()"
   ]
  },
  {
   "cell_type": "code",
   "execution_count": 19,
   "id": "34e6ba8d",
   "metadata": {
    "execution": {
     "iopub.execute_input": "2023-06-30T15:23:28.004124Z",
     "iopub.status.busy": "2023-06-30T15:23:28.003718Z",
     "iopub.status.idle": "2023-06-30T15:23:28.008736Z",
     "shell.execute_reply": "2023-06-30T15:23:28.007563Z"
    },
    "papermill": {
     "duration": 0.02659,
     "end_time": "2023-06-30T15:23:28.011131",
     "exception": false,
     "start_time": "2023-06-30T15:23:27.984541",
     "status": "completed"
    },
    "tags": []
   },
   "outputs": [],
   "source": [
    "# Lines below will give you a hint or solution code\n",
    "#step_6.a.hint()\n",
    "#step_6.a.solution_plot()"
   ]
  },
  {
   "cell_type": "markdown",
   "id": "47854895",
   "metadata": {
    "papermill": {
     "duration": 0.016841,
     "end_time": "2023-06-30T15:23:28.044705",
     "exception": false,
     "start_time": "2023-06-30T15:23:28.027864",
     "status": "completed"
    },
    "tags": []
   },
   "source": [
    "#### Part B\n",
    "\n",
    "Using the regression lines, what conclusions can you draw about the effects of chocolate and price on candy popularity?"
   ]
  },
  {
   "cell_type": "code",
   "execution_count": 20,
   "id": "5cf74e2a",
   "metadata": {
    "execution": {
     "iopub.execute_input": "2023-06-30T15:23:28.080842Z",
     "iopub.status.busy": "2023-06-30T15:23:28.080077Z",
     "iopub.status.idle": "2023-06-30T15:23:28.085085Z",
     "shell.execute_reply": "2023-06-30T15:23:28.084001Z"
    },
    "papermill": {
     "duration": 0.025726,
     "end_time": "2023-06-30T15:23:28.087384",
     "exception": false,
     "start_time": "2023-06-30T15:23:28.061658",
     "status": "completed"
    },
    "tags": []
   },
   "outputs": [],
   "source": [
    "#step_6.b.hint()"
   ]
  },
  {
   "cell_type": "code",
   "execution_count": 21,
   "id": "8c908f11",
   "metadata": {
    "execution": {
     "iopub.execute_input": "2023-06-30T15:23:28.122399Z",
     "iopub.status.busy": "2023-06-30T15:23:28.121987Z",
     "iopub.status.idle": "2023-06-30T15:23:28.131129Z",
     "shell.execute_reply": "2023-06-30T15:23:28.130079Z"
    },
    "papermill": {
     "duration": 0.029381,
     "end_time": "2023-06-30T15:23:28.133375",
     "exception": false,
     "start_time": "2023-06-30T15:23:28.103994",
     "status": "completed"
    },
    "tags": []
   },
   "outputs": [
    {
     "data": {
      "application/javascript": [
       "parent.postMessage({\"jupyterEvent\": \"custom.exercise_interaction\", \"data\": {\"interactionType\": 3, \"questionType\": 4, \"questionId\": \"6.2_ThinkColorReg\", \"learnToolsVersion\": \"0.3.4\", \"valueTowardsCompletion\": 0.0, \"failureMessage\": \"\", \"exceptionClass\": \"\", \"trace\": \"\", \"outcomeType\": 4}}, \"*\")"
      ],
      "text/plain": [
       "<IPython.core.display.Javascript object>"
      ]
     },
     "metadata": {},
     "output_type": "display_data"
    },
    {
     "data": {
      "text/markdown": [
       "<span style=\"color:#33cc99\">Solution:</span> We'll begin with the regression line for chocolate candies. Since this line has a slightly positive slope, we can say that more expensive chocolate candies tend to be more popular (than relatively cheaper chocolate candies).  Likewise, since the regression line for candies without chocolate has a negative slope, we can say that if candies don't contain chocolate, they tend to be more popular when they are cheaper.  One important note, however, is that the dataset is quite small -- so we shouldn't invest too much trust in these patterns!  To inspire more confidence in the results, we should add more candies to the dataset."
      ],
      "text/plain": [
       "Solution: We'll begin with the regression line for chocolate candies. Since this line has a slightly positive slope, we can say that more expensive chocolate candies tend to be more popular (than relatively cheaper chocolate candies).  Likewise, since the regression line for candies without chocolate has a negative slope, we can say that if candies don't contain chocolate, they tend to be more popular when they are cheaper.  One important note, however, is that the dataset is quite small -- so we shouldn't invest too much trust in these patterns!  To inspire more confidence in the results, we should add more candies to the dataset."
      ]
     },
     "metadata": {},
     "output_type": "display_data"
    }
   ],
   "source": [
    "# Check your answer (Run this code cell to receive credit!)\n",
    "step_6.b.solution()"
   ]
  },
  {
   "cell_type": "markdown",
   "id": "762af490",
   "metadata": {
    "papermill": {
     "duration": 0.01681,
     "end_time": "2023-06-30T15:23:28.167133",
     "exception": false,
     "start_time": "2023-06-30T15:23:28.150323",
     "status": "completed"
    },
    "tags": []
   },
   "source": [
    "## Step 7: Everybody loves chocolate.\n",
    "\n",
    "#### Part A\n",
    "\n",
    "Create a categorical scatter plot to highlight the relationship between `'chocolate'` and `'winpercent'`.  Put `'chocolate'` on the (horizontal) x-axis, and `'winpercent'` on the (vertical) y-axis."
   ]
  },
  {
   "cell_type": "code",
   "execution_count": 22,
   "id": "1efac1c0",
   "metadata": {
    "execution": {
     "iopub.execute_input": "2023-06-30T15:23:28.202721Z",
     "iopub.status.busy": "2023-06-30T15:23:28.202280Z",
     "iopub.status.idle": "2023-06-30T15:23:28.744207Z",
     "shell.execute_reply": "2023-06-30T15:23:28.742737Z"
    },
    "papermill": {
     "duration": 0.564213,
     "end_time": "2023-06-30T15:23:28.748161",
     "exception": false,
     "start_time": "2023-06-30T15:23:28.183948",
     "status": "completed"
    },
    "tags": []
   },
   "outputs": [
    {
     "data": {
      "application/javascript": [
       "parent.postMessage({\"jupyterEvent\": \"custom.exercise_interaction\", \"data\": {\"outcomeType\": 1, \"valueTowardsCompletion\": 0.3333333333333333, \"interactionType\": 1, \"questionType\": 2, \"questionId\": \"7.1_PlotSwarm\", \"learnToolsVersion\": \"0.3.4\", \"failureMessage\": \"\", \"exceptionClass\": \"\", \"trace\": \"\"}}, \"*\")"
      ],
      "text/plain": [
       "<IPython.core.display.Javascript object>"
      ]
     },
     "metadata": {},
     "output_type": "display_data"
    },
    {
     "data": {
      "text/markdown": [
       "<span style=\"color:#33cc33\">Correct</span>"
      ],
      "text/plain": [
       "Correct"
      ]
     },
     "metadata": {},
     "output_type": "display_data"
    },
    {
     "data": {
      "image/png": "[encoded data removed]",
      "text/plain": [
       "<Figure size 640x480 with 1 Axes>"
      ]
     },
     "metadata": {},
     "output_type": "display_data"
    }
   ],
   "source": [
    "# Scatter plot showing the relationship between 'chocolate' and 'winpercent'\n",
    "# Your code here\n",
    "sns.swarmplot(x=candy_data['chocolate'], y=candy_data['winpercent'])\n",
    "\n",
    "# Check your answer\n",
    "step_7.a.check()"
   ]
  },
  {
   "cell_type": "code",
   "execution_count": 23,
   "id": "e7f8836f",
   "metadata": {
    "execution": {
     "iopub.execute_input": "2023-06-30T15:23:28.798568Z",
     "iopub.status.busy": "2023-06-30T15:23:28.797420Z",
     "iopub.status.idle": "2023-06-30T15:23:28.801808Z",
     "shell.execute_reply": "2023-06-30T15:23:28.801019Z"
    },
    "papermill": {
     "duration": 0.026657,
     "end_time": "2023-06-30T15:23:28.803978",
     "exception": false,
     "start_time": "2023-06-30T15:23:28.777321",
     "status": "completed"
    },
    "tags": []
   },
   "outputs": [],
   "source": [
    "# Lines below will give you a hint or solution code\n",
    "#step_7.a.hint()\n",
    "#step_7.a.solution_plot()"
   ]
  },
  {
   "cell_type": "markdown",
   "id": "cc5155ed",
   "metadata": {
    "papermill": {
     "duration": 0.017614,
     "end_time": "2023-06-30T15:23:28.839447",
     "exception": false,
     "start_time": "2023-06-30T15:23:28.821833",
     "status": "completed"
    },
    "tags": []
   },
   "source": [
    "#### Part B\n",
    "\n",
    "You decide to dedicate a section of your report to the fact that chocolate candies tend to be more popular than candies without chocolate.  Which plot is more appropriate to tell this story: the plot from **Step 6**, or the plot from **Step 7**?"
   ]
  },
  {
   "cell_type": "code",
   "execution_count": 24,
   "id": "633b4f93",
   "metadata": {
    "execution": {
     "iopub.execute_input": "2023-06-30T15:23:28.877362Z",
     "iopub.status.busy": "2023-06-30T15:23:28.876638Z",
     "iopub.status.idle": "2023-06-30T15:23:28.880939Z",
     "shell.execute_reply": "2023-06-30T15:23:28.880018Z"
    },
    "papermill": {
     "duration": 0.025912,
     "end_time": "2023-06-30T15:23:28.883318",
     "exception": false,
     "start_time": "2023-06-30T15:23:28.857406",
     "status": "completed"
    },
    "tags": []
   },
   "outputs": [],
   "source": [
    "#step_7.b.hint()"
   ]
  },
  {
   "cell_type": "code",
   "execution_count": 25,
   "id": "d7da3c43",
   "metadata": {
    "execution": {
     "iopub.execute_input": "2023-06-30T15:23:28.921201Z",
     "iopub.status.busy": "2023-06-30T15:23:28.920824Z",
     "iopub.status.idle": "2023-06-30T15:23:28.929532Z",
     "shell.execute_reply": "2023-06-30T15:23:28.928494Z"
    },
    "papermill": {
     "duration": 0.030445,
     "end_time": "2023-06-30T15:23:28.931663",
     "exception": false,
     "start_time": "2023-06-30T15:23:28.901218",
     "status": "completed"
    },
    "tags": []
   },
   "outputs": [
    {
     "data": {
      "application/javascript": [
       "parent.postMessage({\"jupyterEvent\": \"custom.exercise_interaction\", \"data\": {\"interactionType\": 3, \"questionType\": 4, \"questionId\": \"7.2_ThinkSwarm\", \"learnToolsVersion\": \"0.3.4\", \"valueTowardsCompletion\": 0.0, \"failureMessage\": \"\", \"exceptionClass\": \"\", \"trace\": \"\", \"outcomeType\": 4}}, \"*\")"
      ],
      "text/plain": [
       "<IPython.core.display.Javascript object>"
      ]
     },
     "metadata": {},
     "output_type": "display_data"
    },
    {
     "data": {
      "text/markdown": [
       "<span style=\"color:#33cc99\">Solution:</span> In this case, the categorical scatter plot from **Step 7** is the more appropriate plot. While both plots tell the desired story, the plot from **Step 6** conveys far more information that could distract from the main point."
      ],
      "text/plain": [
       "Solution: In this case, the categorical scatter plot from **Step 7** is the more appropriate plot. While both plots tell the desired story, the plot from **Step 6** conveys far more information that could distract from the main point."
      ]
     },
     "metadata": {},
     "output_type": "display_data"
    }
   ],
   "source": [
    "# Check your answer (Run this code cell to receive credit!)\n",
    "step_7.b.solution()"
   ]
  },
  {
   "cell_type": "markdown",
   "id": "188e611f",
   "metadata": {
    "papermill": {
     "duration": 0.017802,
     "end_time": "2023-06-30T15:23:28.967721",
     "exception": false,
     "start_time": "2023-06-30T15:23:28.949919",
     "status": "completed"
    },
    "tags": []
   },
   "source": [
    "## Keep going\n",
    "\n",
    "Explore **[histograms and density plots](https://www.kaggle.com/alexisbcook/distributions)**."
   ]
  },
  {
   "cell_type": "markdown",
   "id": "3c098f80",
   "metadata": {
    "papermill": {
     "duration": 0.017836,
     "end_time": "2023-06-30T15:23:29.003793",
     "exception": false,
     "start_time": "2023-06-30T15:23:28.985957",
     "status": "completed"
    },
    "tags": []
   },
   "source": [
    "---\n",
    "\n",
    "\n",
    "\n",
    "\n",
    "*Have questions or comments? Visit the [course discussion forum](https://www.kaggle.com/learn/data-visualization/discussion) to chat with other learners.*"
   ]
  }
 ],
 "metadata": {
  "kernelspec": {
   "display_name": "Python 3",
   "language": "python",
   "name": "python3"
  },
  "language_info": {
   "codemirror_mode": {
    "name": "ipython",
    "version": 3
   },
   "file_extension": ".py",
   "mimetype": "text/x-python",
   "name": "python",
   "nbconvert_exporter": "python",
   "pygments_lexer": "ipython3",
   "version": "3.10.10"
  },
  "papermill": {
   "default_parameters": {},
   "duration": 19.502287,
   "end_time": "2023-06-30T15:23:30.045307",
   "environment_variables": {},
   "exception": null,
   "input_path": "__notebook__.ipynb",
   "output_path": "__notebook__.ipynb",
   "parameters": {},
   "start_time": "2023-06-30T15:23:10.543020",
   "version": "2.4.0"
  }
 },
 "nbformat": 4,
 "nbformat_minor": 5
}
