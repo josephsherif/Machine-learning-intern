{
 "cells": [
  {
   "cell_type": "markdown",
   "id": "f32d200d",
   "metadata": {
    "papermill": {
     "duration": 0.00533,
     "end_time": "2023-06-30T16:54:05.054293",
     "exception": false,
     "start_time": "2023-06-30T16:54:05.048963",
     "status": "completed"
    },
    "tags": []
   },
   "source": [
    "**This notebook is an exercise in the [Introduction to Machine Learning](https://www.kaggle.com/learn/intro-to-machine-learning) course.  You can reference the tutorial at [this link](https://www.kaggle.com/dansbecker/underfitting-and-overfitting).**\n",
    "\n",
    "---\n"
   ]
  },
  {
   "cell_type": "markdown",
   "id": "f4ee1e3a",
   "metadata": {
    "papermill": {
     "duration": 0.004013,
     "end_time": "2023-06-30T16:54:05.062858",
     "exception": false,
     "start_time": "2023-06-30T16:54:05.058845",
     "status": "completed"
    },
    "tags": []
   },
   "source": [
    "## Recap\n",
    "You've built your first model, and now it's time to optimize the size of the tree to make better predictions. Run this cell to set up your coding environment where the previous step left off."
   ]
  },
  {
   "cell_type": "code",
   "execution_count": 1,
   "id": "7463e678",
   "metadata": {
    "execution": {
     "iopub.execute_input": "2023-06-30T16:54:05.074187Z",
     "iopub.status.busy": "2023-06-30T16:54:05.073575Z",
     "iopub.status.idle": "2023-06-30T16:54:07.005395Z",
     "shell.execute_reply": "2023-06-30T16:54:07.004112Z"
    },
    "papermill": {
     "duration": 1.941333,
     "end_time": "2023-06-30T16:54:07.008365",
     "exception": false,
     "start_time": "2023-06-30T16:54:05.067032",
     "status": "completed"
    },
    "tags": []
   },
   "outputs": [
    {
     "name": "stdout",
     "output_type": "stream",
     "text": [
      "Validation MAE: 29,653\n",
      "\n",
      "Setup complete\n"
     ]
    }
   ],
   "source": [
    "# Code you have previously used to load data\n",
    "import pandas as pd\n",
    "from sklearn.metrics import mean_absolute_error\n",
    "from sklearn.model_selection import train_test_split\n",
    "from sklearn.tree import DecisionTreeRegressor\n",
    "\n",
    "\n",
    "# Path of the file to read\n",
    "iowa_file_path = '../input/home-data-for-ml-course/train.csv'\n",
    "\n",
    "home_data = pd.read_csv(iowa_file_path)\n",
    "# Create target object and call it y\n",
    "y = home_data.SalePrice\n",
    "# Create X\n",
    "features = ['LotArea', 'YearBuilt', '1stFlrSF', '2ndFlrSF', 'FullBath', 'BedroomAbvGr', 'TotRmsAbvGrd']\n",
    "X = home_data[features]\n",
    "\n",
    "# Split into validation and training data\n",
    "train_X, val_X, train_y, val_y = train_test_split(X, y, random_state=1)\n",
    "\n",
    "# Specify Model\n",
    "iowa_model = DecisionTreeRegressor(random_state=1)\n",
    "# Fit Model\n",
    "iowa_model.fit(train_X, train_y)\n",
    "\n",
    "# Make validation predictions and calculate mean absolute error\n",
    "val_predictions = iowa_model.predict(val_X)\n",
    "val_mae = mean_absolute_error(val_predictions, val_y)\n",
    "print(\"Validation MAE: {:,.0f}\".format(val_mae))\n",
    "\n",
    "# Set up code checking\n",
    "from learntools.core import binder\n",
    "binder.bind(globals())\n",
    "from learntools.machine_learning.ex5 import *\n",
    "print(\"\\nSetup complete\")"
   ]
  },
  {
   "cell_type": "markdown",
   "id": "425e9273",
   "metadata": {
    "papermill": {
     "duration": 0.004135,
     "end_time": "2023-06-30T16:54:07.017205",
     "exception": false,
     "start_time": "2023-06-30T16:54:07.013070",
     "status": "completed"
    },
    "tags": []
   },
   "source": [
    "# Exercises\n",
    "You could write the function `get_mae` yourself. For now, we'll supply it. This is the same function you read about in the previous lesson. Just run the cell below."
   ]
  },
  {
   "cell_type": "code",
   "execution_count": 2,
   "id": "6f12c3eb",
   "metadata": {
    "execution": {
     "iopub.execute_input": "2023-06-30T16:54:07.028134Z",
     "iopub.status.busy": "2023-06-30T16:54:07.027706Z",
     "iopub.status.idle": "2023-06-30T16:54:07.033774Z",
     "shell.execute_reply": "2023-06-30T16:54:07.032675Z"
    },
    "papermill": {
     "duration": 0.01459,
     "end_time": "2023-06-30T16:54:07.036190",
     "exception": false,
     "start_time": "2023-06-30T16:54:07.021600",
     "status": "completed"
    },
    "tags": []
   },
   "outputs": [],
   "source": [
    "def get_mae(max_leaf_nodes, train_X, val_X, train_y, val_y):\n",
    "    model = DecisionTreeRegressor(max_leaf_nodes=max_leaf_nodes, random_state=0)\n",
    "    model.fit(train_X, train_y)\n",
    "    preds_val = model.predict(val_X)\n",
    "    mae = mean_absolute_error(val_y, preds_val)\n",
    "    return(mae)"
   ]
  },
  {
   "cell_type": "markdown",
   "id": "cc844bfe",
   "metadata": {
    "papermill": {
     "duration": 0.004206,
     "end_time": "2023-06-30T16:54:07.044860",
     "exception": false,
     "start_time": "2023-06-30T16:54:07.040654",
     "status": "completed"
    },
    "tags": []
   },
   "source": [
    "## Step 1: Compare Different Tree Sizes\n",
    "Write a loop that tries the following values for *max_leaf_nodes* from a set of possible values.\n",
    "\n",
    "Call the *get_mae* function on each value of max_leaf_nodes. Store the output in some way that allows you to select the value of `max_leaf_nodes` that gives the most accurate model on your data."
   ]
  },
  {
   "cell_type": "code",
   "execution_count": 3,
   "id": "9e7326d8",
   "metadata": {
    "execution": {
     "iopub.execute_input": "2023-06-30T16:54:07.055512Z",
     "iopub.status.busy": "2023-06-30T16:54:07.055068Z",
     "iopub.status.idle": "2023-06-30T16:54:07.109113Z",
     "shell.execute_reply": "2023-06-30T16:54:07.108263Z"
    },
    "papermill": {
     "duration": 0.062162,
     "end_time": "2023-06-30T16:54:07.111374",
     "exception": false,
     "start_time": "2023-06-30T16:54:07.049212",
     "status": "completed"
    },
    "tags": []
   },
   "outputs": [
    {
     "data": {
      "application/javascript": [
       "parent.postMessage({\"jupyterEvent\": \"custom.exercise_interaction\", \"data\": {\"outcomeType\": 1, \"valueTowardsCompletion\": 0.5, \"interactionType\": 1, \"questionType\": 1, \"questionId\": \"1_BestTreeSize\", \"learnToolsVersion\": \"0.3.4\", \"failureMessage\": \"\", \"exceptionClass\": \"\", \"trace\": \"\"}}, \"*\")"
      ],
      "text/plain": [
       "<IPython.core.display.Javascript object>"
      ]
     },
     "metadata": {},
     "output_type": "display_data"
    },
    {
     "data": {
      "text/markdown": [
       "<span style=\"color:#33cc33\">Correct</span>"
      ],
      "text/plain": [
       "Correct"
      ]
     },
     "metadata": {},
     "output_type": "display_data"
    }
   ],
   "source": [
    "candidate_max_leaf_nodes = [5, 25, 50, 100, 250, 500]\n",
    "# Write loop to find the ideal tree size from candidate_max_leaf_nodes\n",
    "values = {}\n",
    "for n in candidate_max_leaf_nodes:\n",
    "    mae = get_mae(n,train_X,val_X,train_y,val_y)\n",
    "    values[n] = mae\n",
    "\n",
    "# Store the best value of max_leaf_nodes (it will be either 5, 25, 50, 100, 250 or 500)\n",
    "best_tree_size = min(values,key = values.get)\n",
    "\n",
    "# Check your answer\n",
    "step_1.check()"
   ]
  },
  {
   "cell_type": "code",
   "execution_count": 4,
   "id": "8802d9cf",
   "metadata": {
    "execution": {
     "iopub.execute_input": "2023-06-30T16:54:07.123044Z",
     "iopub.status.busy": "2023-06-30T16:54:07.122386Z",
     "iopub.status.idle": "2023-06-30T16:54:07.126158Z",
     "shell.execute_reply": "2023-06-30T16:54:07.125343Z"
    },
    "papermill": {
     "duration": 0.012217,
     "end_time": "2023-06-30T16:54:07.128414",
     "exception": false,
     "start_time": "2023-06-30T16:54:07.116197",
     "status": "completed"
    },
    "tags": []
   },
   "outputs": [],
   "source": [
    "# The lines below will show you a hint or the solution.\n",
    "# step_1.hint() \n",
    "# step_1.solution()"
   ]
  },
  {
   "cell_type": "markdown",
   "id": "298c1535",
   "metadata": {
    "papermill": {
     "duration": 0.004645,
     "end_time": "2023-06-30T16:54:07.140388",
     "exception": false,
     "start_time": "2023-06-30T16:54:07.135743",
     "status": "completed"
    },
    "tags": []
   },
   "source": [
    "## Step 2: Fit Model Using All Data\n",
    "You know the best tree size. If you were going to deploy this model in practice, you would make it even more accurate by using all of the data and keeping that tree size.  That is, you don't need to hold out the validation data now that you've made all your modeling decisions."
   ]
  },
  {
   "cell_type": "code",
   "execution_count": 5,
   "id": "596732df",
   "metadata": {
    "execution": {
     "iopub.execute_input": "2023-06-30T16:54:07.152398Z",
     "iopub.status.busy": "2023-06-30T16:54:07.151662Z",
     "iopub.status.idle": "2023-06-30T16:54:07.170302Z",
     "shell.execute_reply": "2023-06-30T16:54:07.169213Z"
    },
    "papermill": {
     "duration": 0.027367,
     "end_time": "2023-06-30T16:54:07.172728",
     "exception": false,
     "start_time": "2023-06-30T16:54:07.145361",
     "status": "completed"
    },
    "tags": []
   },
   "outputs": [
    {
     "data": {
      "application/javascript": [
       "parent.postMessage({\"jupyterEvent\": \"custom.exercise_interaction\", \"data\": {\"outcomeType\": 1, \"valueTowardsCompletion\": 0.5, \"interactionType\": 1, \"questionType\": 2, \"questionId\": \"2_FitModelWithAllData\", \"learnToolsVersion\": \"0.3.4\", \"failureMessage\": \"\", \"exceptionClass\": \"\", \"trace\": \"\"}}, \"*\")"
      ],
      "text/plain": [
       "<IPython.core.display.Javascript object>"
      ]
     },
     "metadata": {},
     "output_type": "display_data"
    },
    {
     "data": {
      "text/markdown": [
       "<span style=\"color:#33cc33\">Correct</span>"
      ],
      "text/plain": [
       "Correct"
      ]
     },
     "metadata": {},
     "output_type": "display_data"
    }
   ],
   "source": [
    "# Fill in argument to make optimal size and uncomment\n",
    "final_model = DecisionTreeRegressor(max_leaf_nodes = best_tree_size, random_state = 0)\n",
    "\n",
    "# fit the final model and uncomment the next two lines\n",
    "final_model.fit(X,y)\n",
    "\n",
    "# Check your answer\n",
    "step_2.check()"
   ]
  },
  {
   "cell_type": "code",
   "execution_count": 6,
   "id": "6e275949",
   "metadata": {
    "execution": {
     "iopub.execute_input": "2023-06-30T16:54:07.185253Z",
     "iopub.status.busy": "2023-06-30T16:54:07.184820Z",
     "iopub.status.idle": "2023-06-30T16:54:07.190816Z",
     "shell.execute_reply": "2023-06-30T16:54:07.189575Z"
    },
    "papermill": {
     "duration": 0.015372,
     "end_time": "2023-06-30T16:54:07.193472",
     "exception": false,
     "start_time": "2023-06-30T16:54:07.178100",
     "status": "completed"
    },
    "tags": []
   },
   "outputs": [],
   "source": [
    "# step_2.hint()\n",
    "# step_2.solution()"
   ]
  },
  {
   "cell_type": "markdown",
   "id": "85054ea4",
   "metadata": {
    "papermill": {
     "duration": 0.005127,
     "end_time": "2023-06-30T16:54:07.204515",
     "exception": false,
     "start_time": "2023-06-30T16:54:07.199388",
     "status": "completed"
    },
    "tags": []
   },
   "source": [
    "You've tuned this model and improved your results. But we are still using Decision Tree models, which are not very sophisticated by modern machine learning standards. In the next step you will learn to use Random Forests to improve your models even more.\n",
    "\n",
    "# Keep Going\n",
    "\n",
    "You are ready for **[Random Forests](https://www.kaggle.com/dansbecker/random-forests).**\n"
   ]
  },
  {
   "cell_type": "markdown",
   "id": "1816b87b",
   "metadata": {
    "papermill": {
     "duration": 0.006004,
     "end_time": "2023-06-30T16:54:07.216273",
     "exception": false,
     "start_time": "2023-06-30T16:54:07.210269",
     "status": "completed"
    },
    "tags": []
   },
   "source": [
    "---\n",
    "\n",
    "\n",
    "\n",
    "\n",
    "*Have questions or comments? Visit the [course discussion forum](https://www.kaggle.com/learn/intro-to-machine-learning/discussion) to chat with other learners.*"
   ]
  }
 ],
 "metadata": {
  "kernelspec": {
   "display_name": "Python 3",
   "language": "python",
   "name": "python3"
  },
  "language_info": {
   "codemirror_mode": {
    "name": "ipython",
    "version": 3
   },
   "file_extension": ".py",
   "mimetype": "text/x-python",
   "name": "python",
   "nbconvert_exporter": "python",
   "pygments_lexer": "ipython3",
   "version": "3.10.10"
  },
  "papermill": {
   "default_parameters": {},
   "duration": 16.639712,
   "end_time": "2023-06-30T16:54:08.346902",
   "environment_variables": {},
   "exception": null,
   "input_path": "__notebook__.ipynb",
   "output_path": "__notebook__.ipynb",
   "parameters": {},
   "start_time": "2023-06-30T16:53:51.707190",
   "version": "2.4.0"
  }
 },
 "nbformat": 4,
 "nbformat_minor": 5
}
