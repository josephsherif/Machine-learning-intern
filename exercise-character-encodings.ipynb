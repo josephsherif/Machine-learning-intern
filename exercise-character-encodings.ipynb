{
 "cells": [
  {
   "cell_type": "markdown",
   "id": "14d2021b",
   "metadata": {
    "papermill": {
     "duration": 0.006853,
     "end_time": "2023-06-29T22:43:58.430766",
     "exception": false,
     "start_time": "2023-06-29T22:43:58.423913",
     "status": "completed"
    },
    "tags": []
   },
   "source": [
    "**This notebook is an exercise in the [Data Cleaning](https://www.kaggle.com/learn/data-cleaning) course.  You can reference the tutorial at [this link](https://www.kaggle.com/alexisbcook/character-encodings).**\n",
    "\n",
    "---\n"
   ]
  },
  {
   "cell_type": "markdown",
   "id": "3929b202",
   "metadata": {
    "papermill": {
     "duration": 0.005485,
     "end_time": "2023-06-29T22:43:58.442145",
     "exception": false,
     "start_time": "2023-06-29T22:43:58.436660",
     "status": "completed"
    },
    "tags": []
   },
   "source": [
    "In this exercise, you'll apply what you learned in the **Character encodings** tutorial.\n",
    "\n",
    "# Setup\n",
    "\n",
    "The questions below will give you feedback on your work. Run the following cell to set up the feedback system."
   ]
  },
  {
   "cell_type": "code",
   "execution_count": 1,
   "id": "acaf298c",
   "metadata": {
    "execution": {
     "iopub.execute_input": "2023-06-29T22:43:58.456513Z",
     "iopub.status.busy": "2023-06-29T22:43:58.455643Z",
     "iopub.status.idle": "2023-06-29T22:43:58.555150Z",
     "shell.execute_reply": "2023-06-29T22:43:58.553885Z"
    },
    "papermill": {
     "duration": 0.110261,
     "end_time": "2023-06-29T22:43:58.558219",
     "exception": false,
     "start_time": "2023-06-29T22:43:58.447958",
     "status": "completed"
    },
    "tags": []
   },
   "outputs": [
    {
     "name": "stdout",
     "output_type": "stream",
     "text": [
      "Setup Complete\n"
     ]
    }
   ],
   "source": [
    "from learntools.core import binder\n",
    "binder.bind(globals())\n",
    "from learntools.data_cleaning.ex4 import *\n",
    "print(\"Setup Complete\")"
   ]
  },
  {
   "cell_type": "markdown",
   "id": "70e0320b",
   "metadata": {
    "papermill": {
     "duration": 0.006101,
     "end_time": "2023-06-29T22:43:58.570581",
     "exception": false,
     "start_time": "2023-06-29T22:43:58.564480",
     "status": "completed"
    },
    "tags": []
   },
   "source": [
    "# Get our environment set up\n",
    "\n",
    "The first thing we'll need to do is load in the libraries we'll be using."
   ]
  },
  {
   "cell_type": "code",
   "execution_count": 2,
   "id": "42e48c50",
   "metadata": {
    "execution": {
     "iopub.execute_input": "2023-06-29T22:43:58.584459Z",
     "iopub.status.busy": "2023-06-29T22:43:58.584043Z",
     "iopub.status.idle": "2023-06-29T22:43:58.589171Z",
     "shell.execute_reply": "2023-06-29T22:43:58.588365Z"
    },
    "papermill": {
     "duration": 0.014411,
     "end_time": "2023-06-29T22:43:58.591165",
     "exception": false,
     "start_time": "2023-06-29T22:43:58.576754",
     "status": "completed"
    },
    "tags": []
   },
   "outputs": [],
   "source": [
    "# modules we'll use\n",
    "import pandas as pd\n",
    "import numpy as np\n",
    "\n",
    "# helpful character encoding module\n",
    "import charset_normalizer\n",
    "\n",
    "# set seed for reproducibility\n",
    "np.random.seed(0)"
   ]
  },
  {
   "cell_type": "markdown",
   "id": "a331d5f3",
   "metadata": {
    "papermill": {
     "duration": 0.005777,
     "end_time": "2023-06-29T22:43:58.603022",
     "exception": false,
     "start_time": "2023-06-29T22:43:58.597245",
     "status": "completed"
    },
    "tags": []
   },
   "source": [
    "# 1) What are encodings?\n",
    "\n",
    "You're working with a dataset composed of bytes.  Run the code cell below to print a sample entry."
   ]
  },
  {
   "cell_type": "code",
   "execution_count": 3,
   "id": "97487c02",
   "metadata": {
    "execution": {
     "iopub.execute_input": "2023-06-29T22:43:58.618715Z",
     "iopub.status.busy": "2023-06-29T22:43:58.617962Z",
     "iopub.status.idle": "2023-06-29T22:43:58.623479Z",
     "shell.execute_reply": "2023-06-29T22:43:58.622292Z"
    },
    "papermill": {
     "duration": 0.015326,
     "end_time": "2023-06-29T22:43:58.625962",
     "exception": false,
     "start_time": "2023-06-29T22:43:58.610636",
     "status": "completed"
    },
    "tags": []
   },
   "outputs": [
    {
     "name": "stdout",
     "output_type": "stream",
     "text": [
      "b'\\xa7A\\xa6n'\n",
      "data type: <class 'bytes'>\n"
     ]
    }
   ],
   "source": [
    "sample_entry = b'\\xa7A\\xa6n'\n",
    "print(sample_entry)\n",
    "print('data type:', type(sample_entry))"
   ]
  },
  {
   "cell_type": "markdown",
   "id": "04dd995c",
   "metadata": {
    "papermill": {
     "duration": 0.005668,
     "end_time": "2023-06-29T22:43:58.637657",
     "exception": false,
     "start_time": "2023-06-29T22:43:58.631989",
     "status": "completed"
    },
    "tags": []
   },
   "source": [
    "You notice that it doesn't use the standard UTF-8 encoding. \n",
    "\n",
    "Use the next code cell to create a variable `new_entry` that changes the encoding from `\"big5-tw\"` to `\"utf-8\"`.  `new_entry` should have the bytes datatype."
   ]
  },
  {
   "cell_type": "code",
   "execution_count": 4,
   "id": "b626d6bb",
   "metadata": {
    "execution": {
     "iopub.execute_input": "2023-06-29T22:43:58.651428Z",
     "iopub.status.busy": "2023-06-29T22:43:58.651017Z",
     "iopub.status.idle": "2023-06-29T22:43:58.660650Z",
     "shell.execute_reply": "2023-06-29T22:43:58.659872Z"
    },
    "papermill": {
     "duration": 0.019342,
     "end_time": "2023-06-29T22:43:58.663033",
     "exception": false,
     "start_time": "2023-06-29T22:43:58.643691",
     "status": "completed"
    },
    "tags": []
   },
   "outputs": [
    {
     "data": {
      "application/javascript": [
       "parent.postMessage({\"jupyterEvent\": \"custom.exercise_interaction\", \"data\": {\"outcomeType\": 1, \"valueTowardsCompletion\": 0.3333333333333333, \"interactionType\": 1, \"questionType\": 1, \"questionId\": \"1_EncodingsIntro\", \"learnToolsVersion\": \"0.3.4\", \"failureMessage\": \"\", \"exceptionClass\": \"\", \"trace\": \"\"}}, \"*\")"
      ],
      "text/plain": [
       "<IPython.core.display.Javascript object>"
      ]
     },
     "metadata": {},
     "output_type": "display_data"
    },
    {
     "data": {
      "text/markdown": [
       "<span style=\"color:#33cc33\">Correct</span>"
      ],
      "text/plain": [
       "Correct"
      ]
     },
     "metadata": {},
     "output_type": "display_data"
    }
   ],
   "source": [
    "new_entry = sample_entry.decode(\"big5-tw\").encode('utf-8')\n",
    "\n",
    "# Check your answer\n",
    "q1.check()"
   ]
  },
  {
   "cell_type": "code",
   "execution_count": 5,
   "id": "b1b88a2d",
   "metadata": {
    "execution": {
     "iopub.execute_input": "2023-06-29T22:43:58.677574Z",
     "iopub.status.busy": "2023-06-29T22:43:58.676654Z",
     "iopub.status.idle": "2023-06-29T22:43:58.681249Z",
     "shell.execute_reply": "2023-06-29T22:43:58.680284Z"
    },
    "papermill": {
     "duration": 0.014012,
     "end_time": "2023-06-29T22:43:58.683296",
     "exception": false,
     "start_time": "2023-06-29T22:43:58.669284",
     "status": "completed"
    },
    "tags": []
   },
   "outputs": [],
   "source": [
    "# Lines below will give you a hint or solution code\n",
    "#q1.hint()\n",
    "#q1.solution()"
   ]
  },
  {
   "cell_type": "markdown",
   "id": "91b011da",
   "metadata": {
    "papermill": {
     "duration": 0.005992,
     "end_time": "2023-06-29T22:43:58.695867",
     "exception": false,
     "start_time": "2023-06-29T22:43:58.689875",
     "status": "completed"
    },
    "tags": []
   },
   "source": [
    "# 2) Reading in files with encoding problems\n",
    "\n",
    "Use the code cell below to read in this file at path `\"../input/fatal-police-shootings-in-the-us/PoliceKillingsUS.csv\"`.  \n",
    "\n",
    "Figure out what the correct encoding should be and read in the file to a DataFrame `police_killings`."
   ]
  },
  {
   "cell_type": "code",
   "execution_count": 6,
   "id": "70152feb",
   "metadata": {
    "execution": {
     "iopub.execute_input": "2023-06-29T22:43:58.710270Z",
     "iopub.status.busy": "2023-06-29T22:43:58.709869Z",
     "iopub.status.idle": "2023-06-29T22:43:59.230749Z",
     "shell.execute_reply": "2023-06-29T22:43:59.229604Z"
    },
    "papermill": {
     "duration": 0.531033,
     "end_time": "2023-06-29T22:43:59.233183",
     "exception": false,
     "start_time": "2023-06-29T22:43:58.702150",
     "status": "completed"
    },
    "tags": []
   },
   "outputs": [
    {
     "name": "stdout",
     "output_type": "stream",
     "text": [
      "{'encoding': 'windows-1250', 'language': 'English', 'confidence': 1.0}\n"
     ]
    },
    {
     "data": {
      "application/javascript": [
       "parent.postMessage({\"jupyterEvent\": \"custom.exercise_interaction\", \"data\": {\"outcomeType\": 1, \"valueTowardsCompletion\": 0.3333333333333333, \"interactionType\": 1, \"questionType\": 1, \"questionId\": \"2_ReadIn\", \"learnToolsVersion\": \"0.3.4\", \"failureMessage\": \"\", \"exceptionClass\": \"\", \"trace\": \"\"}}, \"*\")"
      ],
      "text/plain": [
       "<IPython.core.display.Javascript object>"
      ]
     },
     "metadata": {},
     "output_type": "display_data"
    },
    {
     "data": {
      "text/markdown": [
       "<span style=\"color:#33cc33\">Correct</span>"
      ],
      "text/plain": [
       "Correct"
      ]
     },
     "metadata": {},
     "output_type": "display_data"
    }
   ],
   "source": [
    "# TODO: Load in the DataFrame correctly.\n",
    "with open (\"../input/fatal-police-shootings-in-the-us/PoliceKillingsUS.csv\",'rb') as rawdata:\n",
    "  result = charset_normalizer.detect(bytes(rawdata.read(100000)))\n",
    "    \n",
    "print(result)\n",
    "police_killings = pd.read_csv(\"../input/fatal-police-shootings-in-the-us/PoliceKillingsUS.csv\",encoding = result['encoding'])\n",
    "\n",
    "\n",
    "# Check your answer\n",
    "q2.check()"
   ]
  },
  {
   "cell_type": "markdown",
   "id": "2fdb6938",
   "metadata": {
    "papermill": {
     "duration": 0.006943,
     "end_time": "2023-06-29T22:43:59.247302",
     "exception": false,
     "start_time": "2023-06-29T22:43:59.240359",
     "status": "completed"
    },
    "tags": []
   },
   "source": [
    "Feel free to use any additional code cells for supplemental work.  To get credit for finishing this question, you'll need to run `q2.check()` and get a result of **Correct**."
   ]
  },
  {
   "cell_type": "code",
   "execution_count": 7,
   "id": "a0e27a30",
   "metadata": {
    "execution": {
     "iopub.execute_input": "2023-06-29T22:43:59.262686Z",
     "iopub.status.busy": "2023-06-29T22:43:59.262254Z",
     "iopub.status.idle": "2023-06-29T22:43:59.266908Z",
     "shell.execute_reply": "2023-06-29T22:43:59.265820Z"
    },
    "papermill": {
     "duration": 0.015077,
     "end_time": "2023-06-29T22:43:59.269125",
     "exception": false,
     "start_time": "2023-06-29T22:43:59.254048",
     "status": "completed"
    },
    "tags": []
   },
   "outputs": [],
   "source": [
    "# (Optional) Use this code cell for any additional work."
   ]
  },
  {
   "cell_type": "code",
   "execution_count": 8,
   "id": "84e7830c",
   "metadata": {
    "execution": {
     "iopub.execute_input": "2023-06-29T22:43:59.284793Z",
     "iopub.status.busy": "2023-06-29T22:43:59.284149Z",
     "iopub.status.idle": "2023-06-29T22:43:59.288136Z",
     "shell.execute_reply": "2023-06-29T22:43:59.287389Z"
    },
    "papermill": {
     "duration": 0.014158,
     "end_time": "2023-06-29T22:43:59.290150",
     "exception": false,
     "start_time": "2023-06-29T22:43:59.275992",
     "status": "completed"
    },
    "tags": []
   },
   "outputs": [],
   "source": [
    "# Lines below will give you a hint or solution code\n",
    "#q2.hint()\n",
    "#q2.solution()"
   ]
  },
  {
   "cell_type": "markdown",
   "id": "11722a52",
   "metadata": {
    "papermill": {
     "duration": 0.006646,
     "end_time": "2023-06-29T22:43:59.303713",
     "exception": false,
     "start_time": "2023-06-29T22:43:59.297067",
     "status": "completed"
    },
    "tags": []
   },
   "source": [
    "# 3) Saving your files with UTF-8 encoding\n",
    "\n",
    "Save a version of the police killings dataset to CSV with UTF-8 encoding.  Your answer will be marked correct after saving this file.  \n",
    "\n",
    "Note: When using the `to_csv()` method, supply only the name of the file (e.g., `\"my_file.csv\"`).  This saves the file at the filepath `\"/kaggle/working/my_file.csv\"`."
   ]
  },
  {
   "cell_type": "code",
   "execution_count": 9,
   "id": "e47702dc",
   "metadata": {
    "execution": {
     "iopub.execute_input": "2023-06-29T22:43:59.319825Z",
     "iopub.status.busy": "2023-06-29T22:43:59.319065Z",
     "iopub.status.idle": "2023-06-29T22:43:59.375844Z",
     "shell.execute_reply": "2023-06-29T22:43:59.374881Z"
    },
    "papermill": {
     "duration": 0.067281,
     "end_time": "2023-06-29T22:43:59.377941",
     "exception": false,
     "start_time": "2023-06-29T22:43:59.310660",
     "status": "completed"
    },
    "tags": []
   },
   "outputs": [
    {
     "data": {
      "application/javascript": [
       "parent.postMessage({\"jupyterEvent\": \"custom.exercise_interaction\", \"data\": {\"outcomeType\": 1, \"valueTowardsCompletion\": 0.3333333333333333, \"interactionType\": 1, \"questionType\": 2, \"questionId\": \"3_SaveCSV\", \"learnToolsVersion\": \"0.3.4\", \"failureMessage\": \"\", \"exceptionClass\": \"\", \"trace\": \"\"}}, \"*\")"
      ],
      "text/plain": [
       "<IPython.core.display.Javascript object>"
      ]
     },
     "metadata": {},
     "output_type": "display_data"
    },
    {
     "data": {
      "text/markdown": [
       "<span style=\"color:#33cc33\">Correct</span>"
      ],
      "text/plain": [
       "Correct"
      ]
     },
     "metadata": {},
     "output_type": "display_data"
    }
   ],
   "source": [
    "# TODO: Save the police killings dataset to CSV\n",
    "police_killings.to_csv(\"/kaggle/working/my_file.csv\")\n",
    "\n",
    "\n",
    "# Check your answer\n",
    "q3.check()"
   ]
  },
  {
   "cell_type": "code",
   "execution_count": 10,
   "id": "c683b0b3",
   "metadata": {
    "execution": {
     "iopub.execute_input": "2023-06-29T22:43:59.394328Z",
     "iopub.status.busy": "2023-06-29T22:43:59.393964Z",
     "iopub.status.idle": "2023-06-29T22:43:59.397984Z",
     "shell.execute_reply": "2023-06-29T22:43:59.397201Z"
    },
    "papermill": {
     "duration": 0.014514,
     "end_time": "2023-06-29T22:43:59.400006",
     "exception": false,
     "start_time": "2023-06-29T22:43:59.385492",
     "status": "completed"
    },
    "tags": []
   },
   "outputs": [],
   "source": [
    "# Lines below will give you a hint or solution code\n",
    "#q3.hint()\n",
    "#q3.solution()"
   ]
  },
  {
   "cell_type": "markdown",
   "id": "d5607e45",
   "metadata": {
    "papermill": {
     "duration": 0.007043,
     "end_time": "2023-06-29T22:43:59.414361",
     "exception": false,
     "start_time": "2023-06-29T22:43:59.407318",
     "status": "completed"
    },
    "tags": []
   },
   "source": [
    "# (Optional) More practice\n",
    "\n",
    "Check out [this dataset of files in different character encodings](https://www.kaggle.com/rtatman/character-encoding-examples). Can you read in all the files with their original encodings and them save them out as UTF-8 files?\n",
    "\n",
    "If you have a file that's in UTF-8 but has just a couple of weird-looking characters in it, you can try out the [ftfy module](https://ftfy.readthedocs.io/en/latest/#) and see if it helps. \n",
    "\n",
    "# Keep going\n",
    "\n",
    "In the final lesson, learn how to [**clean up inconsistent text entries**](https://www.kaggle.com/alexisbcook/inconsistent-data-entry) in your dataset."
   ]
  },
  {
   "cell_type": "markdown",
   "id": "f13f188f",
   "metadata": {
    "papermill": {
     "duration": 0.006987,
     "end_time": "2023-06-29T22:43:59.428685",
     "exception": false,
     "start_time": "2023-06-29T22:43:59.421698",
     "status": "completed"
    },
    "tags": []
   },
   "source": [
    "---\n",
    "\n",
    "\n",
    "\n",
    "\n",
    "*Have questions or comments? Visit the [course discussion forum](https://www.kaggle.com/learn/data-cleaning/discussion) to chat with other learners.*"
   ]
  }
 ],
 "metadata": {
  "kernelspec": {
   "display_name": "Python 3",
   "language": "python",
   "name": "python3"
  },
  "language_info": {
   "codemirror_mode": {
    "name": "ipython",
    "version": 3
   },
   "file_extension": ".py",
   "mimetype": "text/x-python",
   "name": "python",
   "nbconvert_exporter": "python",
   "pygments_lexer": "ipython3",
   "version": "3.10.10"
  },
  "papermill": {
   "default_parameters": {},
   "duration": 13.929068,
   "end_time": "2023-06-29T22:44:00.259400",
   "environment_variables": {},
   "exception": null,
   "input_path": "__notebook__.ipynb",
   "output_path": "__notebook__.ipynb",
   "parameters": {},
   "start_time": "2023-06-29T22:43:46.330332",
   "version": "2.4.0"
  }
 },
 "nbformat": 4,
 "nbformat_minor": 5
}
