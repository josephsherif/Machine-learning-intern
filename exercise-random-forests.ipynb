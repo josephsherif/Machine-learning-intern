{
 "cells": [
  {
   "cell_type": "markdown",
   "id": "0ecbacc8",
   "metadata": {
    "papermill": {
     "duration": 0.003986,
     "end_time": "2023-06-30T16:57:03.723084",
     "exception": false,
     "start_time": "2023-06-30T16:57:03.719098",
     "status": "completed"
    },
    "tags": []
   },
   "source": [
    "**This notebook is an exercise in the [Introduction to Machine Learning](https://www.kaggle.com/learn/intro-to-machine-learning) course.  You can reference the tutorial at [this link](https://www.kaggle.com/dansbecker/random-forests).**\n",
    "\n",
    "---\n"
   ]
  },
  {
   "cell_type": "markdown",
   "id": "413140f2",
   "metadata": {
    "papermill": {
     "duration": 0.002986,
     "end_time": "2023-06-30T16:57:03.729624",
     "exception": false,
     "start_time": "2023-06-30T16:57:03.726638",
     "status": "completed"
    },
    "tags": []
   },
   "source": [
    "## Recap\n",
    "Here's the code you've written so far."
   ]
  },
  {
   "cell_type": "code",
   "execution_count": 1,
   "id": "4186f940",
   "metadata": {
    "execution": {
     "iopub.execute_input": "2023-06-30T16:57:03.738301Z",
     "iopub.status.busy": "2023-06-30T16:57:03.737338Z",
     "iopub.status.idle": "2023-06-30T16:57:05.385443Z",
     "shell.execute_reply": "2023-06-30T16:57:05.384556Z"
    },
    "papermill": {
     "duration": 1.655362,
     "end_time": "2023-06-30T16:57:05.388140",
     "exception": false,
     "start_time": "2023-06-30T16:57:03.732778",
     "status": "completed"
    },
    "tags": []
   },
   "outputs": [
    {
     "name": "stdout",
     "output_type": "stream",
     "text": [
      "Validation MAE when not specifying max_leaf_nodes: 29,653\n",
      "Validation MAE for best value of max_leaf_nodes: 27,283\n",
      "\n",
      "Setup complete\n"
     ]
    }
   ],
   "source": [
    "# Code you have previously used to load data\n",
    "import pandas as pd\n",
    "from sklearn.metrics import mean_absolute_error\n",
    "from sklearn.model_selection import train_test_split\n",
    "from sklearn.tree import DecisionTreeRegressor\n",
    "\n",
    "\n",
    "# Path of the file to read\n",
    "iowa_file_path = '../input/home-data-for-ml-course/train.csv'\n",
    "\n",
    "home_data = pd.read_csv(iowa_file_path)\n",
    "# Create target object and call it y\n",
    "y = home_data.SalePrice\n",
    "# Create X\n",
    "features = ['LotArea', 'YearBuilt', '1stFlrSF', '2ndFlrSF', 'FullBath', 'BedroomAbvGr', 'TotRmsAbvGrd']\n",
    "X = home_data[features]\n",
    "\n",
    "# Split into validation and training data\n",
    "train_X, val_X, train_y, val_y = train_test_split(X, y, random_state=1)\n",
    "\n",
    "# Specify Model\n",
    "iowa_model = DecisionTreeRegressor(random_state=1)\n",
    "# Fit Model\n",
    "iowa_model.fit(train_X, train_y)\n",
    "\n",
    "# Make validation predictions and calculate mean absolute error\n",
    "val_predictions = iowa_model.predict(val_X)\n",
    "val_mae = mean_absolute_error(val_predictions, val_y)\n",
    "print(\"Validation MAE when not specifying max_leaf_nodes: {:,.0f}\".format(val_mae))\n",
    "\n",
    "# Using best value for max_leaf_nodes\n",
    "iowa_model = DecisionTreeRegressor(max_leaf_nodes=100, random_state=1)\n",
    "iowa_model.fit(train_X, train_y)\n",
    "val_predictions = iowa_model.predict(val_X)\n",
    "val_mae = mean_absolute_error(val_predictions, val_y)\n",
    "print(\"Validation MAE for best value of max_leaf_nodes: {:,.0f}\".format(val_mae))\n",
    "\n",
    "\n",
    "# Set up code checking\n",
    "from learntools.core import binder\n",
    "binder.bind(globals())\n",
    "from learntools.machine_learning.ex6 import *\n",
    "print(\"\\nSetup complete\")"
   ]
  },
  {
   "cell_type": "markdown",
   "id": "909fc041",
   "metadata": {
    "papermill": {
     "duration": 0.00318,
     "end_time": "2023-06-30T16:57:05.394727",
     "exception": false,
     "start_time": "2023-06-30T16:57:05.391547",
     "status": "completed"
    },
    "tags": []
   },
   "source": [
    "# Exercises\n",
    "Data science isn't always this easy. But replacing the decision tree with a Random Forest is going to be an easy win."
   ]
  },
  {
   "cell_type": "markdown",
   "id": "c3383e52",
   "metadata": {
    "papermill": {
     "duration": 0.002967,
     "end_time": "2023-06-30T16:57:05.400946",
     "exception": false,
     "start_time": "2023-06-30T16:57:05.397979",
     "status": "completed"
    },
    "tags": []
   },
   "source": [
    "## Step 1: Use a Random Forest"
   ]
  },
  {
   "cell_type": "code",
   "execution_count": 2,
   "id": "8e3fb25c",
   "metadata": {
    "execution": {
     "iopub.execute_input": "2023-06-30T16:57:05.409280Z",
     "iopub.status.busy": "2023-06-30T16:57:05.408848Z",
     "iopub.status.idle": "2023-06-30T16:57:06.084028Z",
     "shell.execute_reply": "2023-06-30T16:57:06.082799Z"
    },
    "papermill": {
     "duration": 0.682462,
     "end_time": "2023-06-30T16:57:06.086640",
     "exception": false,
     "start_time": "2023-06-30T16:57:05.404178",
     "status": "completed"
    },
    "tags": []
   },
   "outputs": [
    {
     "name": "stdout",
     "output_type": "stream",
     "text": [
      "Validation MAE for Random Forest Model: 21857.15912981083\n"
     ]
    },
    {
     "data": {
      "application/javascript": [
       "parent.postMessage({\"jupyterEvent\": \"custom.exercise_interaction\", \"data\": {\"outcomeType\": 1, \"valueTowardsCompletion\": 1.0, \"interactionType\": 1, \"questionType\": 2, \"questionId\": \"1_CheckRfScore\", \"learnToolsVersion\": \"0.3.4\", \"failureMessage\": \"\", \"exceptionClass\": \"\", \"trace\": \"\"}}, \"*\")"
      ],
      "text/plain": [
       "<IPython.core.display.Javascript object>"
      ]
     },
     "metadata": {},
     "output_type": "display_data"
    },
    {
     "data": {
      "text/markdown": [
       "<span style=\"color:#33cc33\">Correct</span>"
      ],
      "text/plain": [
       "Correct"
      ]
     },
     "metadata": {},
     "output_type": "display_data"
    }
   ],
   "source": [
    "from sklearn.ensemble import RandomForestRegressor\n",
    "\n",
    "# Define the model. Set random_state to 1\n",
    "rf_model = RandomForestRegressor(random_state = 1)\n",
    "\n",
    "\n",
    "# fit your model\n",
    "rf_model.fit(train_X,train_y)\n",
    "\n",
    "# Calculate the mean absolute error of your Random Forest model on the validation data\n",
    "pred = rf_model.predict(val_X)\n",
    "rf_val_mae = mean_absolute_error(val_y,pred)\n",
    "\n",
    "print(\"Validation MAE for Random Forest Model: {}\".format(rf_val_mae))\n",
    "\n",
    "# Check your answer\n",
    "step_1.check()"
   ]
  },
  {
   "cell_type": "code",
   "execution_count": 3,
   "id": "b7574401",
   "metadata": {
    "execution": {
     "iopub.execute_input": "2023-06-30T16:57:06.095687Z",
     "iopub.status.busy": "2023-06-30T16:57:06.095325Z",
     "iopub.status.idle": "2023-06-30T16:57:06.099510Z",
     "shell.execute_reply": "2023-06-30T16:57:06.098494Z"
    },
    "papermill": {
     "duration": 0.011247,
     "end_time": "2023-06-30T16:57:06.101731",
     "exception": false,
     "start_time": "2023-06-30T16:57:06.090484",
     "status": "completed"
    },
    "tags": []
   },
   "outputs": [],
   "source": [
    "# The lines below will show you a hint or the solution.\n",
    "# step_1.hint() \n",
    "# step_1.solution()\n"
   ]
  },
  {
   "cell_type": "markdown",
   "id": "f03e4228",
   "metadata": {
    "papermill": {
     "duration": 0.003486,
     "end_time": "2023-06-30T16:57:06.109154",
     "exception": false,
     "start_time": "2023-06-30T16:57:06.105668",
     "status": "completed"
    },
    "tags": []
   },
   "source": [
    "So far, you have followed specific instructions at each step of your project. This helped learn key ideas and build your first model, but now you know enough to try things on your own. \n",
    "\n",
    "Machine Learning competitions are a great way to try your own ideas and learn more as you independently navigate a machine learning project. \n",
    "\n",
    "# Keep Going\n",
    "\n",
    "You are ready for **[Machine Learning Competitions](https://www.kaggle.com/alexisbcook/machine-learning-competitions).**\n"
   ]
  },
  {
   "cell_type": "markdown",
   "id": "a482143a",
   "metadata": {
    "papermill": {
     "duration": 0.003413,
     "end_time": "2023-06-30T16:57:06.116217",
     "exception": false,
     "start_time": "2023-06-30T16:57:06.112804",
     "status": "completed"
    },
    "tags": []
   },
   "source": [
    "---\n",
    "\n",
    "\n",
    "\n",
    "\n",
    "*Have questions or comments? Visit the [course discussion forum](https://www.kaggle.com/learn/intro-to-machine-learning/discussion) to chat with other learners.*"
   ]
  }
 ],
 "metadata": {
  "kernelspec": {
   "display_name": "Python 3",
   "language": "python",
   "name": "python3"
  },
  "language_info": {
   "codemirror_mode": {
    "name": "ipython",
    "version": 3
   },
   "file_extension": ".py",
   "mimetype": "text/x-python",
   "name": "python",
   "nbconvert_exporter": "python",
   "pygments_lexer": "ipython3",
   "version": "3.10.10"
  },
  "papermill": {
   "default_parameters": {},
   "duration": 15.086363,
   "end_time": "2023-06-30T16:57:07.041152",
   "environment_variables": {},
   "exception": null,
   "input_path": "__notebook__.ipynb",
   "output_path": "__notebook__.ipynb",
   "parameters": {},
   "start_time": "2023-06-30T16:56:51.954789",
   "version": "2.4.0"
  }
 },
 "nbformat": 4,
 "nbformat_minor": 5
}
